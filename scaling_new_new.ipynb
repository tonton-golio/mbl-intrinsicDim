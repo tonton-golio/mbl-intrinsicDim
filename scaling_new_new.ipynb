{
 "cells": [
  {
   "cell_type": "markdown",
   "id": "899f4141",
   "metadata": {},
   "source": [
    "# Scaling from mendes santos paper\n",
    "1. **import data** \n",
    "1. **define scaling functions**\n",
    "1. **make parameter mesh**\n",
    "1. **plot 3d scatter**"
   ]
  },
  {
   "cell_type": "code",
   "execution_count": 379,
   "id": "a87c160a",
   "metadata": {},
   "outputs": [],
   "source": [
    "import numpy as np\n",
    "import matplotlib.pyplot as plt\n",
    "from fssa import quality\n",
    "from tqdm import tqdm\n",
    "import plotly.graph_objects as go\n",
    "import numpy as np\n",
    "import seaborn as sns\n",
    "from scipy.optimize import minimize"
   ]
  },
  {
   "cell_type": "markdown",
   "id": "0119474c",
   "metadata": {},
   "source": [
    "## Import data"
   ]
  },
  {
   "cell_type": "code",
   "execution_count": 397,
   "id": "f0e66963",
   "metadata": {},
   "outputs": [],
   "source": [
    "rho = np.linspace(0.1,6.1,31)\n",
    "Ls= np.arange(8,16,2).astype(float)\n",
    "\n",
    "Y = np.zeros((len(Ls),len(rho)))\n",
    "dY = np.zeros((len(Ls),len(rho)))\n",
    "for index, L in enumerate(Ls):\n",
    "    data = np.load('data/cluster/'+'2nn-{}-combined.npy'.format(int(L)))\n",
    "    Y[index] = np.mean(data,axis=0)\n",
    "    dY[index] = np.std(data,axis=0)\n",
    "    \n",
    "\n",
    "rho = rho[5:]\n",
    "Y = Y[:,5:]\n",
    "dY = dY[:,5:]"
   ]
  },
  {
   "cell_type": "markdown",
   "id": "e2e149d6",
   "metadata": {},
   "source": [
    "## scale data func."
   ]
  },
  {
   "cell_type": "code",
   "execution_count": 398,
   "id": "48745409",
   "metadata": {},
   "outputs": [],
   "source": [
    "def x_dat_2_new(rho, rho_c, l, nu):\n",
    "    return np.power(l, 1./nu) * (rho-rho_c)\n",
    "\n",
    "def x_BKT(rho, rho_c, l, nu):\n",
    "    return np.power(l* np.exp(abs((rho-rho_c))), 1./nu)\n",
    "\n",
    "def x_BKT(rho, rho_c, l, nu):\n",
    "    return np.power(l* np.exp(np.sqrt(abs(rho-rho_c))), 1./nu)\n",
    "\n",
    "def x_BKT(rho, rho_c, l, nu):\n",
    "    return l*np.exp(-1.4/np.sqrt(abs(rho-rho_c)))\n",
    "\n",
    "\n",
    "def y_dat_new(y, l, zeta,nu):\n",
    "    return np.power(l, -zeta/nu) * y\n",
    "\n",
    "\n",
    "l_mesh_local, rho_mesh_local = np.meshgrid(Ls, rho, indexing='ij')\n",
    "\n",
    "def goal_function(rho_c = 3., nu=2.2, zeta=1.2):\n",
    "\n",
    "    #XX = x_dat_2_new(rho=rho_mesh_local, rho_c=rho_c, l=l_mesh_local ,nu=nu) \n",
    "    XX = x_BKT(rho=rho_mesh_local, rho_c=rho_c, l=l_mesh_local ,nu=nu) \n",
    "    \n",
    "    \n",
    "    YY = y_dat_new(y=Y, l=l_mesh_local, zeta=zeta, nu=nu)\n",
    "    #print('y',YY)\n",
    "    dYY = y_dat_new(y=dY, l=l_mesh_local, zeta=zeta, nu=nu)\n",
    "    #print('dy',dYY)\n",
    "    \n",
    "    # sorting for BKT\n",
    "    sorting_index = np.argsort(XX)[0]\n",
    "    #print(sorting_index)\n",
    "    \n",
    "    XX = XX[:,sorting_index]\n",
    "    YY = YY[:,sorting_index]\n",
    "    dYY = dYY[:, sorting_index]\n",
    "    \n",
    "    \n",
    "    return quality(XX,YY,dYY)\n",
    "    "
   ]
  },
  {
   "cell_type": "code",
   "execution_count": 399,
   "id": "8c5d5e83",
   "metadata": {},
   "outputs": [
    {
     "data": {
      "text/plain": [
       "1.2955174955843305"
      ]
     },
     "execution_count": 399,
     "metadata": {},
     "output_type": "execute_result"
    }
   ],
   "source": [
    "goal_function()"
   ]
  },
  {
   "cell_type": "code",
   "execution_count": 400,
   "id": "bd0906bd",
   "metadata": {},
   "outputs": [
    {
     "name": "stdout",
     "output_type": "stream",
     "text": [
      "1\n",
      "1.5\n",
      "2\n",
      "nu = [1, 1.5, 2] (vertical)\n",
      "zeta = [1.5, 2, 2.5] (horizontal)\n"
     ]
    },
    {
     "data": {
      "image/png": "[encoded data removed]",
      "text/plain": [
       "<Figure size 864x288 with 9 Axes>"
      ]
     },
     "metadata": {
      "needs_background": "light"
     },
     "output_type": "display_data"
    }
   ],
   "source": [
    "fig, ax = plt.subplots(3,3, figsize=(12,4), sharex=True)\n",
    "\n",
    "for index0, nu in enumerate([1,1.5,2]):\n",
    "    print(nu)\n",
    "    for index1, zeta in enumerate([1.5,2,2.5]):\n",
    "        for r in np.linspace(1,7,10):\n",
    "            ax[index0,index1].scatter(r,goal_function(r,nu,zeta), c='r', alpha=.5)\n",
    "            \n",
    "print('nu = [1, 1.5, 2] (vertical)')\n",
    "print('zeta = [1.5, 2, 2.5] (horizontal)')\n",
    "\n",
    "ax[2,1].set_xlabel('Critical Disorder', fontsize=16)\n",
    "\n",
    "\n",
    "\n",
    "\n",
    "            \n",
    "plt.tight_layout()"
   ]
  },
  {
   "cell_type": "markdown",
   "id": "966512c4",
   "metadata": {},
   "source": [
    "## Free param mesh"
   ]
  },
  {
   "cell_type": "code",
   "execution_count": 401,
   "id": "8fdfb1ea",
   "metadata": {},
   "outputs": [],
   "source": [
    "rho_c_for_mesh = np.linspace(3.4,4.0,5)\n",
    "nu_for_mesh = np.linspace(1.8,2.2,3)\n",
    "zeta_for_mesh = np.linspace(1.,1.7,3)\n",
    "\n",
    "rho_c_mesh, nu_mesh, zeta_mesh = np.meshgrid(rho_c_for_mesh,nu_for_mesh,zeta_for_mesh,indexing='ij')\n",
    "quality_mesh = np.zeros(np.shape(rho_c_mesh))"
   ]
  },
  {
   "cell_type": "markdown",
   "id": "624ace53",
   "metadata": {},
   "source": [
    "## calculate quality for each mesh point"
   ]
  },
  {
   "cell_type": "code",
   "execution_count": 402,
   "id": "a8b50f74",
   "metadata": {},
   "outputs": [
    {
     "name": "stderr",
     "output_type": "stream",
     "text": [
      "1it [00:00,  4.99it/s]<ipython-input-398-ad943ca7fea2>:11: RuntimeWarning:\n",
      "\n",
      "divide by zero encountered in true_divide\n",
      "\n",
      "5it [00:00, 10.80it/s]\n"
     ]
    }
   ],
   "source": [
    "real_data = []\n",
    "\n",
    "for index3, rho_3, nu_3, z_3 in tqdm(zip(range(len(rho_c_mesh)),rho_c_mesh , nu_mesh, zeta_mesh)):\n",
    "    for index2, rho_2, nu_2, z_2 in zip(range(len(rho_3)),rho_3, nu_3, z_3):\n",
    "        for index1, rho_1, nu_1, z_1 in zip(range(len(rho_2)),rho_2, nu_2, z_2):\n",
    "            q = goal_function(rho_1, nu_1, z_1)\n",
    "            quality_mesh[index3,index2,index1] = q\n",
    "            real_data.append([rho_1, nu_1, z_1, q])\n",
    "            #print(quality_mesh)\n",
    "            \n",
    "real_data = np.array(real_data)"
   ]
  },
  {
   "cell_type": "code",
   "execution_count": 403,
   "id": "9693c769",
   "metadata": {},
   "outputs": [
    {
     "data": {
      "text/plain": [
       "0"
      ]
     },
     "execution_count": 403,
     "metadata": {},
     "output_type": "execute_result"
    }
   ],
   "source": [
    "sum(real_data[:,3] != quality_mesh.flatten())"
   ]
  },
  {
   "cell_type": "markdown",
   "id": "949e7a81",
   "metadata": {},
   "source": [
    "## Plot"
   ]
  },
  {
   "cell_type": "code",
   "execution_count": 404,
   "id": "edeff3c4",
   "metadata": {},
   "outputs": [
    {
     "data": {
      "application/vnd.plotly.v1+json": {
       "config": {
        "plotlyServerURL": "https://plot.ly"
       },
       "data": [
        {
         "marker": {
          "color": [
           7.3949063486670275,
           9.382433481606938,
           10.413077165572739,
           6.765934849334335,
           8.68497840343604,
           10.078257544000326,
           6.254473513876521,
           8.040198759316738,
           9.56716479631585,
           16.610099895793965,
           17.422519407028872,
           15.464600423719856,
           15.88313807759202,
           17.455704593165034,
           16.71457888042561,
           15.162632313717674,
           17.15364177306195,
           17.32562417163486,
           7.081768023937887,
           7.539881338520362,
           7.17223054237626,
           6.814967213874203,
           7.459298375319071,
           7.4505397133961395,
           6.561519129351485,
           7.301481821729582,
           7.53920680654781,
           18.850035302365193,
           17.723445825903482,
           14.367675635120333,
           18.61936021692008,
           18.49624534712251,
           16.177655402481026,
           18.24954823849949,
           18.82129144909876,
           17.41767162688543,
           11.499790055248331,
           9.506873025598873,
           7.041413401176201,
           11.847378590742082,
           10.384346675332477,
           8.24096417588763,
           12.032754539173478,
           11.01178232915434,
           9.225093226300828
          ],
          "colorscale": [
           [
            0,
            "#000004"
           ],
           [
            0.1111111111111111,
            "#1b0c41"
           ],
           [
            0.2222222222222222,
            "#4a0c6b"
           ],
           [
            0.3333333333333333,
            "#781c6d"
           ],
           [
            0.4444444444444444,
            "#a52c60"
           ],
           [
            0.5555555555555556,
            "#cf4446"
           ],
           [
            0.6666666666666666,
            "#ed6925"
           ],
           [
            0.7777777777777778,
            "#fb9b06"
           ],
           [
            0.8888888888888888,
            "#f7d13d"
           ],
           [
            1,
            "#fcffa4"
           ]
          ],
          "opacity": 0.8,
          "size": [
           7.3949063486670275,
           9.382433481606938,
           10.413077165572739,
           6.765934849334335,
           8.68497840343604,
           10.078257544000326,
           6.254473513876521,
           8.040198759316738,
           9.56716479631585,
           16.610099895793965,
           17.422519407028872,
           15.464600423719856,
           15.88313807759202,
           17.455704593165034,
           16.71457888042561,
           15.162632313717674,
           17.15364177306195,
           17.32562417163486,
           7.081768023937887,
           7.539881338520362,
           7.17223054237626,
           6.814967213874203,
           7.459298375319071,
           7.4505397133961395,
           6.561519129351485,
           7.301481821729582,
           7.53920680654781,
           18.850035302365193,
           17.723445825903482,
           14.367675635120333,
           18.61936021692008,
           18.49624534712251,
           16.177655402481026,
           18.24954823849949,
           18.82129144909876,
           17.41767162688543,
           11.499790055248331,
           9.506873025598873,
           7.041413401176201,
           11.847378590742082,
           10.384346675332477,
           8.24096417588763,
           12.032754539173478,
           11.01178232915434,
           9.225093226300828
          ]
         },
         "mode": "markers",
         "type": "scatter3d",
         "x": [
          3.4,
          3.4,
          3.4,
          3.4,
          3.4,
          3.4,
          3.4,
          3.4,
          3.4,
          3.55,
          3.55,
          3.55,
          3.55,
          3.55,
          3.55,
          3.55,
          3.55,
          3.55,
          3.7,
          3.7,
          3.7,
          3.7,
          3.7,
          3.7,
          3.7,
          3.7,
          3.7,
          3.85,
          3.85,
          3.85,
          3.85,
          3.85,
          3.85,
          3.85,
          3.85,
          3.85,
          4,
          4,
          4,
          4,
          4,
          4,
          4,
          4,
          4
         ],
         "y": [
          1.8,
          1.8,
          1.8,
          2,
          2,
          2,
          2.2,
          2.2,
          2.2,
          1.8,
          1.8,
          1.8,
          2,
          2,
          2,
          2.2,
          2.2,
          2.2,
          1.8,
          1.8,
          1.8,
          2,
          2,
          2,
          2.2,
          2.2,
          2.2,
          1.8,
          1.8,
          1.8,
          2,
          2,
          2,
          2.2,
          2.2,
          2.2,
          1.8,
          1.8,
          1.8,
          2,
          2,
          2,
          2.2,
          2.2,
          2.2
         ],
         "z": [
          1,
          1.35,
          1.7,
          1,
          1.35,
          1.7,
          1,
          1.35,
          1.7,
          1,
          1.35,
          1.7,
          1,
          1.35,
          1.7,
          1,
          1.35,
          1.7,
          1,
          1.35,
          1.7,
          1,
          1.35,
          1.7,
          1,
          1.35,
          1.7,
          1,
          1.35,
          1.7,
          1,
          1.35,
          1.7,
          1,
          1.35,
          1.7,
          1,
          1.35,
          1.7,
          1,
          1.35,
          1.7,
          1,
          1.35,
          1.7
         ]
        }
       ],
       "layout": {
        "template": {
         "data": {
          "bar": [
           {
            "error_x": {
             "color": "#2a3f5f"
            },
            "error_y": {
             "color": "#2a3f5f"
            },
            "marker": {
             "line": {
              "color": "#E5ECF6",
              "width": 0.5
             },
             "pattern": {
              "fillmode": "overlay",
              "size": 10,
              "solidity": 0.2
             }
            },
            "type": "bar"
           }
          ],
          "barpolar": [
           {
            "marker": {
             "line": {
              "color": "#E5ECF6",
              "width": 0.5
             },
             "pattern": {
              "fillmode": "overlay",
              "size": 10,
              "solidity": 0.2
             }
            },
            "type": "barpolar"
           }
          ],
          "carpet": [
           {
            "aaxis": {
             "endlinecolor": "#2a3f5f",
             "gridcolor": "white",
             "linecolor": "white",
             "minorgridcolor": "white",
             "startlinecolor": "#2a3f5f"
            },
            "baxis": {
             "endlinecolor": "#2a3f5f",
             "gridcolor": "white",
             "linecolor": "white",
             "minorgridcolor": "white",
             "startlinecolor": "#2a3f5f"
            },
            "type": "carpet"
           }
          ],
          "choropleth": [
           {
            "colorbar": {
             "outlinewidth": 0,
             "ticks": ""
            },
            "type": "choropleth"
           }
          ],
          "contour": [
           {
            "colorbar": {
             "outlinewidth": 0,
             "ticks": ""
            },
            "colorscale": [
             [
              0,
              "#0d0887"
             ],
             [
              0.1111111111111111,
              "#46039f"
             ],
             [
              0.2222222222222222,
              "#7201a8"
             ],
             [
              0.3333333333333333,
              "#9c179e"
             ],
             [
              0.4444444444444444,
              "#bd3786"
             ],
             [
              0.5555555555555556,
              "#d8576b"
             ],
             [
              0.6666666666666666,
              "#ed7953"
             ],
             [
              0.7777777777777778,
              "#fb9f3a"
             ],
             [
              0.8888888888888888,
              "#fdca26"
             ],
             [
              1,
              "#f0f921"
             ]
            ],
            "type": "contour"
           }
          ],
          "contourcarpet": [
           {
            "colorbar": {
             "outlinewidth": 0,
             "ticks": ""
            },
            "type": "contourcarpet"
           }
          ],
          "heatmap": [
           {
            "colorbar": {
             "outlinewidth": 0,
             "ticks": ""
            },
            "colorscale": [
             [
              0,
              "#0d0887"
             ],
             [
              0.1111111111111111,
              "#46039f"
             ],
             [
              0.2222222222222222,
              "#7201a8"
             ],
             [
              0.3333333333333333,
              "#9c179e"
             ],
             [
              0.4444444444444444,
              "#bd3786"
             ],
             [
              0.5555555555555556,
              "#d8576b"
             ],
             [
              0.6666666666666666,
              "#ed7953"
             ],
             [
              0.7777777777777778,
              "#fb9f3a"
             ],
             [
              0.8888888888888888,
              "#fdca26"
             ],
             [
              1,
              "#f0f921"
             ]
            ],
            "type": "heatmap"
           }
          ],
          "heatmapgl": [
           {
            "colorbar": {
             "outlinewidth": 0,
             "ticks": ""
            },
            "colorscale": [
             [
              0,
              "#0d0887"
             ],
             [
              0.1111111111111111,
              "#46039f"
             ],
             [
              0.2222222222222222,
              "#7201a8"
             ],
             [
              0.3333333333333333,
              "#9c179e"
             ],
             [
              0.4444444444444444,
              "#bd3786"
             ],
             [
              0.5555555555555556,
              "#d8576b"
             ],
             [
              0.6666666666666666,
              "#ed7953"
             ],
             [
              0.7777777777777778,
              "#fb9f3a"
             ],
             [
              0.8888888888888888,
              "#fdca26"
             ],
             [
              1,
              "#f0f921"
             ]
            ],
            "type": "heatmapgl"
           }
          ],
          "histogram": [
           {
            "marker": {
             "pattern": {
              "fillmode": "overlay",
              "size": 10,
              "solidity": 0.2
             }
            },
            "type": "histogram"
           }
          ],
          "histogram2d": [
           {
            "colorbar": {
             "outlinewidth": 0,
             "ticks": ""
            },
            "colorscale": [
             [
              0,
              "#0d0887"
             ],
             [
              0.1111111111111111,
              "#46039f"
             ],
             [
              0.2222222222222222,
              "#7201a8"
             ],
             [
              0.3333333333333333,
              "#9c179e"
             ],
             [
              0.4444444444444444,
              "#bd3786"
             ],
             [
              0.5555555555555556,
              "#d8576b"
             ],
             [
              0.6666666666666666,
              "#ed7953"
             ],
             [
              0.7777777777777778,
              "#fb9f3a"
             ],
             [
              0.8888888888888888,
              "#fdca26"
             ],
             [
              1,
              "#f0f921"
             ]
            ],
            "type": "histogram2d"
           }
          ],
          "histogram2dcontour": [
           {
            "colorbar": {
             "outlinewidth": 0,
             "ticks": ""
            },
            "colorscale": [
             [
              0,
              "#0d0887"
             ],
             [
              0.1111111111111111,
              "#46039f"
             ],
             [
              0.2222222222222222,
              "#7201a8"
             ],
             [
              0.3333333333333333,
              "#9c179e"
             ],
             [
              0.4444444444444444,
              "#bd3786"
             ],
             [
              0.5555555555555556,
              "#d8576b"
             ],
             [
              0.6666666666666666,
              "#ed7953"
             ],
             [
              0.7777777777777778,
              "#fb9f3a"
             ],
             [
              0.8888888888888888,
              "#fdca26"
             ],
             [
              1,
              "#f0f921"
             ]
            ],
            "type": "histogram2dcontour"
           }
          ],
          "mesh3d": [
           {
            "colorbar": {
             "outlinewidth": 0,
             "ticks": ""
            },
            "type": "mesh3d"
           }
          ],
          "parcoords": [
           {
            "line": {
             "colorbar": {
              "outlinewidth": 0,
              "ticks": ""
             }
            },
            "type": "parcoords"
           }
          ],
          "pie": [
           {
            "automargin": true,
            "type": "pie"
           }
          ],
          "scatter": [
           {
            "marker": {
             "colorbar": {
              "outlinewidth": 0,
              "ticks": ""
             }
            },
            "type": "scatter"
           }
          ],
          "scatter3d": [
           {
            "line": {
             "colorbar": {
              "outlinewidth": 0,
              "ticks": ""
             }
            },
            "marker": {
             "colorbar": {
              "outlinewidth": 0,
              "ticks": ""
             }
            },
            "type": "scatter3d"
           }
          ],
          "scattercarpet": [
           {
            "marker": {
             "colorbar": {
              "outlinewidth": 0,
              "ticks": ""
             }
            },
            "type": "scattercarpet"
           }
          ],
          "scattergeo": [
           {
            "marker": {
             "colorbar": {
              "outlinewidth": 0,
              "ticks": ""
             }
            },
            "type": "scattergeo"
           }
          ],
          "scattergl": [
           {
            "marker": {
             "colorbar": {
              "outlinewidth": 0,
              "ticks": ""
             }
            },
            "type": "scattergl"
           }
          ],
          "scattermapbox": [
           {
            "marker": {
             "colorbar": {
              "outlinewidth": 0,
              "ticks": ""
             }
            },
            "type": "scattermapbox"
           }
          ],
          "scatterpolar": [
           {
            "marker": {
             "colorbar": {
              "outlinewidth": 0,
              "ticks": ""
             }
            },
            "type": "scatterpolar"
           }
          ],
          "scatterpolargl": [
           {
            "marker": {
             "colorbar": {
              "outlinewidth": 0,
              "ticks": ""
             }
            },
            "type": "scatterpolargl"
           }
          ],
          "scatterternary": [
           {
            "marker": {
             "colorbar": {
              "outlinewidth": 0,
              "ticks": ""
             }
            },
            "type": "scatterternary"
           }
          ],
          "surface": [
           {
            "colorbar": {
             "outlinewidth": 0,
             "ticks": ""
            },
            "colorscale": [
             [
              0,
              "#0d0887"
             ],
             [
              0.1111111111111111,
              "#46039f"
             ],
             [
              0.2222222222222222,
              "#7201a8"
             ],
             [
              0.3333333333333333,
              "#9c179e"
             ],
             [
              0.4444444444444444,
              "#bd3786"
             ],
             [
              0.5555555555555556,
              "#d8576b"
             ],
             [
              0.6666666666666666,
              "#ed7953"
             ],
             [
              0.7777777777777778,
              "#fb9f3a"
             ],
             [
              0.8888888888888888,
              "#fdca26"
             ],
             [
              1,
              "#f0f921"
             ]
            ],
            "type": "surface"
           }
          ],
          "table": [
           {
            "cells": {
             "fill": {
              "color": "#EBF0F8"
             },
             "line": {
              "color": "white"
             }
            },
            "header": {
             "fill": {
              "color": "#C8D4E3"
             },
             "line": {
              "color": "white"
             }
            },
            "type": "table"
           }
          ]
         },
         "layout": {
          "annotationdefaults": {
           "arrowcolor": "#2a3f5f",
           "arrowhead": 0,
           "arrowwidth": 1
          },
          "autotypenumbers": "strict",
          "coloraxis": {
           "colorbar": {
            "outlinewidth": 0,
            "ticks": ""
           }
          },
          "colorscale": {
           "diverging": [
            [
             0,
             "#8e0152"
            ],
            [
             0.1,
             "#c51b7d"
            ],
            [
             0.2,
             "#de77ae"
            ],
            [
             0.3,
             "#f1b6da"
            ],
            [
             0.4,
             "#fde0ef"
            ],
            [
             0.5,
             "#f7f7f7"
            ],
            [
             0.6,
             "#e6f5d0"
            ],
            [
             0.7,
             "#b8e186"
            ],
            [
             0.8,
             "#7fbc41"
            ],
            [
             0.9,
             "#4d9221"
            ],
            [
             1,
             "#276419"
            ]
           ],
           "sequential": [
            [
             0,
             "#0d0887"
            ],
            [
             0.1111111111111111,
             "#46039f"
            ],
            [
             0.2222222222222222,
             "#7201a8"
            ],
            [
             0.3333333333333333,
             "#9c179e"
            ],
            [
             0.4444444444444444,
             "#bd3786"
            ],
            [
             0.5555555555555556,
             "#d8576b"
            ],
            [
             0.6666666666666666,
             "#ed7953"
            ],
            [
             0.7777777777777778,
             "#fb9f3a"
            ],
            [
             0.8888888888888888,
             "#fdca26"
            ],
            [
             1,
             "#f0f921"
            ]
           ],
           "sequentialminus": [
            [
             0,
             "#0d0887"
            ],
            [
             0.1111111111111111,
             "#46039f"
            ],
            [
             0.2222222222222222,
             "#7201a8"
            ],
            [
             0.3333333333333333,
             "#9c179e"
            ],
            [
             0.4444444444444444,
             "#bd3786"
            ],
            [
             0.5555555555555556,
             "#d8576b"
            ],
            [
             0.6666666666666666,
             "#ed7953"
            ],
            [
             0.7777777777777778,
             "#fb9f3a"
            ],
            [
             0.8888888888888888,
             "#fdca26"
            ],
            [
             1,
             "#f0f921"
            ]
           ]
          },
          "colorway": [
           "#636efa",
           "#EF553B",
           "#00cc96",
           "#ab63fa",
           "#FFA15A",
           "#19d3f3",
           "#FF6692",
           "#B6E880",
           "#FF97FF",
           "#FECB52"
          ],
          "font": {
           "color": "#2a3f5f"
          },
          "geo": {
           "bgcolor": "white",
           "lakecolor": "white",
           "landcolor": "#E5ECF6",
           "showlakes": true,
           "showland": true,
           "subunitcolor": "white"
          },
          "hoverlabel": {
           "align": "left"
          },
          "hovermode": "closest",
          "mapbox": {
           "style": "light"
          },
          "paper_bgcolor": "white",
          "plot_bgcolor": "#E5ECF6",
          "polar": {
           "angularaxis": {
            "gridcolor": "white",
            "linecolor": "white",
            "ticks": ""
           },
           "bgcolor": "#E5ECF6",
           "radialaxis": {
            "gridcolor": "white",
            "linecolor": "white",
            "ticks": ""
           }
          },
          "scene": {
           "xaxis": {
            "backgroundcolor": "#E5ECF6",
            "gridcolor": "white",
            "gridwidth": 2,
            "linecolor": "white",
            "showbackground": true,
            "ticks": "",
            "zerolinecolor": "white"
           },
           "yaxis": {
            "backgroundcolor": "#E5ECF6",
            "gridcolor": "white",
            "gridwidth": 2,
            "linecolor": "white",
            "showbackground": true,
            "ticks": "",
            "zerolinecolor": "white"
           },
           "zaxis": {
            "backgroundcolor": "#E5ECF6",
            "gridcolor": "white",
            "gridwidth": 2,
            "linecolor": "white",
            "showbackground": true,
            "ticks": "",
            "zerolinecolor": "white"
           }
          },
          "shapedefaults": {
           "line": {
            "color": "#2a3f5f"
           }
          },
          "ternary": {
           "aaxis": {
            "gridcolor": "white",
            "linecolor": "white",
            "ticks": ""
           },
           "baxis": {
            "gridcolor": "white",
            "linecolor": "white",
            "ticks": ""
           },
           "bgcolor": "#E5ECF6",
           "caxis": {
            "gridcolor": "white",
            "linecolor": "white",
            "ticks": ""
           }
          },
          "title": {
           "x": 0.05
          },
          "xaxis": {
           "automargin": true,
           "gridcolor": "white",
           "linecolor": "white",
           "ticks": "",
           "title": {
            "standoff": 15
           },
           "zerolinecolor": "white",
           "zerolinewidth": 2
          },
          "yaxis": {
           "automargin": true,
           "gridcolor": "white",
           "linecolor": "white",
           "ticks": "",
           "title": {
            "standoff": 15
           },
           "zerolinecolor": "white",
           "zerolinewidth": 2
          }
         }
        }
       }
      },
      "text/html": [
       "<div>                            <div id=\"fa4ca409-1073-4080-b1cd-e7de5747fef7\" class=\"plotly-graph-div\" style=\"height:525px; width:100%;\"></div>            <script type=\"text/javascript\">                require([\"plotly\"], function(Plotly) {                    window.PLOTLYENV=window.PLOTLYENV || {};                                    if (document.getElementById(\"fa4ca409-1073-4080-b1cd-e7de5747fef7\")) {                    Plotly.newPlot(                        \"fa4ca409-1073-4080-b1cd-e7de5747fef7\",                        [{\"marker\":{\"color\":[7.3949063486670275,9.382433481606938,10.413077165572739,6.765934849334335,8.68497840343604,10.078257544000326,6.254473513876521,8.040198759316738,9.56716479631585,16.610099895793965,17.422519407028872,15.464600423719856,15.88313807759202,17.455704593165034,16.71457888042561,15.162632313717674,17.15364177306195,17.32562417163486,7.081768023937887,7.539881338520362,7.17223054237626,6.814967213874203,7.459298375319071,7.4505397133961395,6.561519129351485,7.301481821729582,7.53920680654781,18.850035302365193,17.723445825903482,14.367675635120333,18.61936021692008,18.49624534712251,16.177655402481026,18.24954823849949,18.82129144909876,17.41767162688543,11.499790055248331,9.506873025598873,7.041413401176201,11.847378590742082,10.384346675332477,8.24096417588763,12.032754539173478,11.01178232915434,9.225093226300828],\"colorscale\":[[0.0,\"#000004\"],[0.1111111111111111,\"#1b0c41\"],[0.2222222222222222,\"#4a0c6b\"],[0.3333333333333333,\"#781c6d\"],[0.4444444444444444,\"#a52c60\"],[0.5555555555555556,\"#cf4446\"],[0.6666666666666666,\"#ed6925\"],[0.7777777777777778,\"#fb9b06\"],[0.8888888888888888,\"#f7d13d\"],[1.0,\"#fcffa4\"]],\"opacity\":0.8,\"size\":[7.3949063486670275,9.382433481606938,10.413077165572739,6.765934849334335,8.68497840343604,10.078257544000326,6.254473513876521,8.040198759316738,9.56716479631585,16.610099895793965,17.422519407028872,15.464600423719856,15.88313807759202,17.455704593165034,16.71457888042561,15.162632313717674,17.15364177306195,17.32562417163486,7.081768023937887,7.539881338520362,7.17223054237626,6.814967213874203,7.459298375319071,7.4505397133961395,6.561519129351485,7.301481821729582,7.53920680654781,18.850035302365193,17.723445825903482,14.367675635120333,18.61936021692008,18.49624534712251,16.177655402481026,18.24954823849949,18.82129144909876,17.41767162688543,11.499790055248331,9.506873025598873,7.041413401176201,11.847378590742082,10.384346675332477,8.24096417588763,12.032754539173478,11.01178232915434,9.225093226300828]},\"mode\":\"markers\",\"type\":\"scatter3d\",\"x\":[3.4,3.4,3.4,3.4,3.4,3.4,3.4,3.4,3.4,3.55,3.55,3.55,3.55,3.55,3.55,3.55,3.55,3.55,3.7,3.7,3.7,3.7,3.7,3.7,3.7,3.7,3.7,3.85,3.85,3.85,3.85,3.85,3.85,3.85,3.85,3.85,4.0,4.0,4.0,4.0,4.0,4.0,4.0,4.0,4.0],\"y\":[1.8,1.8,1.8,2.0,2.0,2.0,2.2,2.2,2.2,1.8,1.8,1.8,2.0,2.0,2.0,2.2,2.2,2.2,1.8,1.8,1.8,2.0,2.0,2.0,2.2,2.2,2.2,1.8,1.8,1.8,2.0,2.0,2.0,2.2,2.2,2.2,1.8,1.8,1.8,2.0,2.0,2.0,2.2,2.2,2.2],\"z\":[1.0,1.35,1.7,1.0,1.35,1.7,1.0,1.35,1.7,1.0,1.35,1.7,1.0,1.35,1.7,1.0,1.35,1.7,1.0,1.35,1.7,1.0,1.35,1.7,1.0,1.35,1.7,1.0,1.35,1.7,1.0,1.35,1.7,1.0,1.35,1.7,1.0,1.35,1.7,1.0,1.35,1.7,1.0,1.35,1.7]}],                        {\"template\":{\"data\":{\"bar\":[{\"error_x\":{\"color\":\"#2a3f5f\"},\"error_y\":{\"color\":\"#2a3f5f\"},\"marker\":{\"line\":{\"color\":\"#E5ECF6\",\"width\":0.5},\"pattern\":{\"fillmode\":\"overlay\",\"size\":10,\"solidity\":0.2}},\"type\":\"bar\"}],\"barpolar\":[{\"marker\":{\"line\":{\"color\":\"#E5ECF6\",\"width\":0.5},\"pattern\":{\"fillmode\":\"overlay\",\"size\":10,\"solidity\":0.2}},\"type\":\"barpolar\"}],\"carpet\":[{\"aaxis\":{\"endlinecolor\":\"#2a3f5f\",\"gridcolor\":\"white\",\"linecolor\":\"white\",\"minorgridcolor\":\"white\",\"startlinecolor\":\"#2a3f5f\"},\"baxis\":{\"endlinecolor\":\"#2a3f5f\",\"gridcolor\":\"white\",\"linecolor\":\"white\",\"minorgridcolor\":\"white\",\"startlinecolor\":\"#2a3f5f\"},\"type\":\"carpet\"}],\"choropleth\":[{\"colorbar\":{\"outlinewidth\":0,\"ticks\":\"\"},\"type\":\"choropleth\"}],\"contour\":[{\"colorbar\":{\"outlinewidth\":0,\"ticks\":\"\"},\"colorscale\":[[0.0,\"#0d0887\"],[0.1111111111111111,\"#46039f\"],[0.2222222222222222,\"#7201a8\"],[0.3333333333333333,\"#9c179e\"],[0.4444444444444444,\"#bd3786\"],[0.5555555555555556,\"#d8576b\"],[0.6666666666666666,\"#ed7953\"],[0.7777777777777778,\"#fb9f3a\"],[0.8888888888888888,\"#fdca26\"],[1.0,\"#f0f921\"]],\"type\":\"contour\"}],\"contourcarpet\":[{\"colorbar\":{\"outlinewidth\":0,\"ticks\":\"\"},\"type\":\"contourcarpet\"}],\"heatmap\":[{\"colorbar\":{\"outlinewidth\":0,\"ticks\":\"\"},\"colorscale\":[[0.0,\"#0d0887\"],[0.1111111111111111,\"#46039f\"],[0.2222222222222222,\"#7201a8\"],[0.3333333333333333,\"#9c179e\"],[0.4444444444444444,\"#bd3786\"],[0.5555555555555556,\"#d8576b\"],[0.6666666666666666,\"#ed7953\"],[0.7777777777777778,\"#fb9f3a\"],[0.8888888888888888,\"#fdca26\"],[1.0,\"#f0f921\"]],\"type\":\"heatmap\"}],\"heatmapgl\":[{\"colorbar\":{\"outlinewidth\":0,\"ticks\":\"\"},\"colorscale\":[[0.0,\"#0d0887\"],[0.1111111111111111,\"#46039f\"],[0.2222222222222222,\"#7201a8\"],[0.3333333333333333,\"#9c179e\"],[0.4444444444444444,\"#bd3786\"],[0.5555555555555556,\"#d8576b\"],[0.6666666666666666,\"#ed7953\"],[0.7777777777777778,\"#fb9f3a\"],[0.8888888888888888,\"#fdca26\"],[1.0,\"#f0f921\"]],\"type\":\"heatmapgl\"}],\"histogram\":[{\"marker\":{\"pattern\":{\"fillmode\":\"overlay\",\"size\":10,\"solidity\":0.2}},\"type\":\"histogram\"}],\"histogram2d\":[{\"colorbar\":{\"outlinewidth\":0,\"ticks\":\"\"},\"colorscale\":[[0.0,\"#0d0887\"],[0.1111111111111111,\"#46039f\"],[0.2222222222222222,\"#7201a8\"],[0.3333333333333333,\"#9c179e\"],[0.4444444444444444,\"#bd3786\"],[0.5555555555555556,\"#d8576b\"],[0.6666666666666666,\"#ed7953\"],[0.7777777777777778,\"#fb9f3a\"],[0.8888888888888888,\"#fdca26\"],[1.0,\"#f0f921\"]],\"type\":\"histogram2d\"}],\"histogram2dcontour\":[{\"colorbar\":{\"outlinewidth\":0,\"ticks\":\"\"},\"colorscale\":[[0.0,\"#0d0887\"],[0.1111111111111111,\"#46039f\"],[0.2222222222222222,\"#7201a8\"],[0.3333333333333333,\"#9c179e\"],[0.4444444444444444,\"#bd3786\"],[0.5555555555555556,\"#d8576b\"],[0.6666666666666666,\"#ed7953\"],[0.7777777777777778,\"#fb9f3a\"],[0.8888888888888888,\"#fdca26\"],[1.0,\"#f0f921\"]],\"type\":\"histogram2dcontour\"}],\"mesh3d\":[{\"colorbar\":{\"outlinewidth\":0,\"ticks\":\"\"},\"type\":\"mesh3d\"}],\"parcoords\":[{\"line\":{\"colorbar\":{\"outlinewidth\":0,\"ticks\":\"\"}},\"type\":\"parcoords\"}],\"pie\":[{\"automargin\":true,\"type\":\"pie\"}],\"scatter\":[{\"marker\":{\"colorbar\":{\"outlinewidth\":0,\"ticks\":\"\"}},\"type\":\"scatter\"}],\"scatter3d\":[{\"line\":{\"colorbar\":{\"outlinewidth\":0,\"ticks\":\"\"}},\"marker\":{\"colorbar\":{\"outlinewidth\":0,\"ticks\":\"\"}},\"type\":\"scatter3d\"}],\"scattercarpet\":[{\"marker\":{\"colorbar\":{\"outlinewidth\":0,\"ticks\":\"\"}},\"type\":\"scattercarpet\"}],\"scattergeo\":[{\"marker\":{\"colorbar\":{\"outlinewidth\":0,\"ticks\":\"\"}},\"type\":\"scattergeo\"}],\"scattergl\":[{\"marker\":{\"colorbar\":{\"outlinewidth\":0,\"ticks\":\"\"}},\"type\":\"scattergl\"}],\"scattermapbox\":[{\"marker\":{\"colorbar\":{\"outlinewidth\":0,\"ticks\":\"\"}},\"type\":\"scattermapbox\"}],\"scatterpolar\":[{\"marker\":{\"colorbar\":{\"outlinewidth\":0,\"ticks\":\"\"}},\"type\":\"scatterpolar\"}],\"scatterpolargl\":[{\"marker\":{\"colorbar\":{\"outlinewidth\":0,\"ticks\":\"\"}},\"type\":\"scatterpolargl\"}],\"scatterternary\":[{\"marker\":{\"colorbar\":{\"outlinewidth\":0,\"ticks\":\"\"}},\"type\":\"scatterternary\"}],\"surface\":[{\"colorbar\":{\"outlinewidth\":0,\"ticks\":\"\"},\"colorscale\":[[0.0,\"#0d0887\"],[0.1111111111111111,\"#46039f\"],[0.2222222222222222,\"#7201a8\"],[0.3333333333333333,\"#9c179e\"],[0.4444444444444444,\"#bd3786\"],[0.5555555555555556,\"#d8576b\"],[0.6666666666666666,\"#ed7953\"],[0.7777777777777778,\"#fb9f3a\"],[0.8888888888888888,\"#fdca26\"],[1.0,\"#f0f921\"]],\"type\":\"surface\"}],\"table\":[{\"cells\":{\"fill\":{\"color\":\"#EBF0F8\"},\"line\":{\"color\":\"white\"}},\"header\":{\"fill\":{\"color\":\"#C8D4E3\"},\"line\":{\"color\":\"white\"}},\"type\":\"table\"}]},\"layout\":{\"annotationdefaults\":{\"arrowcolor\":\"#2a3f5f\",\"arrowhead\":0,\"arrowwidth\":1},\"autotypenumbers\":\"strict\",\"coloraxis\":{\"colorbar\":{\"outlinewidth\":0,\"ticks\":\"\"}},\"colorscale\":{\"diverging\":[[0,\"#8e0152\"],[0.1,\"#c51b7d\"],[0.2,\"#de77ae\"],[0.3,\"#f1b6da\"],[0.4,\"#fde0ef\"],[0.5,\"#f7f7f7\"],[0.6,\"#e6f5d0\"],[0.7,\"#b8e186\"],[0.8,\"#7fbc41\"],[0.9,\"#4d9221\"],[1,\"#276419\"]],\"sequential\":[[0.0,\"#0d0887\"],[0.1111111111111111,\"#46039f\"],[0.2222222222222222,\"#7201a8\"],[0.3333333333333333,\"#9c179e\"],[0.4444444444444444,\"#bd3786\"],[0.5555555555555556,\"#d8576b\"],[0.6666666666666666,\"#ed7953\"],[0.7777777777777778,\"#fb9f3a\"],[0.8888888888888888,\"#fdca26\"],[1.0,\"#f0f921\"]],\"sequentialminus\":[[0.0,\"#0d0887\"],[0.1111111111111111,\"#46039f\"],[0.2222222222222222,\"#7201a8\"],[0.3333333333333333,\"#9c179e\"],[0.4444444444444444,\"#bd3786\"],[0.5555555555555556,\"#d8576b\"],[0.6666666666666666,\"#ed7953\"],[0.7777777777777778,\"#fb9f3a\"],[0.8888888888888888,\"#fdca26\"],[1.0,\"#f0f921\"]]},\"colorway\":[\"#636efa\",\"#EF553B\",\"#00cc96\",\"#ab63fa\",\"#FFA15A\",\"#19d3f3\",\"#FF6692\",\"#B6E880\",\"#FF97FF\",\"#FECB52\"],\"font\":{\"color\":\"#2a3f5f\"},\"geo\":{\"bgcolor\":\"white\",\"lakecolor\":\"white\",\"landcolor\":\"#E5ECF6\",\"showlakes\":true,\"showland\":true,\"subunitcolor\":\"white\"},\"hoverlabel\":{\"align\":\"left\"},\"hovermode\":\"closest\",\"mapbox\":{\"style\":\"light\"},\"paper_bgcolor\":\"white\",\"plot_bgcolor\":\"#E5ECF6\",\"polar\":{\"angularaxis\":{\"gridcolor\":\"white\",\"linecolor\":\"white\",\"ticks\":\"\"},\"bgcolor\":\"#E5ECF6\",\"radialaxis\":{\"gridcolor\":\"white\",\"linecolor\":\"white\",\"ticks\":\"\"}},\"scene\":{\"xaxis\":{\"backgroundcolor\":\"#E5ECF6\",\"gridcolor\":\"white\",\"gridwidth\":2,\"linecolor\":\"white\",\"showbackground\":true,\"ticks\":\"\",\"zerolinecolor\":\"white\"},\"yaxis\":{\"backgroundcolor\":\"#E5ECF6\",\"gridcolor\":\"white\",\"gridwidth\":2,\"linecolor\":\"white\",\"showbackground\":true,\"ticks\":\"\",\"zerolinecolor\":\"white\"},\"zaxis\":{\"backgroundcolor\":\"#E5ECF6\",\"gridcolor\":\"white\",\"gridwidth\":2,\"linecolor\":\"white\",\"showbackground\":true,\"ticks\":\"\",\"zerolinecolor\":\"white\"}},\"shapedefaults\":{\"line\":{\"color\":\"#2a3f5f\"}},\"ternary\":{\"aaxis\":{\"gridcolor\":\"white\",\"linecolor\":\"white\",\"ticks\":\"\"},\"baxis\":{\"gridcolor\":\"white\",\"linecolor\":\"white\",\"ticks\":\"\"},\"bgcolor\":\"#E5ECF6\",\"caxis\":{\"gridcolor\":\"white\",\"linecolor\":\"white\",\"ticks\":\"\"}},\"title\":{\"x\":0.05},\"xaxis\":{\"automargin\":true,\"gridcolor\":\"white\",\"linecolor\":\"white\",\"ticks\":\"\",\"title\":{\"standoff\":15},\"zerolinecolor\":\"white\",\"zerolinewidth\":2},\"yaxis\":{\"automargin\":true,\"gridcolor\":\"white\",\"linecolor\":\"white\",\"ticks\":\"\",\"title\":{\"standoff\":15},\"zerolinecolor\":\"white\",\"zerolinewidth\":2}}}},                        {\"responsive\": true}                    ).then(function(){\n",
       "                            \n",
       "var gd = document.getElementById('fa4ca409-1073-4080-b1cd-e7de5747fef7');\n",
       "var x = new MutationObserver(function (mutations, observer) {{\n",
       "        var display = window.getComputedStyle(gd).display;\n",
       "        if (!display || display === 'none') {{\n",
       "            console.log([gd, 'removed!']);\n",
       "            Plotly.purge(gd);\n",
       "            observer.disconnect();\n",
       "        }}\n",
       "}});\n",
       "\n",
       "// Listen for the removal of the full notebook cells\n",
       "var notebookContainer = gd.closest('#notebook-container');\n",
       "if (notebookContainer) {{\n",
       "    x.observe(notebookContainer, {childList: true});\n",
       "}}\n",
       "\n",
       "// Listen for the clearing of the current output cell\n",
       "var outputEl = gd.closest('.output');\n",
       "if (outputEl) {{\n",
       "    x.observe(outputEl, {childList: true});\n",
       "}}\n",
       "\n",
       "                        })                };                });            </script>        </div>"
      ]
     },
     "metadata": {},
     "output_type": "display_data"
    }
   ],
   "source": [
    "### import plotly.graph_objects as go\n",
    "import numpy as np\n",
    "\n",
    "#size = 1/((quality_mesh.flatten()/np.max(quality_mesh.flatten()))**1)\n",
    "size = 1/quality_mesh.flatten()**3*10\n",
    "\n",
    "fig = go.Figure(data=[go.Scatter3d(x=rho_c_mesh.flatten(), \n",
    "                                   y=nu_mesh.flatten(), \n",
    "                                   z=zeta_mesh.flatten(),\n",
    "                                   mode='markers',\n",
    "                                  marker=dict(\n",
    "                                            size=size,\n",
    "                                            color=size,          # set color to an array/list of desired values\n",
    "                                    colorscale='inferno',   # choose a colorscale\n",
    "                                    opacity=0.8,\n",
    "                                      \n",
    "                                ))])\n",
    "fig.show()"
   ]
  },
  {
   "cell_type": "code",
   "execution_count": null,
   "id": "9b8991ac",
   "metadata": {},
   "outputs": [],
   "source": []
  },
  {
   "cell_type": "markdown",
   "id": "a57ae9fc",
   "metadata": {},
   "source": [
    "i had used the scaling func from Mendez-santos: where $x = np.power(l, -a) * y$ and $y = np.power(l, 1./nu) * (rho-rho_c)$. Now having changed to $x = np.power(l, -zeta/nu) * y$"
   ]
  },
  {
   "cell_type": "code",
   "execution_count": 405,
   "id": "56a7fb91",
   "metadata": {},
   "outputs": [],
   "source": [
    "def goal_function_min(x):\n",
    "    rho_c = x[0] \n",
    "    nu = x[1]\n",
    "    zeta=x[2]\n",
    "\n",
    "    #XX = x_dat_2_new(rho=rho_mesh_local, rho_c=rho_c, l=l_mesh_local ,nu=nu) \n",
    "    XX = x_BKT(rho=rho_mesh_local, rho_c=rho_c, l=l_mesh_local ,nu=nu) \n",
    "    \n",
    "    \n",
    "    YY = y_dat_new(y=Y, l=l_mesh_local, zeta=zeta, nu=nu)\n",
    "    #print('y',YY)\n",
    "    dYY = y_dat_new(y=dY, l=l_mesh_local, zeta=zeta, nu=nu)\n",
    "    #print('dy',dYY)\n",
    "    \n",
    "    # sorting for BKT\n",
    "    sorting_index = np.argsort(XX)[0]\n",
    "    #print(sorting_index)\n",
    "    \n",
    "    XX = XX[:,sorting_index]\n",
    "    YY = YY[:,sorting_index]\n",
    "    dYY = dYY[:, sorting_index]\n",
    "    \n",
    "    \n",
    "    return quality(XX,YY,dYY)"
   ]
  },
  {
   "cell_type": "code",
   "execution_count": 406,
   "id": "7b0dd64d",
   "metadata": {},
   "outputs": [
    {
     "data": {
      "text/plain": [
       "      fun: 0.7689834212100658\n",
       " hess_inv: <3x3 LbfgsInvHessProduct with dtype=float64>\n",
       "      jac: array([ 0.00329848,  0.000101  , -0.00040911])\n",
       "  message: 'CONVERGENCE: REL_REDUCTION_OF_F_<=_FACTR*EPSMCH'\n",
       "     nfev: 200\n",
       "      nit: 12\n",
       "     njev: 50\n",
       "   status: 0\n",
       "  success: True\n",
       "        x: array([3.7895557 , 2.09261357, 1.38245338])"
      ]
     },
     "execution_count": 406,
     "metadata": {},
     "output_type": "execute_result"
    }
   ],
   "source": [
    "minimize(goal_function_min,x0=[3.,1.,2.], bounds=((2,4),(1.,2.5),(1,3)))"
   ]
  },
  {
   "cell_type": "code",
   "execution_count": 408,
   "id": "49a2b4ab",
   "metadata": {},
   "outputs": [],
   "source": [
    "import fssa"
   ]
  },
  {
   "cell_type": "code",
   "execution_count": 411,
   "id": "b903375e",
   "metadata": {},
   "outputs": [],
   "source": [
    "def scaledata(l, rho, a, da, rho_c, nu, zeta):\n",
    "    r'''\n",
    "    Scale experimental data according to critical exponents\n",
    "\n",
    "    Parameters\n",
    "    ----------\n",
    "    l, rho : 1-D array_like\n",
    "       finite system sizes `l` and parameter values `rho`\n",
    "\n",
    "    a, da : 2-D array_like of shape (`l`.size, `rho`.size)\n",
    "       experimental data `a` with standard errors `da` obtained at finite\n",
    "       system sizes `l` and parameter values `rho`, with\n",
    "       ``a.shape == da.shape == (l.size, rho.size)``\n",
    "\n",
    "    rho_c : float in range [rho.min(), rho.max()]\n",
    "       (assumed) critical parameter value with ``rho_c >= rho.min() and rho_c\n",
    "       <= rho.max()``\n",
    "\n",
    "    nu, zeta : float\n",
    "       (assumed) critical exponents\n",
    "\n",
    "    Returns\n",
    "    -------\n",
    "    :py:class:`ScaledData`\n",
    "       scaled data `x`, `y` with standard errors `dy`\n",
    "\n",
    "    x, y, dy : ndarray\n",
    "       two-dimensional arrays of shape ``(l.size, rho.size)``\n",
    "\n",
    "    Notes\n",
    "    -----\n",
    "    Scale data points :math:`(\\varrho_j, a_{ij}, da_{ij})` observed at finite\n",
    "    system sizes :math:`L_i` and parameter values :math:`\\varrho_i` according\n",
    "    to the finite-size scaling ansatz\n",
    "\n",
    "    .. math::\n",
    "\n",
    "       L^{-\\zeta/\\nu} a_{ij} = \\tilde{f}\\left( L^{1/\\nu} (\\varrho_j -\n",
    "       \\varrho_c) \\right).\n",
    "\n",
    "    The output is the scaled data points :math:`(x_{ij}, y_{ij}, dy_{ij})` with\n",
    "\n",
    "    .. math::\n",
    "\n",
    "       x_{ij} & = L_i^{1/\\nu} (\\varrho_j - \\varrho_c) \\\\\n",
    "       y_{ij} & = L_i^{-\\zeta/\\nu} a_{ij} \\\\\n",
    "       dy_{ij} & = L_i^{-\\zeta/\\nu} da_{ij}\n",
    "\n",
    "    such that all data points :ref:`collapse <data-collapse-method>` onto the\n",
    "    single curve :math:`\\tilde{f}(x)` with the right choice of\n",
    "    :math:`\\varrho_c, \\nu, \\zeta` [4]_ [5]_.\n",
    "\n",
    "    Raises\n",
    "    ------\n",
    "    ValueError\n",
    "       If `l` or `rho` is not 1-D array_like, if `a` or `da` is not 2-D\n",
    "       array_like, if the shape of `a` or `da` differs from ``(l.size,\n",
    "       rho.size)``\n",
    "\n",
    "    References\n",
    "    ----------\n",
    "\n",
    "    .. [4] M. E. J. Newman and G. T. Barkema, Monte Carlo Methods in\n",
    "       Statistical Physics (Oxford University Press, 1999)\n",
    "\n",
    "    .. [5] K. Binder and D. W. Heermann, `Monte Carlo Simulation in Statistical\n",
    "       Physics <http://dx.doi.org/10.1007/978-3-642-03163-2>`_ (Springer,\n",
    "       Berlin, Heidelberg, 2010)\n",
    "    '''\n",
    "\n",
    "    # l should be 1-D array_like\n",
    "    l = np.asanyarray(l)\n",
    "    if l.ndim != 1:\n",
    "        raise ValueError(\"l should be 1-D array_like\")\n",
    "\n",
    "    # rho should be 1-D array_like\n",
    "    rho = np.asanyarray(rho)\n",
    "    if rho.ndim != 1:\n",
    "        raise ValueError(\"rho should be 1-D array_like\")\n",
    "\n",
    "    # a should be 2-D array_like\n",
    "    a = np.asanyarray(a)\n",
    "    if a.ndim != 2:\n",
    "        raise ValueError(\"a should be 2-D array_like\")\n",
    "\n",
    "    # a should have shape (l.size, rho.size)\n",
    "    if a.shape != (l.size, rho.size):\n",
    "        raise ValueError(\"a should have shape (l.size, rho.size)\")\n",
    "\n",
    "    # da should be 2-D array_like\n",
    "    da = np.asanyarray(da)\n",
    "    if da.ndim != 2:\n",
    "        raise ValueError(\"da should be 2-D array_like\")\n",
    "\n",
    "    # da should have shape (l.size, rho.size)\n",
    "    if da.shape != (l.size, rho.size):\n",
    "        raise ValueError(\"da should have shape (l.size, rho.size)\")\n",
    "\n",
    "    # rho_c should be float\n",
    "    rho_c = float(rho_c)\n",
    "\n",
    "    # rho_c should be in range\n",
    "    if rho_c > rho.max() or rho_c < rho.min():\n",
    "        warnings.warn(\"rho_c is out of range\", RuntimeWarning)\n",
    "\n",
    "    # nu should be float\n",
    "    nu = float(nu)\n",
    "\n",
    "    # zeta should be float\n",
    "    zeta = float(zeta)\n",
    "\n",
    "    l_mesh, rho_mesh = np.meshgrid(l, rho, indexing='ij')\n",
    "\n",
    "    x = np.power(l_mesh, 1. / nu) * (rho_mesh - rho_c)\n",
    "    x = l_mesh*np.exp(-1.4/np.sqrt(abs(rho_mesh-rho_c)))\n",
    "    y = np.power(l_mesh, - zeta / nu) * a\n",
    "    dy = np.power(l_mesh, - zeta / nu) * da\n",
    "\n",
    "    sorting_index = np.argsort(x)[0]\n",
    "    \n",
    "    x = x[:,sorting_index]\n",
    "    y = y[:,sorting_index]\n",
    "    dy = dy[:, sorting_index]\n",
    "\n",
    "    return ScaledData(x, y, dy)"
   ]
  },
  {
   "cell_type": "code",
   "execution_count": 448,
   "id": "5fe38251",
   "metadata": {},
   "outputs": [
    {
     "name": "stdout",
     "output_type": "stream",
     "text": [
      "rho done\n",
      "nu done\n"
     ]
    },
    {
     "data": {
      "image/png": "[encoded data removed]",
      "text/plain": [
       "<Figure size 864x288 with 6 Axes>"
      ]
     },
     "metadata": {
      "needs_background": "light"
     },
     "output_type": "display_data"
    }
   ],
   "source": [
    "\n",
    "fig, ax = plt.subplots(2,3, figsize=(12,4))\n",
    "\n",
    "\n",
    "for rho0 in np.linspace(1,5,20):\n",
    "    res = fssa.autoscale(Ls, rho, Y, dY,rho0,2,2)\n",
    "    ax[0,0].scatter(rho0, res['rho'], c='b',)\n",
    "    ax[1,0].scatter(rho0, res['drho'], c='b')\n",
    "    \n",
    "print('rho done')\n",
    "for nu0 in np.linspace(1,5,20):\n",
    "    res = fssa.autoscale(Ls, rho, Y, dY,3.6,nu0,2)\n",
    "    ax[0,1].scatter(nu0, res['nu'],c='r')\n",
    "    ax[1,1].scatter(nu0, res['dnu'],c='r')\n",
    "\n",
    "print('nu done')\n",
    "for zeta0 in np.linspace(1,5,20):\n",
    "    res = fssa.autoscale(Ls, rho, Y, dY,3.6,2,zeta0)\n",
    "    ax[0,2].scatter(zeta0, res['zeta'],c='g')\n",
    "    ax[1,2].scatter(zeta0, res['dzeta'],c='g')\n",
    "\n",
    "plt.tight_layout()"
   ]
  },
  {
   "cell_type": "code",
   "execution_count": 428,
   "id": "a7543909",
   "metadata": {},
   "outputs": [
    {
     "data": {
      "text/plain": [
       "<function fssa.fssa.autoscale(l, rho, a, da, rho_c0, nu0, zeta0, x_bounds=None, **kwargs)>"
      ]
     },
     "execution_count": 428,
     "metadata": {},
     "output_type": "execute_result"
    }
   ],
   "source": [
    "fssa.autoscale"
   ]
  },
  {
   "cell_type": "code",
   "execution_count": null,
   "id": "82e18441",
   "metadata": {},
   "outputs": [],
   "source": []
  },
  {
   "cell_type": "code",
   "execution_count": null,
   "id": "7db52f57",
   "metadata": {},
   "outputs": [],
   "source": []
  }
 ],
 "metadata": {
  "kernelspec": {
   "display_name": "Python 3",
   "language": "python",
   "name": "python3"
  },
  "language_info": {
   "codemirror_mode": {
    "name": "ipython",
    "version": 3
   },
   "file_extension": ".py",
   "mimetype": "text/x-python",
   "name": "python",
   "nbconvert_exporter": "python",
   "pygments_lexer": "ipython3",
   "version": "3.8.8"
  }
 },
 "nbformat": 4,
 "nbformat_minor": 5
}
