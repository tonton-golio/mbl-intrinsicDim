{
 "cells": [
  {
   "cell_type": "markdown",
   "id": "899f4141",
   "metadata": {},
   "source": [
    "# Scaling from mendes santos paper\n",
    "1. **import data** \n",
    "1. **define scaling functions**\n",
    "1. **make parameter mesh**\n",
    "1. **plot 3d scatter**"
   ]
  },
  {
   "cell_type": "code",
   "execution_count": 379,
   "id": "a87c160a",
   "metadata": {},
   "outputs": [],
   "source": [
    "import numpy as np\n",
    "import matplotlib.pyplot as plt\n",
    "from fssa import quality\n",
    "from tqdm import tqdm\n",
    "import plotly.graph_objects as go\n",
    "import numpy as np\n",
    "import seaborn as sns\n",
    "from scipy.optimize import minimize"
   ]
  },
  {
   "cell_type": "markdown",
   "id": "0119474c",
   "metadata": {},
   "source": [
    "## Import data"
   ]
  },
  {
   "cell_type": "code",
   "execution_count": 397,
   "id": "f0e66963",
   "metadata": {},
   "outputs": [],
   "source": [
    "rho = np.linspace(0.1,6.1,31)\n",
    "Ls= np.arange(8,16,2).astype(float)\n",
    "\n",
    "Y = np.zeros((len(Ls),len(rho)))\n",
    "dY = np.zeros((len(Ls),len(rho)))\n",
    "for index, L in enumerate(Ls):\n",
    "    data = np.load('data/cluster/'+'2nn-{}-combined.npy'.format(int(L)))\n",
    "    Y[index] = np.mean(data,axis=0)\n",
    "    dY[index] = np.std(data,axis=0)\n",
    "    \n",
    "\n",
    "rho = rho[5:]\n",
    "Y = Y[:,5:]\n",
    "dY = dY[:,5:]"
   ]
  },
  {
   "cell_type": "markdown",
   "id": "e2e149d6",
   "metadata": {},
   "source": [
    "## scale data func."
   ]
  },
  {
   "cell_type": "code",
   "execution_count": 398,
   "id": "48745409",
   "metadata": {},
   "outputs": [],
   "source": [
    "def x_dat_2_new(rho, rho_c, l, nu):\n",
    "    return np.power(l, 1./nu) * (rho-rho_c)\n",
    "\n",
    "def x_BKT(rho, rho_c, l, nu):\n",
    "    return np.power(l* np.exp(abs((rho-rho_c))), 1./nu)\n",
    "\n",
    "def x_BKT(rho, rho_c, l, nu):\n",
    "    return np.power(l* np.exp(np.sqrt(abs(rho-rho_c))), 1./nu)\n",
    "\n",
    "def x_BKT(rho, rho_c, l, nu):\n",
    "    return l*np.exp(-1.4/np.sqrt(abs(rho-rho_c)))\n",
    "\n",
    "\n",
    "def y_dat_new(y, l, zeta,nu):\n",
    "    return np.power(l, -zeta/nu) * y\n",
    "\n",
    "\n",
    "l_mesh_local, rho_mesh_local = np.meshgrid(Ls, rho, indexing='ij')\n",
    "\n",
    "def goal_function(rho_c = 3., nu=2.2, zeta=1.2):\n",
    "\n",
    "    #XX = x_dat_2_new(rho=rho_mesh_local, rho_c=rho_c, l=l_mesh_local ,nu=nu) \n",
    "    XX = x_BKT(rho=rho_mesh_local, rho_c=rho_c, l=l_mesh_local ,nu=nu) \n",
    "    \n",
    "    \n",
    "    YY = y_dat_new(y=Y, l=l_mesh_local, zeta=zeta, nu=nu)\n",
    "    #print('y',YY)\n",
    "    dYY = y_dat_new(y=dY, l=l_mesh_local, zeta=zeta, nu=nu)\n",
    "    #print('dy',dYY)\n",
    "    \n",
    "    # sorting for BKT\n",
    "    sorting_index = np.argsort(XX)[0]\n",
    "    #print(sorting_index)\n",
    "    \n",
    "    XX = XX[:,sorting_index]\n",
    "    YY = YY[:,sorting_index]\n",
    "    dYY = dYY[:, sorting_index]\n",
    "    \n",
    "    \n",
    "    return quality(XX,YY,dYY)\n",
    "    "
   ]
  },
  {
   "cell_type": "code",
   "execution_count": 399,
   "id": "a346bcaf",
   "metadata": {},
   "outputs": [
    {
     "data": {
      "text/plain": [
       "1.2955174955843305"
      ]
     },
     "execution_count": 399,
     "metadata": {},
     "output_type": "execute_result"
    }
   ],
   "source": [
    "goal_function()"
   ]
  },
  {
   "cell_type": "code",
   "execution_count": 400,
   "id": "eb8a59b3",
   "metadata": {},
   "outputs": [
    {
     "name": "stdout",
     "output_type": "stream",
     "text": [
      "1\n",
      "1.5\n",
      "2\n",
      "nu = [1, 1.5, 2] (vertical)\n",
      "zeta = [1.5, 2, 2.5] (horizontal)\n"
     ]
    },
    {
     "data": {
      "image/png": "[encoded data removed]",
      "text/plain": [
       "<Figure size 864x288 with 9 Axes>"
      ]
     },
     "metadata": {
      "needs_background": "light"
     },
     "output_type": "display_data"
    }
   ],
   "source": [
    "fig, ax = plt.subplots(3,3, figsize=(12,4), sharex=True)\n",
    "\n",
    "for index0, nu in enumerate([1,1.5,2]):\n",
    "    print(nu)\n",
    "    for index1, zeta in enumerate([1.5,2,2.5]):\n",
    "        for r in np.linspace(1,7,10):\n",
    "            ax[index0,index1].scatter(r,goal_function(r,nu,zeta), c='r', alpha=.5)\n",
    "            \n",
    "print('nu = [1, 1.5, 2] (vertical)')\n",
    "print('zeta = [1.5, 2, 2.5] (horizontal)')\n",
    "\n",
    "ax[2,1].set_xlabel('Critical Disorder', fontsize=16)\n",
    "\n",
    "\n",
    "\n",
    "\n",
    "            \n",
    "plt.tight_layout()"
   ]
  },
  {
   "cell_type": "markdown",
   "id": "966512c4",
   "metadata": {},
   "source": [
    "## Free param mesh"
   ]
  },
  {
   "cell_type": "code",
   "execution_count": 465,
   "id": "8fdfb1ea",
   "metadata": {},
   "outputs": [],
   "source": [
    "rho_c_for_mesh = np.linspace(3.2,4.0,30)\n",
    "nu_for_mesh = np.linspace(1.95,2.05,3)\n",
    "zeta_for_mesh = np.linspace(1.95,2.05,3)\n",
    "\n",
    "rho_c_mesh, nu_mesh, zeta_mesh = np.meshgrid(rho_c_for_mesh,nu_for_mesh,zeta_for_mesh,indexing='ij')\n",
    "quality_mesh = np.zeros(np.shape(rho_c_mesh))"
   ]
  },
  {
   "cell_type": "markdown",
   "id": "624ace53",
   "metadata": {},
   "source": [
    "## calculate quality for each mesh point"
   ]
  },
  {
   "cell_type": "code",
   "execution_count": 466,
   "id": "a8b50f74",
   "metadata": {},
   "outputs": [
    {
     "name": "stderr",
     "output_type": "stream",
     "text": [
      "30it [00:02, 12.11it/s]\n"
     ]
    }
   ],
   "source": [
    "real_data = []\n",
    "\n",
    "for index3, rho_3, nu_3, z_3 in tqdm(zip(range(len(rho_c_mesh)),rho_c_mesh , nu_mesh, zeta_mesh)):\n",
    "    for index2, rho_2, nu_2, z_2 in zip(range(len(rho_3)),rho_3, nu_3, z_3):\n",
    "        for index1, rho_1, nu_1, z_1 in zip(range(len(rho_2)),rho_2, nu_2, z_2):\n",
    "            q = goal_function(rho_1, nu_1, z_1)\n",
    "            quality_mesh[index3,index2,index1] = q\n",
    "            real_data.append([rho_1, nu_1, z_1, q])\n",
    "            #print(quality_mesh)\n",
    "            \n",
    "real_data = np.array(real_data)"
   ]
  },
  {
   "cell_type": "code",
   "execution_count": 467,
   "id": "8517b04e",
   "metadata": {},
   "outputs": [
    {
     "data": {
      "text/plain": [
       "0"
      ]
     },
     "execution_count": 467,
     "metadata": {},
     "output_type": "execute_result"
    }
   ],
   "source": [
    "sum(real_data[:,3] != quality_mesh.flatten())"
   ]
  },
  {
   "cell_type": "markdown",
   "id": "949e7a81",
   "metadata": {},
   "source": [
    "## Plot"
   ]
  },
  {
   "cell_type": "code",
   "execution_count": 468,
   "id": "edeff3c4",
   "metadata": {},
   "outputs": [
    {
     "data": {
      "application/vnd.plotly.v1+json": {
       "config": {
        "plotlyServerURL": "https://plot.ly"
       },
       "data": [
        {
         "marker": {
          "color": [
           3.8463305712696796,
           3.833998287352779,
           3.8065514610575213,
           3.843575235667674,
           3.8463305712696796,
           3.8344922379744366,
           3.827395294102232,
           3.8438165943610603,
           3.8463305712696796,
           4.436742784817371,
           4.4563147157318825,
           4.458826020812264,
           4.401424351674806,
           4.436742784817371,
           4.456032994121188,
           4.353316746589549,
           4.402473759016307,
           4.436742784817371,
           5.810873420132101,
           5.82276627691442,
           5.810481768742358,
           5.776071790850823,
           5.810873420132101,
           5.822764044363932,
           5.722071866052357,
           5.777190678839227,
           5.810873420132101,
           5.713670339065261,
           5.696973810752269,
           5.656588934050312,
           5.706786095288937,
           5.713670339065261,
           5.697682209783379,
           5.679000633925727,
           5.707226865916971,
           5.713670339065261,
           7.015315101037501,
           6.953952088761747,
           6.864292024061113,
           7.04685445977833,
           7.015315101037501,
           6.955836442556565,
           7.050364880420422,
           7.0464232296529445,
           7.015315101037501,
           9.47732995668013,
           9.337694925992748,
           9.160341206484627,
           9.574893418302086,
           9.47732995668013,
           9.341656489122405,
           9.630813605131072,
           9.572981348990485,
           9.47732995668013,
           5.87425499442086,
           5.788636340719345,
           5.681872194734997,
           5.936116849112432,
           5.87425499442086,
           5.791040564029263,
           5.974278995375429,
           5.934870054802758,
           5.87425499442086,
           6.6375018146676235,
           6.601379042191267,
           6.538791645018412,
           6.646618086252798,
           6.6375018146676235,
           6.60260815438484,
           6.631146663320737,
           6.646705029316858,
           6.6375018146676235,
           8.526794991666621,
           8.336612763897715,
           8.11697197259029,
           8.681111601933928,
           8.526794991666621,
           8.341739063919665,
           8.797276923072289,
           8.677732287756946,
           8.526794991666621,
           7.300329095026036,
           7.133179903220174,
           6.942019305739309,
           7.437806564253807,
           7.300329095026036,
           7.137662176999103,
           7.543354177085129,
           7.434769607135685,
           7.300329095026036,
           6.76251114101393,
           6.578414185122023,
           6.3744965942613385,
           6.920443895924092,
           6.76251114101393,
           6.5832693494940795,
           7.048884048863682,
           6.916863133097309,
           6.76251114101393,
           8.420958198667496,
           8.131588602600704,
           7.821307361774523,
           8.679135889125403,
           8.420958198667496,
           8.139094578956366,
           8.899479888496108,
           8.673149021077503,
           8.420958198667496,
           7.927621808435017,
           7.62781185584844,
           7.3117610329036795,
           8.20063184684914,
           7.927621808435017,
           7.635521054650333,
           8.43940732730612,
           8.194227864644946,
           7.927621808435017,
           8.944347847633725,
           8.495862802370807,
           8.040130915011183,
           9.369716646856446,
           8.944347847633725,
           8.507184095699593,
           9.758807361126337,
           9.359521113944574,
           8.944347847633725,
           11.950052644435818,
           11.417703123268835,
           10.862730147247404,
           12.44016268420391,
           11.950052644435818,
           11.431318467398832,
           12.873434923268867,
           12.428604112273547,
           11.950052644435818,
           14.594524636881657,
           13.899074468156254,
           13.180373956786022,
           15.241125594634276,
           14.594524636881657,
           13.916783051778461,
           15.819096357154985,
           15.225795569255132,
           14.594524636881657,
           9.779645899773293,
           9.273395794168511,
           8.760042974587039,
           10.260776483426394,
           9.779645899773293,
           9.286162366854601,
           10.701724792028724,
           10.249233181535374,
           9.779645899773293,
           9.868304298426798,
           9.348490551538593,
           8.82350922910785,
           10.36458553765462,
           9.868304298426798,
           9.361572264723122,
           10.821724592563553,
           10.352649860908247,
           9.868304298426798,
           9.74999068240191,
           9.24929490181225,
           8.74206507269727,
           10.226488704084527,
           9.74999068240191,
           9.26191467505596,
           10.663960166726492,
           10.21504735805796,
           9.74999068240191,
           5.90872541154345,
           5.582565812632835,
           5.258944174923784,
           6.226669662867995,
           5.90872541154345,
           5.59069923712816,
           6.5265920176003895,
           6.218936389247478,
           5.90872541154345,
           7.835454475929714,
           7.270698571627334,
           6.727378968518471,
           8.403711328422187,
           7.835454475929714,
           7.2845679375353924,
           8.957088811611262,
           8.389671609120784,
           7.835454475929714,
           11.208752996365753,
           10.50584953269241,
           9.812617253424337,
           11.897212529586938,
           11.208752996365753,
           10.52332954786526,
           12.54877539446619,
           11.880436053451227,
           11.208752996365753,
           7.735165074361964,
           7.185982044962613,
           6.657257875992613,
           8.287520621730787,
           7.735165074361964,
           7.199473172288561,
           8.825376542923497,
           8.273875049436864,
           7.735165074361964,
           6.253318727438094,
           5.823626368572197,
           5.408726197090474,
           6.684253335932876,
           6.253318727438094,
           5.834197268688839,
           7.10272427865572,
           6.673621980651551,
           6.253318727438094,
           8.188283373255222,
           7.5930004868328425,
           7.021894494333477,
           8.789141680624933,
           8.188283373255222,
           7.60759873893023,
           9.376295624002148,
           8.774272008519668,
           8.188283373255222,
           4.643817005005995,
           4.290451608050986,
           3.955573899640406,
           5.005378716085143,
           4.643817005005995,
           4.299063059308787,
           5.363904920509828,
           4.996368023066314,
           4.643817005005995,
           3.3215238972677197,
           3.0617102426124196,
           2.816956623344333,
           3.5891149933730384,
           3.3215238972677197,
           3.068022578290614,
           3.8563271061333646,
           3.5824237428977233,
           3.3215238972677197,
           4.619148609616049,
           4.2506661083870005,
           3.904065339516742,
           4.9991909867156,
           4.619148609616049,
           4.259612113784869,
           5.3791676039088685,
           4.989681807827497,
           4.619148609616049,
           3.849981283178611,
           3.565608810519134,
           3.295747470774555,
           4.140687077332792,
           3.849981283178611,
           3.572543071360496,
           4.428837488611919,
           4.13344425588611,
           3.849981283178611,
           2.3550993565959346,
           2.1726291034508285,
           2.0008704563210764,
           2.543238709690086,
           2.3550993565959346,
           2.177060385525997,
           2.731373866174946,
           2.5385312052865947,
           2.3550993565959346
          ],
          "colorscale": [
           [
            0,
            "#000004"
           ],
           [
            0.1111111111111111,
            "#1b0c41"
           ],
           [
            0.2222222222222222,
            "#4a0c6b"
           ],
           [
            0.3333333333333333,
            "#781c6d"
           ],
           [
            0.4444444444444444,
            "#a52c60"
           ],
           [
            0.5555555555555556,
            "#cf4446"
           ],
           [
            0.6666666666666666,
            "#ed6925"
           ],
           [
            0.7777777777777778,
            "#fb9b06"
           ],
           [
            0.8888888888888888,
            "#f7d13d"
           ],
           [
            1,
            "#fcffa4"
           ]
          ],
          "opacity": 0.8,
          "size": [
           3.8463305712696796,
           3.833998287352779,
           3.8065514610575213,
           3.843575235667674,
           3.8463305712696796,
           3.8344922379744366,
           3.827395294102232,
           3.8438165943610603,
           3.8463305712696796,
           4.436742784817371,
           4.4563147157318825,
           4.458826020812264,
           4.401424351674806,
           4.436742784817371,
           4.456032994121188,
           4.353316746589549,
           4.402473759016307,
           4.436742784817371,
           5.810873420132101,
           5.82276627691442,
           5.810481768742358,
           5.776071790850823,
           5.810873420132101,
           5.822764044363932,
           5.722071866052357,
           5.777190678839227,
           5.810873420132101,
           5.713670339065261,
           5.696973810752269,
           5.656588934050312,
           5.706786095288937,
           5.713670339065261,
           5.697682209783379,
           5.679000633925727,
           5.707226865916971,
           5.713670339065261,
           7.015315101037501,
           6.953952088761747,
           6.864292024061113,
           7.04685445977833,
           7.015315101037501,
           6.955836442556565,
           7.050364880420422,
           7.0464232296529445,
           7.015315101037501,
           9.47732995668013,
           9.337694925992748,
           9.160341206484627,
           9.574893418302086,
           9.47732995668013,
           9.341656489122405,
           9.630813605131072,
           9.572981348990485,
           9.47732995668013,
           5.87425499442086,
           5.788636340719345,
           5.681872194734997,
           5.936116849112432,
           5.87425499442086,
           5.791040564029263,
           5.974278995375429,
           5.934870054802758,
           5.87425499442086,
           6.6375018146676235,
           6.601379042191267,
           6.538791645018412,
           6.646618086252798,
           6.6375018146676235,
           6.60260815438484,
           6.631146663320737,
           6.646705029316858,
           6.6375018146676235,
           8.526794991666621,
           8.336612763897715,
           8.11697197259029,
           8.681111601933928,
           8.526794991666621,
           8.341739063919665,
           8.797276923072289,
           8.677732287756946,
           8.526794991666621,
           7.300329095026036,
           7.133179903220174,
           6.942019305739309,
           7.437806564253807,
           7.300329095026036,
           7.137662176999103,
           7.543354177085129,
           7.434769607135685,
           7.300329095026036,
           6.76251114101393,
           6.578414185122023,
           6.3744965942613385,
           6.920443895924092,
           6.76251114101393,
           6.5832693494940795,
           7.048884048863682,
           6.916863133097309,
           6.76251114101393,
           8.420958198667496,
           8.131588602600704,
           7.821307361774523,
           8.679135889125403,
           8.420958198667496,
           8.139094578956366,
           8.899479888496108,
           8.673149021077503,
           8.420958198667496,
           7.927621808435017,
           7.62781185584844,
           7.3117610329036795,
           8.20063184684914,
           7.927621808435017,
           7.635521054650333,
           8.43940732730612,
           8.194227864644946,
           7.927621808435017,
           8.944347847633725,
           8.495862802370807,
           8.040130915011183,
           9.369716646856446,
           8.944347847633725,
           8.507184095699593,
           9.758807361126337,
           9.359521113944574,
           8.944347847633725,
           11.950052644435818,
           11.417703123268835,
           10.862730147247404,
           12.44016268420391,
           11.950052644435818,
           11.431318467398832,
           12.873434923268867,
           12.428604112273547,
           11.950052644435818,
           14.594524636881657,
           13.899074468156254,
           13.180373956786022,
           15.241125594634276,
           14.594524636881657,
           13.916783051778461,
           15.819096357154985,
           15.225795569255132,
           14.594524636881657,
           9.779645899773293,
           9.273395794168511,
           8.760042974587039,
           10.260776483426394,
           9.779645899773293,
           9.286162366854601,
           10.701724792028724,
           10.249233181535374,
           9.779645899773293,
           9.868304298426798,
           9.348490551538593,
           8.82350922910785,
           10.36458553765462,
           9.868304298426798,
           9.361572264723122,
           10.821724592563553,
           10.352649860908247,
           9.868304298426798,
           9.74999068240191,
           9.24929490181225,
           8.74206507269727,
           10.226488704084527,
           9.74999068240191,
           9.26191467505596,
           10.663960166726492,
           10.21504735805796,
           9.74999068240191,
           5.90872541154345,
           5.582565812632835,
           5.258944174923784,
           6.226669662867995,
           5.90872541154345,
           5.59069923712816,
           6.5265920176003895,
           6.218936389247478,
           5.90872541154345,
           7.835454475929714,
           7.270698571627334,
           6.727378968518471,
           8.403711328422187,
           7.835454475929714,
           7.2845679375353924,
           8.957088811611262,
           8.389671609120784,
           7.835454475929714,
           11.208752996365753,
           10.50584953269241,
           9.812617253424337,
           11.897212529586938,
           11.208752996365753,
           10.52332954786526,
           12.54877539446619,
           11.880436053451227,
           11.208752996365753,
           7.735165074361964,
           7.185982044962613,
           6.657257875992613,
           8.287520621730787,
           7.735165074361964,
           7.199473172288561,
           8.825376542923497,
           8.273875049436864,
           7.735165074361964,
           6.253318727438094,
           5.823626368572197,
           5.408726197090474,
           6.684253335932876,
           6.253318727438094,
           5.834197268688839,
           7.10272427865572,
           6.673621980651551,
           6.253318727438094,
           8.188283373255222,
           7.5930004868328425,
           7.021894494333477,
           8.789141680624933,
           8.188283373255222,
           7.60759873893023,
           9.376295624002148,
           8.774272008519668,
           8.188283373255222,
           4.643817005005995,
           4.290451608050986,
           3.955573899640406,
           5.005378716085143,
           4.643817005005995,
           4.299063059308787,
           5.363904920509828,
           4.996368023066314,
           4.643817005005995,
           3.3215238972677197,
           3.0617102426124196,
           2.816956623344333,
           3.5891149933730384,
           3.3215238972677197,
           3.068022578290614,
           3.8563271061333646,
           3.5824237428977233,
           3.3215238972677197,
           4.619148609616049,
           4.2506661083870005,
           3.904065339516742,
           4.9991909867156,
           4.619148609616049,
           4.259612113784869,
           5.3791676039088685,
           4.989681807827497,
           4.619148609616049,
           3.849981283178611,
           3.565608810519134,
           3.295747470774555,
           4.140687077332792,
           3.849981283178611,
           3.572543071360496,
           4.428837488611919,
           4.13344425588611,
           3.849981283178611,
           2.3550993565959346,
           2.1726291034508285,
           2.0008704563210764,
           2.543238709690086,
           2.3550993565959346,
           2.177060385525997,
           2.731373866174946,
           2.5385312052865947,
           2.3550993565959346
          ]
         },
         "mode": "markers",
         "type": "scatter3d",
         "x": [
          3.2,
          3.2,
          3.2,
          3.2,
          3.2,
          3.2,
          3.2,
          3.2,
          3.2,
          3.227586206896552,
          3.227586206896552,
          3.227586206896552,
          3.227586206896552,
          3.227586206896552,
          3.227586206896552,
          3.227586206896552,
          3.227586206896552,
          3.227586206896552,
          3.2551724137931037,
          3.2551724137931037,
          3.2551724137931037,
          3.2551724137931037,
          3.2551724137931037,
          3.2551724137931037,
          3.2551724137931037,
          3.2551724137931037,
          3.2551724137931037,
          3.2827586206896555,
          3.2827586206896555,
          3.2827586206896555,
          3.2827586206896555,
          3.2827586206896555,
          3.2827586206896555,
          3.2827586206896555,
          3.2827586206896555,
          3.2827586206896555,
          3.310344827586207,
          3.310344827586207,
          3.310344827586207,
          3.310344827586207,
          3.310344827586207,
          3.310344827586207,
          3.310344827586207,
          3.310344827586207,
          3.310344827586207,
          3.3379310344827586,
          3.3379310344827586,
          3.3379310344827586,
          3.3379310344827586,
          3.3379310344827586,
          3.3379310344827586,
          3.3379310344827586,
          3.3379310344827586,
          3.3379310344827586,
          3.3655172413793104,
          3.3655172413793104,
          3.3655172413793104,
          3.3655172413793104,
          3.3655172413793104,
          3.3655172413793104,
          3.3655172413793104,
          3.3655172413793104,
          3.3655172413793104,
          3.393103448275862,
          3.393103448275862,
          3.393103448275862,
          3.393103448275862,
          3.393103448275862,
          3.393103448275862,
          3.393103448275862,
          3.393103448275862,
          3.393103448275862,
          3.420689655172414,
          3.420689655172414,
          3.420689655172414,
          3.420689655172414,
          3.420689655172414,
          3.420689655172414,
          3.420689655172414,
          3.420689655172414,
          3.420689655172414,
          3.4482758620689657,
          3.4482758620689657,
          3.4482758620689657,
          3.4482758620689657,
          3.4482758620689657,
          3.4482758620689657,
          3.4482758620689657,
          3.4482758620689657,
          3.4482758620689657,
          3.4758620689655175,
          3.4758620689655175,
          3.4758620689655175,
          3.4758620689655175,
          3.4758620689655175,
          3.4758620689655175,
          3.4758620689655175,
          3.4758620689655175,
          3.4758620689655175,
          3.503448275862069,
          3.503448275862069,
          3.503448275862069,
          3.503448275862069,
          3.503448275862069,
          3.503448275862069,
          3.503448275862069,
          3.503448275862069,
          3.503448275862069,
          3.5310344827586206,
          3.5310344827586206,
          3.5310344827586206,
          3.5310344827586206,
          3.5310344827586206,
          3.5310344827586206,
          3.5310344827586206,
          3.5310344827586206,
          3.5310344827586206,
          3.5586206896551724,
          3.5586206896551724,
          3.5586206896551724,
          3.5586206896551724,
          3.5586206896551724,
          3.5586206896551724,
          3.5586206896551724,
          3.5586206896551724,
          3.5586206896551724,
          3.586206896551724,
          3.586206896551724,
          3.586206896551724,
          3.586206896551724,
          3.586206896551724,
          3.586206896551724,
          3.586206896551724,
          3.586206896551724,
          3.586206896551724,
          3.613793103448276,
          3.613793103448276,
          3.613793103448276,
          3.613793103448276,
          3.613793103448276,
          3.613793103448276,
          3.613793103448276,
          3.613793103448276,
          3.613793103448276,
          3.6413793103448278,
          3.6413793103448278,
          3.6413793103448278,
          3.6413793103448278,
          3.6413793103448278,
          3.6413793103448278,
          3.6413793103448278,
          3.6413793103448278,
          3.6413793103448278,
          3.6689655172413795,
          3.6689655172413795,
          3.6689655172413795,
          3.6689655172413795,
          3.6689655172413795,
          3.6689655172413795,
          3.6689655172413795,
          3.6689655172413795,
          3.6689655172413795,
          3.6965517241379313,
          3.6965517241379313,
          3.6965517241379313,
          3.6965517241379313,
          3.6965517241379313,
          3.6965517241379313,
          3.6965517241379313,
          3.6965517241379313,
          3.6965517241379313,
          3.7241379310344827,
          3.7241379310344827,
          3.7241379310344827,
          3.7241379310344827,
          3.7241379310344827,
          3.7241379310344827,
          3.7241379310344827,
          3.7241379310344827,
          3.7241379310344827,
          3.7517241379310344,
          3.7517241379310344,
          3.7517241379310344,
          3.7517241379310344,
          3.7517241379310344,
          3.7517241379310344,
          3.7517241379310344,
          3.7517241379310344,
          3.7517241379310344,
          3.779310344827586,
          3.779310344827586,
          3.779310344827586,
          3.779310344827586,
          3.779310344827586,
          3.779310344827586,
          3.779310344827586,
          3.779310344827586,
          3.779310344827586,
          3.806896551724138,
          3.806896551724138,
          3.806896551724138,
          3.806896551724138,
          3.806896551724138,
          3.806896551724138,
          3.806896551724138,
          3.806896551724138,
          3.806896551724138,
          3.8344827586206898,
          3.8344827586206898,
          3.8344827586206898,
          3.8344827586206898,
          3.8344827586206898,
          3.8344827586206898,
          3.8344827586206898,
          3.8344827586206898,
          3.8344827586206898,
          3.862068965517241,
          3.862068965517241,
          3.862068965517241,
          3.862068965517241,
          3.862068965517241,
          3.862068965517241,
          3.862068965517241,
          3.862068965517241,
          3.862068965517241,
          3.889655172413793,
          3.889655172413793,
          3.889655172413793,
          3.889655172413793,
          3.889655172413793,
          3.889655172413793,
          3.889655172413793,
          3.889655172413793,
          3.889655172413793,
          3.9172413793103447,
          3.9172413793103447,
          3.9172413793103447,
          3.9172413793103447,
          3.9172413793103447,
          3.9172413793103447,
          3.9172413793103447,
          3.9172413793103447,
          3.9172413793103447,
          3.9448275862068964,
          3.9448275862068964,
          3.9448275862068964,
          3.9448275862068964,
          3.9448275862068964,
          3.9448275862068964,
          3.9448275862068964,
          3.9448275862068964,
          3.9448275862068964,
          3.972413793103448,
          3.972413793103448,
          3.972413793103448,
          3.972413793103448,
          3.972413793103448,
          3.972413793103448,
          3.972413793103448,
          3.972413793103448,
          3.972413793103448,
          4,
          4,
          4,
          4,
          4,
          4,
          4,
          4,
          4
         ],
         "y": [
          1.95,
          1.95,
          1.95,
          2,
          2,
          2,
          2.05,
          2.05,
          2.05,
          1.95,
          1.95,
          1.95,
          2,
          2,
          2,
          2.05,
          2.05,
          2.05,
          1.95,
          1.95,
          1.95,
          2,
          2,
          2,
          2.05,
          2.05,
          2.05,
          1.95,
          1.95,
          1.95,
          2,
          2,
          2,
          2.05,
          2.05,
          2.05,
          1.95,
          1.95,
          1.95,
          2,
          2,
          2,
          2.05,
          2.05,
          2.05,
          1.95,
          1.95,
          1.95,
          2,
          2,
          2,
          2.05,
          2.05,
          2.05,
          1.95,
          1.95,
          1.95,
          2,
          2,
          2,
          2.05,
          2.05,
          2.05,
          1.95,
          1.95,
          1.95,
          2,
          2,
          2,
          2.05,
          2.05,
          2.05,
          1.95,
          1.95,
          1.95,
          2,
          2,
          2,
          2.05,
          2.05,
          2.05,
          1.95,
          1.95,
          1.95,
          2,
          2,
          2,
          2.05,
          2.05,
          2.05,
          1.95,
          1.95,
          1.95,
          2,
          2,
          2,
          2.05,
          2.05,
          2.05,
          1.95,
          1.95,
          1.95,
          2,
          2,
          2,
          2.05,
          2.05,
          2.05,
          1.95,
          1.95,
          1.95,
          2,
          2,
          2,
          2.05,
          2.05,
          2.05,
          1.95,
          1.95,
          1.95,
          2,
          2,
          2,
          2.05,
          2.05,
          2.05,
          1.95,
          1.95,
          1.95,
          2,
          2,
          2,
          2.05,
          2.05,
          2.05,
          1.95,
          1.95,
          1.95,
          2,
          2,
          2,
          2.05,
          2.05,
          2.05,
          1.95,
          1.95,
          1.95,
          2,
          2,
          2,
          2.05,
          2.05,
          2.05,
          1.95,
          1.95,
          1.95,
          2,
          2,
          2,
          2.05,
          2.05,
          2.05,
          1.95,
          1.95,
          1.95,
          2,
          2,
          2,
          2.05,
          2.05,
          2.05,
          1.95,
          1.95,
          1.95,
          2,
          2,
          2,
          2.05,
          2.05,
          2.05,
          1.95,
          1.95,
          1.95,
          2,
          2,
          2,
          2.05,
          2.05,
          2.05,
          1.95,
          1.95,
          1.95,
          2,
          2,
          2,
          2.05,
          2.05,
          2.05,
          1.95,
          1.95,
          1.95,
          2,
          2,
          2,
          2.05,
          2.05,
          2.05,
          1.95,
          1.95,
          1.95,
          2,
          2,
          2,
          2.05,
          2.05,
          2.05,
          1.95,
          1.95,
          1.95,
          2,
          2,
          2,
          2.05,
          2.05,
          2.05,
          1.95,
          1.95,
          1.95,
          2,
          2,
          2,
          2.05,
          2.05,
          2.05,
          1.95,
          1.95,
          1.95,
          2,
          2,
          2,
          2.05,
          2.05,
          2.05,
          1.95,
          1.95,
          1.95,
          2,
          2,
          2,
          2.05,
          2.05,
          2.05,
          1.95,
          1.95,
          1.95,
          2,
          2,
          2,
          2.05,
          2.05,
          2.05,
          1.95,
          1.95,
          1.95,
          2,
          2,
          2,
          2.05,
          2.05,
          2.05
         ],
         "z": [
          1.95,
          2,
          2.05,
          1.95,
          2,
          2.05,
          1.95,
          2,
          2.05,
          1.95,
          2,
          2.05,
          1.95,
          2,
          2.05,
          1.95,
          2,
          2.05,
          1.95,
          2,
          2.05,
          1.95,
          2,
          2.05,
          1.95,
          2,
          2.05,
          1.95,
          2,
          2.05,
          1.95,
          2,
          2.05,
          1.95,
          2,
          2.05,
          1.95,
          2,
          2.05,
          1.95,
          2,
          2.05,
          1.95,
          2,
          2.05,
          1.95,
          2,
          2.05,
          1.95,
          2,
          2.05,
          1.95,
          2,
          2.05,
          1.95,
          2,
          2.05,
          1.95,
          2,
          2.05,
          1.95,
          2,
          2.05,
          1.95,
          2,
          2.05,
          1.95,
          2,
          2.05,
          1.95,
          2,
          2.05,
          1.95,
          2,
          2.05,
          1.95,
          2,
          2.05,
          1.95,
          2,
          2.05,
          1.95,
          2,
          2.05,
          1.95,
          2,
          2.05,
          1.95,
          2,
          2.05,
          1.95,
          2,
          2.05,
          1.95,
          2,
          2.05,
          1.95,
          2,
          2.05,
          1.95,
          2,
          2.05,
          1.95,
          2,
          2.05,
          1.95,
          2,
          2.05,
          1.95,
          2,
          2.05,
          1.95,
          2,
          2.05,
          1.95,
          2,
          2.05,
          1.95,
          2,
          2.05,
          1.95,
          2,
          2.05,
          1.95,
          2,
          2.05,
          1.95,
          2,
          2.05,
          1.95,
          2,
          2.05,
          1.95,
          2,
          2.05,
          1.95,
          2,
          2.05,
          1.95,
          2,
          2.05,
          1.95,
          2,
          2.05,
          1.95,
          2,
          2.05,
          1.95,
          2,
          2.05,
          1.95,
          2,
          2.05,
          1.95,
          2,
          2.05,
          1.95,
          2,
          2.05,
          1.95,
          2,
          2.05,
          1.95,
          2,
          2.05,
          1.95,
          2,
          2.05,
          1.95,
          2,
          2.05,
          1.95,
          2,
          2.05,
          1.95,
          2,
          2.05,
          1.95,
          2,
          2.05,
          1.95,
          2,
          2.05,
          1.95,
          2,
          2.05,
          1.95,
          2,
          2.05,
          1.95,
          2,
          2.05,
          1.95,
          2,
          2.05,
          1.95,
          2,
          2.05,
          1.95,
          2,
          2.05,
          1.95,
          2,
          2.05,
          1.95,
          2,
          2.05,
          1.95,
          2,
          2.05,
          1.95,
          2,
          2.05,
          1.95,
          2,
          2.05,
          1.95,
          2,
          2.05,
          1.95,
          2,
          2.05,
          1.95,
          2,
          2.05,
          1.95,
          2,
          2.05,
          1.95,
          2,
          2.05,
          1.95,
          2,
          2.05,
          1.95,
          2,
          2.05,
          1.95,
          2,
          2.05,
          1.95,
          2,
          2.05,
          1.95,
          2,
          2.05,
          1.95,
          2,
          2.05,
          1.95,
          2,
          2.05,
          1.95,
          2,
          2.05,
          1.95,
          2,
          2.05,
          1.95,
          2,
          2.05,
          1.95,
          2,
          2.05,
          1.95,
          2,
          2.05,
          1.95,
          2,
          2.05
         ]
        }
       ],
       "layout": {
        "template": {
         "data": {
          "bar": [
           {
            "error_x": {
             "color": "#2a3f5f"
            },
            "error_y": {
             "color": "#2a3f5f"
            },
            "marker": {
             "line": {
              "color": "#E5ECF6",
              "width": 0.5
             },
             "pattern": {
              "fillmode": "overlay",
              "size": 10,
              "solidity": 0.2
             }
            },
            "type": "bar"
           }
          ],
          "barpolar": [
           {
            "marker": {
             "line": {
              "color": "#E5ECF6",
              "width": 0.5
             },
             "pattern": {
              "fillmode": "overlay",
              "size": 10,
              "solidity": 0.2
             }
            },
            "type": "barpolar"
           }
          ],
          "carpet": [
           {
            "aaxis": {
             "endlinecolor": "#2a3f5f",
             "gridcolor": "white",
             "linecolor": "white",
             "minorgridcolor": "white",
             "startlinecolor": "#2a3f5f"
            },
            "baxis": {
             "endlinecolor": "#2a3f5f",
             "gridcolor": "white",
             "linecolor": "white",
             "minorgridcolor": "white",
             "startlinecolor": "#2a3f5f"
            },
            "type": "carpet"
           }
          ],
          "choropleth": [
           {
            "colorbar": {
             "outlinewidth": 0,
             "ticks": ""
            },
            "type": "choropleth"
           }
          ],
          "contour": [
           {
            "colorbar": {
             "outlinewidth": 0,
             "ticks": ""
            },
            "colorscale": [
             [
              0,
              "#0d0887"
             ],
             [
              0.1111111111111111,
              "#46039f"
             ],
             [
              0.2222222222222222,
              "#7201a8"
             ],
             [
              0.3333333333333333,
              "#9c179e"
             ],
             [
              0.4444444444444444,
              "#bd3786"
             ],
             [
              0.5555555555555556,
              "#d8576b"
             ],
             [
              0.6666666666666666,
              "#ed7953"
             ],
             [
              0.7777777777777778,
              "#fb9f3a"
             ],
             [
              0.8888888888888888,
              "#fdca26"
             ],
             [
              1,
              "#f0f921"
             ]
            ],
            "type": "contour"
           }
          ],
          "contourcarpet": [
           {
            "colorbar": {
             "outlinewidth": 0,
             "ticks": ""
            },
            "type": "contourcarpet"
           }
          ],
          "heatmap": [
           {
            "colorbar": {
             "outlinewidth": 0,
             "ticks": ""
            },
            "colorscale": [
             [
              0,
              "#0d0887"
             ],
             [
              0.1111111111111111,
              "#46039f"
             ],
             [
              0.2222222222222222,
              "#7201a8"
             ],
             [
              0.3333333333333333,
              "#9c179e"
             ],
             [
              0.4444444444444444,
              "#bd3786"
             ],
             [
              0.5555555555555556,
              "#d8576b"
             ],
             [
              0.6666666666666666,
              "#ed7953"
             ],
             [
              0.7777777777777778,
              "#fb9f3a"
             ],
             [
              0.8888888888888888,
              "#fdca26"
             ],
             [
              1,
              "#f0f921"
             ]
            ],
            "type": "heatmap"
           }
          ],
          "heatmapgl": [
           {
            "colorbar": {
             "outlinewidth": 0,
             "ticks": ""
            },
            "colorscale": [
             [
              0,
              "#0d0887"
             ],
             [
              0.1111111111111111,
              "#46039f"
             ],
             [
              0.2222222222222222,
              "#7201a8"
             ],
             [
              0.3333333333333333,
              "#9c179e"
             ],
             [
              0.4444444444444444,
              "#bd3786"
             ],
             [
              0.5555555555555556,
              "#d8576b"
             ],
             [
              0.6666666666666666,
              "#ed7953"
             ],
             [
              0.7777777777777778,
              "#fb9f3a"
             ],
             [
              0.8888888888888888,
              "#fdca26"
             ],
             [
              1,
              "#f0f921"
             ]
            ],
            "type": "heatmapgl"
           }
          ],
          "histogram": [
           {
            "marker": {
             "pattern": {
              "fillmode": "overlay",
              "size": 10,
              "solidity": 0.2
             }
            },
            "type": "histogram"
           }
          ],
          "histogram2d": [
           {
            "colorbar": {
             "outlinewidth": 0,
             "ticks": ""
            },
            "colorscale": [
             [
              0,
              "#0d0887"
             ],
             [
              0.1111111111111111,
              "#46039f"
             ],
             [
              0.2222222222222222,
              "#7201a8"
             ],
             [
              0.3333333333333333,
              "#9c179e"
             ],
             [
              0.4444444444444444,
              "#bd3786"
             ],
             [
              0.5555555555555556,
              "#d8576b"
             ],
             [
              0.6666666666666666,
              "#ed7953"
             ],
             [
              0.7777777777777778,
              "#fb9f3a"
             ],
             [
              0.8888888888888888,
              "#fdca26"
             ],
             [
              1,
              "#f0f921"
             ]
            ],
            "type": "histogram2d"
           }
          ],
          "histogram2dcontour": [
           {
            "colorbar": {
             "outlinewidth": 0,
             "ticks": ""
            },
            "colorscale": [
             [
              0,
              "#0d0887"
             ],
             [
              0.1111111111111111,
              "#46039f"
             ],
             [
              0.2222222222222222,
              "#7201a8"
             ],
             [
              0.3333333333333333,
              "#9c179e"
             ],
             [
              0.4444444444444444,
              "#bd3786"
             ],
             [
              0.5555555555555556,
              "#d8576b"
             ],
             [
              0.6666666666666666,
              "#ed7953"
             ],
             [
              0.7777777777777778,
              "#fb9f3a"
             ],
             [
              0.8888888888888888,
              "#fdca26"
             ],
             [
              1,
              "#f0f921"
             ]
            ],
            "type": "histogram2dcontour"
           }
          ],
          "mesh3d": [
           {
            "colorbar": {
             "outlinewidth": 0,
             "ticks": ""
            },
            "type": "mesh3d"
           }
          ],
          "parcoords": [
           {
            "line": {
             "colorbar": {
              "outlinewidth": 0,
              "ticks": ""
             }
            },
            "type": "parcoords"
           }
          ],
          "pie": [
           {
            "automargin": true,
            "type": "pie"
           }
          ],
          "scatter": [
           {
            "marker": {
             "colorbar": {
              "outlinewidth": 0,
              "ticks": ""
             }
            },
            "type": "scatter"
           }
          ],
          "scatter3d": [
           {
            "line": {
             "colorbar": {
              "outlinewidth": 0,
              "ticks": ""
             }
            },
            "marker": {
             "colorbar": {
              "outlinewidth": 0,
              "ticks": ""
             }
            },
            "type": "scatter3d"
           }
          ],
          "scattercarpet": [
           {
            "marker": {
             "colorbar": {
              "outlinewidth": 0,
              "ticks": ""
             }
            },
            "type": "scattercarpet"
           }
          ],
          "scattergeo": [
           {
            "marker": {
             "colorbar": {
              "outlinewidth": 0,
              "ticks": ""
             }
            },
            "type": "scattergeo"
           }
          ],
          "scattergl": [
           {
            "marker": {
             "colorbar": {
              "outlinewidth": 0,
              "ticks": ""
             }
            },
            "type": "scattergl"
           }
          ],
          "scattermapbox": [
           {
            "marker": {
             "colorbar": {
              "outlinewidth": 0,
              "ticks": ""
             }
            },
            "type": "scattermapbox"
           }
          ],
          "scatterpolar": [
           {
            "marker": {
             "colorbar": {
              "outlinewidth": 0,
              "ticks": ""
             }
            },
            "type": "scatterpolar"
           }
          ],
          "scatterpolargl": [
           {
            "marker": {
             "colorbar": {
              "outlinewidth": 0,
              "ticks": ""
             }
            },
            "type": "scatterpolargl"
           }
          ],
          "scatterternary": [
           {
            "marker": {
             "colorbar": {
              "outlinewidth": 0,
              "ticks": ""
             }
            },
            "type": "scatterternary"
           }
          ],
          "surface": [
           {
            "colorbar": {
             "outlinewidth": 0,
             "ticks": ""
            },
            "colorscale": [
             [
              0,
              "#0d0887"
             ],
             [
              0.1111111111111111,
              "#46039f"
             ],
             [
              0.2222222222222222,
              "#7201a8"
             ],
             [
              0.3333333333333333,
              "#9c179e"
             ],
             [
              0.4444444444444444,
              "#bd3786"
             ],
             [
              0.5555555555555556,
              "#d8576b"
             ],
             [
              0.6666666666666666,
              "#ed7953"
             ],
             [
              0.7777777777777778,
              "#fb9f3a"
             ],
             [
              0.8888888888888888,
              "#fdca26"
             ],
             [
              1,
              "#f0f921"
             ]
            ],
            "type": "surface"
           }
          ],
          "table": [
           {
            "cells": {
             "fill": {
              "color": "#EBF0F8"
             },
             "line": {
              "color": "white"
             }
            },
            "header": {
             "fill": {
              "color": "#C8D4E3"
             },
             "line": {
              "color": "white"
             }
            },
            "type": "table"
           }
          ]
         },
         "layout": {
          "annotationdefaults": {
           "arrowcolor": "#2a3f5f",
           "arrowhead": 0,
           "arrowwidth": 1
          },
          "autotypenumbers": "strict",
          "coloraxis": {
           "colorbar": {
            "outlinewidth": 0,
            "ticks": ""
           }
          },
          "colorscale": {
           "diverging": [
            [
             0,
             "#8e0152"
            ],
            [
             0.1,
             "#c51b7d"
            ],
            [
             0.2,
             "#de77ae"
            ],
            [
             0.3,
             "#f1b6da"
            ],
            [
             0.4,
             "#fde0ef"
            ],
            [
             0.5,
             "#f7f7f7"
            ],
            [
             0.6,
             "#e6f5d0"
            ],
            [
             0.7,
             "#b8e186"
            ],
            [
             0.8,
             "#7fbc41"
            ],
            [
             0.9,
             "#4d9221"
            ],
            [
             1,
             "#276419"
            ]
           ],
           "sequential": [
            [
             0,
             "#0d0887"
            ],
            [
             0.1111111111111111,
             "#46039f"
            ],
            [
             0.2222222222222222,
             "#7201a8"
            ],
            [
             0.3333333333333333,
             "#9c179e"
            ],
            [
             0.4444444444444444,
             "#bd3786"
            ],
            [
             0.5555555555555556,
             "#d8576b"
            ],
            [
             0.6666666666666666,
             "#ed7953"
            ],
            [
             0.7777777777777778,
             "#fb9f3a"
            ],
            [
             0.8888888888888888,
             "#fdca26"
            ],
            [
             1,
             "#f0f921"
            ]
           ],
           "sequentialminus": [
            [
             0,
             "#0d0887"
            ],
            [
             0.1111111111111111,
             "#46039f"
            ],
            [
             0.2222222222222222,
             "#7201a8"
            ],
            [
             0.3333333333333333,
             "#9c179e"
            ],
            [
             0.4444444444444444,
             "#bd3786"
            ],
            [
             0.5555555555555556,
             "#d8576b"
            ],
            [
             0.6666666666666666,
             "#ed7953"
            ],
            [
             0.7777777777777778,
             "#fb9f3a"
            ],
            [
             0.8888888888888888,
             "#fdca26"
            ],
            [
             1,
             "#f0f921"
            ]
           ]
          },
          "colorway": [
           "#636efa",
           "#EF553B",
           "#00cc96",
           "#ab63fa",
           "#FFA15A",
           "#19d3f3",
           "#FF6692",
           "#B6E880",
           "#FF97FF",
           "#FECB52"
          ],
          "font": {
           "color": "#2a3f5f"
          },
          "geo": {
           "bgcolor": "white",
           "lakecolor": "white",
           "landcolor": "#E5ECF6",
           "showlakes": true,
           "showland": true,
           "subunitcolor": "white"
          },
          "hoverlabel": {
           "align": "left"
          },
          "hovermode": "closest",
          "mapbox": {
           "style": "light"
          },
          "paper_bgcolor": "white",
          "plot_bgcolor": "#E5ECF6",
          "polar": {
           "angularaxis": {
            "gridcolor": "white",
            "linecolor": "white",
            "ticks": ""
           },
           "bgcolor": "#E5ECF6",
           "radialaxis": {
            "gridcolor": "white",
            "linecolor": "white",
            "ticks": ""
           }
          },
          "scene": {
           "xaxis": {
            "backgroundcolor": "#E5ECF6",
            "gridcolor": "white",
            "gridwidth": 2,
            "linecolor": "white",
            "showbackground": true,
            "ticks": "",
            "zerolinecolor": "white"
           },
           "yaxis": {
            "backgroundcolor": "#E5ECF6",
            "gridcolor": "white",
            "gridwidth": 2,
            "linecolor": "white",
            "showbackground": true,
            "ticks": "",
            "zerolinecolor": "white"
           },
           "zaxis": {
            "backgroundcolor": "#E5ECF6",
            "gridcolor": "white",
            "gridwidth": 2,
            "linecolor": "white",
            "showbackground": true,
            "ticks": "",
            "zerolinecolor": "white"
           }
          },
          "shapedefaults": {
           "line": {
            "color": "#2a3f5f"
           }
          },
          "ternary": {
           "aaxis": {
            "gridcolor": "white",
            "linecolor": "white",
            "ticks": ""
           },
           "baxis": {
            "gridcolor": "white",
            "linecolor": "white",
            "ticks": ""
           },
           "bgcolor": "#E5ECF6",
           "caxis": {
            "gridcolor": "white",
            "linecolor": "white",
            "ticks": ""
           }
          },
          "title": {
           "x": 0.05
          },
          "xaxis": {
           "automargin": true,
           "gridcolor": "white",
           "linecolor": "white",
           "ticks": "",
           "title": {
            "standoff": 15
           },
           "zerolinecolor": "white",
           "zerolinewidth": 2
          },
          "yaxis": {
           "automargin": true,
           "gridcolor": "white",
           "linecolor": "white",
           "ticks": "",
           "title": {
            "standoff": 15
           },
           "zerolinecolor": "white",
           "zerolinewidth": 2
          }
         }
        }
       }
      },
      "text/html": [
       "<div>                            <div id=\"bc96b48a-c34a-44e0-8c4d-be77d6ee3afe\" class=\"plotly-graph-div\" style=\"height:525px; width:100%;\"></div>            <script type=\"text/javascript\">                require([\"plotly\"], function(Plotly) {                    window.PLOTLYENV=window.PLOTLYENV || {};                                    if (document.getElementById(\"bc96b48a-c34a-44e0-8c4d-be77d6ee3afe\")) {                    Plotly.newPlot(                        \"bc96b48a-c34a-44e0-8c4d-be77d6ee3afe\",                        [{\"marker\":{\"color\":[3.8463305712696796,3.833998287352779,3.8065514610575213,3.843575235667674,3.8463305712696796,3.8344922379744366,3.827395294102232,3.8438165943610603,3.8463305712696796,4.436742784817371,4.4563147157318825,4.458826020812264,4.401424351674806,4.436742784817371,4.456032994121188,4.353316746589549,4.402473759016307,4.436742784817371,5.810873420132101,5.82276627691442,5.810481768742358,5.776071790850823,5.810873420132101,5.822764044363932,5.722071866052357,5.777190678839227,5.810873420132101,5.713670339065261,5.696973810752269,5.656588934050312,5.706786095288937,5.713670339065261,5.697682209783379,5.679000633925727,5.707226865916971,5.713670339065261,7.015315101037501,6.953952088761747,6.864292024061113,7.04685445977833,7.015315101037501,6.955836442556565,7.050364880420422,7.0464232296529445,7.015315101037501,9.47732995668013,9.337694925992748,9.160341206484627,9.574893418302086,9.47732995668013,9.341656489122405,9.630813605131072,9.572981348990485,9.47732995668013,5.87425499442086,5.788636340719345,5.681872194734997,5.936116849112432,5.87425499442086,5.791040564029263,5.974278995375429,5.934870054802758,5.87425499442086,6.6375018146676235,6.601379042191267,6.538791645018412,6.646618086252798,6.6375018146676235,6.60260815438484,6.631146663320737,6.646705029316858,6.6375018146676235,8.526794991666621,8.336612763897715,8.11697197259029,8.681111601933928,8.526794991666621,8.341739063919665,8.797276923072289,8.677732287756946,8.526794991666621,7.300329095026036,7.133179903220174,6.942019305739309,7.437806564253807,7.300329095026036,7.137662176999103,7.543354177085129,7.434769607135685,7.300329095026036,6.76251114101393,6.578414185122023,6.3744965942613385,6.920443895924092,6.76251114101393,6.5832693494940795,7.048884048863682,6.916863133097309,6.76251114101393,8.420958198667496,8.131588602600704,7.821307361774523,8.679135889125403,8.420958198667496,8.139094578956366,8.899479888496108,8.673149021077503,8.420958198667496,7.927621808435017,7.62781185584844,7.3117610329036795,8.20063184684914,7.927621808435017,7.635521054650333,8.43940732730612,8.194227864644946,7.927621808435017,8.944347847633725,8.495862802370807,8.040130915011183,9.369716646856446,8.944347847633725,8.507184095699593,9.758807361126337,9.359521113944574,8.944347847633725,11.950052644435818,11.417703123268835,10.862730147247404,12.44016268420391,11.950052644435818,11.431318467398832,12.873434923268867,12.428604112273547,11.950052644435818,14.594524636881657,13.899074468156254,13.180373956786022,15.241125594634276,14.594524636881657,13.916783051778461,15.819096357154985,15.225795569255132,14.594524636881657,9.779645899773293,9.273395794168511,8.760042974587039,10.260776483426394,9.779645899773293,9.286162366854601,10.701724792028724,10.249233181535374,9.779645899773293,9.868304298426798,9.348490551538593,8.82350922910785,10.36458553765462,9.868304298426798,9.361572264723122,10.821724592563553,10.352649860908247,9.868304298426798,9.74999068240191,9.24929490181225,8.74206507269727,10.226488704084527,9.74999068240191,9.26191467505596,10.663960166726492,10.21504735805796,9.74999068240191,5.90872541154345,5.582565812632835,5.258944174923784,6.226669662867995,5.90872541154345,5.59069923712816,6.5265920176003895,6.218936389247478,5.90872541154345,7.835454475929714,7.270698571627334,6.727378968518471,8.403711328422187,7.835454475929714,7.2845679375353924,8.957088811611262,8.389671609120784,7.835454475929714,11.208752996365753,10.50584953269241,9.812617253424337,11.897212529586938,11.208752996365753,10.52332954786526,12.54877539446619,11.880436053451227,11.208752996365753,7.735165074361964,7.185982044962613,6.657257875992613,8.287520621730787,7.735165074361964,7.199473172288561,8.825376542923497,8.273875049436864,7.735165074361964,6.253318727438094,5.823626368572197,5.408726197090474,6.684253335932876,6.253318727438094,5.834197268688839,7.10272427865572,6.673621980651551,6.253318727438094,8.188283373255222,7.5930004868328425,7.021894494333477,8.789141680624933,8.188283373255222,7.60759873893023,9.376295624002148,8.774272008519668,8.188283373255222,4.643817005005995,4.290451608050986,3.955573899640406,5.005378716085143,4.643817005005995,4.299063059308787,5.363904920509828,4.996368023066314,4.643817005005995,3.3215238972677197,3.0617102426124196,2.816956623344333,3.5891149933730384,3.3215238972677197,3.068022578290614,3.8563271061333646,3.5824237428977233,3.3215238972677197,4.619148609616049,4.2506661083870005,3.904065339516742,4.9991909867156,4.619148609616049,4.259612113784869,5.3791676039088685,4.989681807827497,4.619148609616049,3.849981283178611,3.565608810519134,3.295747470774555,4.140687077332792,3.849981283178611,3.572543071360496,4.428837488611919,4.13344425588611,3.849981283178611,2.3550993565959346,2.1726291034508285,2.0008704563210764,2.543238709690086,2.3550993565959346,2.177060385525997,2.731373866174946,2.5385312052865947,2.3550993565959346],\"colorscale\":[[0.0,\"#000004\"],[0.1111111111111111,\"#1b0c41\"],[0.2222222222222222,\"#4a0c6b\"],[0.3333333333333333,\"#781c6d\"],[0.4444444444444444,\"#a52c60\"],[0.5555555555555556,\"#cf4446\"],[0.6666666666666666,\"#ed6925\"],[0.7777777777777778,\"#fb9b06\"],[0.8888888888888888,\"#f7d13d\"],[1.0,\"#fcffa4\"]],\"opacity\":0.8,\"size\":[3.8463305712696796,3.833998287352779,3.8065514610575213,3.843575235667674,3.8463305712696796,3.8344922379744366,3.827395294102232,3.8438165943610603,3.8463305712696796,4.436742784817371,4.4563147157318825,4.458826020812264,4.401424351674806,4.436742784817371,4.456032994121188,4.353316746589549,4.402473759016307,4.436742784817371,5.810873420132101,5.82276627691442,5.810481768742358,5.776071790850823,5.810873420132101,5.822764044363932,5.722071866052357,5.777190678839227,5.810873420132101,5.713670339065261,5.696973810752269,5.656588934050312,5.706786095288937,5.713670339065261,5.697682209783379,5.679000633925727,5.707226865916971,5.713670339065261,7.015315101037501,6.953952088761747,6.864292024061113,7.04685445977833,7.015315101037501,6.955836442556565,7.050364880420422,7.0464232296529445,7.015315101037501,9.47732995668013,9.337694925992748,9.160341206484627,9.574893418302086,9.47732995668013,9.341656489122405,9.630813605131072,9.572981348990485,9.47732995668013,5.87425499442086,5.788636340719345,5.681872194734997,5.936116849112432,5.87425499442086,5.791040564029263,5.974278995375429,5.934870054802758,5.87425499442086,6.6375018146676235,6.601379042191267,6.538791645018412,6.646618086252798,6.6375018146676235,6.60260815438484,6.631146663320737,6.646705029316858,6.6375018146676235,8.526794991666621,8.336612763897715,8.11697197259029,8.681111601933928,8.526794991666621,8.341739063919665,8.797276923072289,8.677732287756946,8.526794991666621,7.300329095026036,7.133179903220174,6.942019305739309,7.437806564253807,7.300329095026036,7.137662176999103,7.543354177085129,7.434769607135685,7.300329095026036,6.76251114101393,6.578414185122023,6.3744965942613385,6.920443895924092,6.76251114101393,6.5832693494940795,7.048884048863682,6.916863133097309,6.76251114101393,8.420958198667496,8.131588602600704,7.821307361774523,8.679135889125403,8.420958198667496,8.139094578956366,8.899479888496108,8.673149021077503,8.420958198667496,7.927621808435017,7.62781185584844,7.3117610329036795,8.20063184684914,7.927621808435017,7.635521054650333,8.43940732730612,8.194227864644946,7.927621808435017,8.944347847633725,8.495862802370807,8.040130915011183,9.369716646856446,8.944347847633725,8.507184095699593,9.758807361126337,9.359521113944574,8.944347847633725,11.950052644435818,11.417703123268835,10.862730147247404,12.44016268420391,11.950052644435818,11.431318467398832,12.873434923268867,12.428604112273547,11.950052644435818,14.594524636881657,13.899074468156254,13.180373956786022,15.241125594634276,14.594524636881657,13.916783051778461,15.819096357154985,15.225795569255132,14.594524636881657,9.779645899773293,9.273395794168511,8.760042974587039,10.260776483426394,9.779645899773293,9.286162366854601,10.701724792028724,10.249233181535374,9.779645899773293,9.868304298426798,9.348490551538593,8.82350922910785,10.36458553765462,9.868304298426798,9.361572264723122,10.821724592563553,10.352649860908247,9.868304298426798,9.74999068240191,9.24929490181225,8.74206507269727,10.226488704084527,9.74999068240191,9.26191467505596,10.663960166726492,10.21504735805796,9.74999068240191,5.90872541154345,5.582565812632835,5.258944174923784,6.226669662867995,5.90872541154345,5.59069923712816,6.5265920176003895,6.218936389247478,5.90872541154345,7.835454475929714,7.270698571627334,6.727378968518471,8.403711328422187,7.835454475929714,7.2845679375353924,8.957088811611262,8.389671609120784,7.835454475929714,11.208752996365753,10.50584953269241,9.812617253424337,11.897212529586938,11.208752996365753,10.52332954786526,12.54877539446619,11.880436053451227,11.208752996365753,7.735165074361964,7.185982044962613,6.657257875992613,8.287520621730787,7.735165074361964,7.199473172288561,8.825376542923497,8.273875049436864,7.735165074361964,6.253318727438094,5.823626368572197,5.408726197090474,6.684253335932876,6.253318727438094,5.834197268688839,7.10272427865572,6.673621980651551,6.253318727438094,8.188283373255222,7.5930004868328425,7.021894494333477,8.789141680624933,8.188283373255222,7.60759873893023,9.376295624002148,8.774272008519668,8.188283373255222,4.643817005005995,4.290451608050986,3.955573899640406,5.005378716085143,4.643817005005995,4.299063059308787,5.363904920509828,4.996368023066314,4.643817005005995,3.3215238972677197,3.0617102426124196,2.816956623344333,3.5891149933730384,3.3215238972677197,3.068022578290614,3.8563271061333646,3.5824237428977233,3.3215238972677197,4.619148609616049,4.2506661083870005,3.904065339516742,4.9991909867156,4.619148609616049,4.259612113784869,5.3791676039088685,4.989681807827497,4.619148609616049,3.849981283178611,3.565608810519134,3.295747470774555,4.140687077332792,3.849981283178611,3.572543071360496,4.428837488611919,4.13344425588611,3.849981283178611,2.3550993565959346,2.1726291034508285,2.0008704563210764,2.543238709690086,2.3550993565959346,2.177060385525997,2.731373866174946,2.5385312052865947,2.3550993565959346]},\"mode\":\"markers\",\"type\":\"scatter3d\",\"x\":[3.2,3.2,3.2,3.2,3.2,3.2,3.2,3.2,3.2,3.227586206896552,3.227586206896552,3.227586206896552,3.227586206896552,3.227586206896552,3.227586206896552,3.227586206896552,3.227586206896552,3.227586206896552,3.2551724137931037,3.2551724137931037,3.2551724137931037,3.2551724137931037,3.2551724137931037,3.2551724137931037,3.2551724137931037,3.2551724137931037,3.2551724137931037,3.2827586206896555,3.2827586206896555,3.2827586206896555,3.2827586206896555,3.2827586206896555,3.2827586206896555,3.2827586206896555,3.2827586206896555,3.2827586206896555,3.310344827586207,3.310344827586207,3.310344827586207,3.310344827586207,3.310344827586207,3.310344827586207,3.310344827586207,3.310344827586207,3.310344827586207,3.3379310344827586,3.3379310344827586,3.3379310344827586,3.3379310344827586,3.3379310344827586,3.3379310344827586,3.3379310344827586,3.3379310344827586,3.3379310344827586,3.3655172413793104,3.3655172413793104,3.3655172413793104,3.3655172413793104,3.3655172413793104,3.3655172413793104,3.3655172413793104,3.3655172413793104,3.3655172413793104,3.393103448275862,3.393103448275862,3.393103448275862,3.393103448275862,3.393103448275862,3.393103448275862,3.393103448275862,3.393103448275862,3.393103448275862,3.420689655172414,3.420689655172414,3.420689655172414,3.420689655172414,3.420689655172414,3.420689655172414,3.420689655172414,3.420689655172414,3.420689655172414,3.4482758620689657,3.4482758620689657,3.4482758620689657,3.4482758620689657,3.4482758620689657,3.4482758620689657,3.4482758620689657,3.4482758620689657,3.4482758620689657,3.4758620689655175,3.4758620689655175,3.4758620689655175,3.4758620689655175,3.4758620689655175,3.4758620689655175,3.4758620689655175,3.4758620689655175,3.4758620689655175,3.503448275862069,3.503448275862069,3.503448275862069,3.503448275862069,3.503448275862069,3.503448275862069,3.503448275862069,3.503448275862069,3.503448275862069,3.5310344827586206,3.5310344827586206,3.5310344827586206,3.5310344827586206,3.5310344827586206,3.5310344827586206,3.5310344827586206,3.5310344827586206,3.5310344827586206,3.5586206896551724,3.5586206896551724,3.5586206896551724,3.5586206896551724,3.5586206896551724,3.5586206896551724,3.5586206896551724,3.5586206896551724,3.5586206896551724,3.586206896551724,3.586206896551724,3.586206896551724,3.586206896551724,3.586206896551724,3.586206896551724,3.586206896551724,3.586206896551724,3.586206896551724,3.613793103448276,3.613793103448276,3.613793103448276,3.613793103448276,3.613793103448276,3.613793103448276,3.613793103448276,3.613793103448276,3.613793103448276,3.6413793103448278,3.6413793103448278,3.6413793103448278,3.6413793103448278,3.6413793103448278,3.6413793103448278,3.6413793103448278,3.6413793103448278,3.6413793103448278,3.6689655172413795,3.6689655172413795,3.6689655172413795,3.6689655172413795,3.6689655172413795,3.6689655172413795,3.6689655172413795,3.6689655172413795,3.6689655172413795,3.6965517241379313,3.6965517241379313,3.6965517241379313,3.6965517241379313,3.6965517241379313,3.6965517241379313,3.6965517241379313,3.6965517241379313,3.6965517241379313,3.7241379310344827,3.7241379310344827,3.7241379310344827,3.7241379310344827,3.7241379310344827,3.7241379310344827,3.7241379310344827,3.7241379310344827,3.7241379310344827,3.7517241379310344,3.7517241379310344,3.7517241379310344,3.7517241379310344,3.7517241379310344,3.7517241379310344,3.7517241379310344,3.7517241379310344,3.7517241379310344,3.779310344827586,3.779310344827586,3.779310344827586,3.779310344827586,3.779310344827586,3.779310344827586,3.779310344827586,3.779310344827586,3.779310344827586,3.806896551724138,3.806896551724138,3.806896551724138,3.806896551724138,3.806896551724138,3.806896551724138,3.806896551724138,3.806896551724138,3.806896551724138,3.8344827586206898,3.8344827586206898,3.8344827586206898,3.8344827586206898,3.8344827586206898,3.8344827586206898,3.8344827586206898,3.8344827586206898,3.8344827586206898,3.862068965517241,3.862068965517241,3.862068965517241,3.862068965517241,3.862068965517241,3.862068965517241,3.862068965517241,3.862068965517241,3.862068965517241,3.889655172413793,3.889655172413793,3.889655172413793,3.889655172413793,3.889655172413793,3.889655172413793,3.889655172413793,3.889655172413793,3.889655172413793,3.9172413793103447,3.9172413793103447,3.9172413793103447,3.9172413793103447,3.9172413793103447,3.9172413793103447,3.9172413793103447,3.9172413793103447,3.9172413793103447,3.9448275862068964,3.9448275862068964,3.9448275862068964,3.9448275862068964,3.9448275862068964,3.9448275862068964,3.9448275862068964,3.9448275862068964,3.9448275862068964,3.972413793103448,3.972413793103448,3.972413793103448,3.972413793103448,3.972413793103448,3.972413793103448,3.972413793103448,3.972413793103448,3.972413793103448,4.0,4.0,4.0,4.0,4.0,4.0,4.0,4.0,4.0],\"y\":[1.95,1.95,1.95,2.0,2.0,2.0,2.05,2.05,2.05,1.95,1.95,1.95,2.0,2.0,2.0,2.05,2.05,2.05,1.95,1.95,1.95,2.0,2.0,2.0,2.05,2.05,2.05,1.95,1.95,1.95,2.0,2.0,2.0,2.05,2.05,2.05,1.95,1.95,1.95,2.0,2.0,2.0,2.05,2.05,2.05,1.95,1.95,1.95,2.0,2.0,2.0,2.05,2.05,2.05,1.95,1.95,1.95,2.0,2.0,2.0,2.05,2.05,2.05,1.95,1.95,1.95,2.0,2.0,2.0,2.05,2.05,2.05,1.95,1.95,1.95,2.0,2.0,2.0,2.05,2.05,2.05,1.95,1.95,1.95,2.0,2.0,2.0,2.05,2.05,2.05,1.95,1.95,1.95,2.0,2.0,2.0,2.05,2.05,2.05,1.95,1.95,1.95,2.0,2.0,2.0,2.05,2.05,2.05,1.95,1.95,1.95,2.0,2.0,2.0,2.05,2.05,2.05,1.95,1.95,1.95,2.0,2.0,2.0,2.05,2.05,2.05,1.95,1.95,1.95,2.0,2.0,2.0,2.05,2.05,2.05,1.95,1.95,1.95,2.0,2.0,2.0,2.05,2.05,2.05,1.95,1.95,1.95,2.0,2.0,2.0,2.05,2.05,2.05,1.95,1.95,1.95,2.0,2.0,2.0,2.05,2.05,2.05,1.95,1.95,1.95,2.0,2.0,2.0,2.05,2.05,2.05,1.95,1.95,1.95,2.0,2.0,2.0,2.05,2.05,2.05,1.95,1.95,1.95,2.0,2.0,2.0,2.05,2.05,2.05,1.95,1.95,1.95,2.0,2.0,2.0,2.05,2.05,2.05,1.95,1.95,1.95,2.0,2.0,2.0,2.05,2.05,2.05,1.95,1.95,1.95,2.0,2.0,2.0,2.05,2.05,2.05,1.95,1.95,1.95,2.0,2.0,2.0,2.05,2.05,2.05,1.95,1.95,1.95,2.0,2.0,2.0,2.05,2.05,2.05,1.95,1.95,1.95,2.0,2.0,2.0,2.05,2.05,2.05,1.95,1.95,1.95,2.0,2.0,2.0,2.05,2.05,2.05,1.95,1.95,1.95,2.0,2.0,2.0,2.05,2.05,2.05,1.95,1.95,1.95,2.0,2.0,2.0,2.05,2.05,2.05],\"z\":[1.95,2.0,2.05,1.95,2.0,2.05,1.95,2.0,2.05,1.95,2.0,2.05,1.95,2.0,2.05,1.95,2.0,2.05,1.95,2.0,2.05,1.95,2.0,2.05,1.95,2.0,2.05,1.95,2.0,2.05,1.95,2.0,2.05,1.95,2.0,2.05,1.95,2.0,2.05,1.95,2.0,2.05,1.95,2.0,2.05,1.95,2.0,2.05,1.95,2.0,2.05,1.95,2.0,2.05,1.95,2.0,2.05,1.95,2.0,2.05,1.95,2.0,2.05,1.95,2.0,2.05,1.95,2.0,2.05,1.95,2.0,2.05,1.95,2.0,2.05,1.95,2.0,2.05,1.95,2.0,2.05,1.95,2.0,2.05,1.95,2.0,2.05,1.95,2.0,2.05,1.95,2.0,2.05,1.95,2.0,2.05,1.95,2.0,2.05,1.95,2.0,2.05,1.95,2.0,2.05,1.95,2.0,2.05,1.95,2.0,2.05,1.95,2.0,2.05,1.95,2.0,2.05,1.95,2.0,2.05,1.95,2.0,2.05,1.95,2.0,2.05,1.95,2.0,2.05,1.95,2.0,2.05,1.95,2.0,2.05,1.95,2.0,2.05,1.95,2.0,2.05,1.95,2.0,2.05,1.95,2.0,2.05,1.95,2.0,2.05,1.95,2.0,2.05,1.95,2.0,2.05,1.95,2.0,2.05,1.95,2.0,2.05,1.95,2.0,2.05,1.95,2.0,2.05,1.95,2.0,2.05,1.95,2.0,2.05,1.95,2.0,2.05,1.95,2.0,2.05,1.95,2.0,2.05,1.95,2.0,2.05,1.95,2.0,2.05,1.95,2.0,2.05,1.95,2.0,2.05,1.95,2.0,2.05,1.95,2.0,2.05,1.95,2.0,2.05,1.95,2.0,2.05,1.95,2.0,2.05,1.95,2.0,2.05,1.95,2.0,2.05,1.95,2.0,2.05,1.95,2.0,2.05,1.95,2.0,2.05,1.95,2.0,2.05,1.95,2.0,2.05,1.95,2.0,2.05,1.95,2.0,2.05,1.95,2.0,2.05,1.95,2.0,2.05,1.95,2.0,2.05,1.95,2.0,2.05,1.95,2.0,2.05,1.95,2.0,2.05,1.95,2.0,2.05,1.95,2.0,2.05,1.95,2.0,2.05,1.95,2.0,2.05,1.95,2.0,2.05]}],                        {\"template\":{\"data\":{\"bar\":[{\"error_x\":{\"color\":\"#2a3f5f\"},\"error_y\":{\"color\":\"#2a3f5f\"},\"marker\":{\"line\":{\"color\":\"#E5ECF6\",\"width\":0.5},\"pattern\":{\"fillmode\":\"overlay\",\"size\":10,\"solidity\":0.2}},\"type\":\"bar\"}],\"barpolar\":[{\"marker\":{\"line\":{\"color\":\"#E5ECF6\",\"width\":0.5},\"pattern\":{\"fillmode\":\"overlay\",\"size\":10,\"solidity\":0.2}},\"type\":\"barpolar\"}],\"carpet\":[{\"aaxis\":{\"endlinecolor\":\"#2a3f5f\",\"gridcolor\":\"white\",\"linecolor\":\"white\",\"minorgridcolor\":\"white\",\"startlinecolor\":\"#2a3f5f\"},\"baxis\":{\"endlinecolor\":\"#2a3f5f\",\"gridcolor\":\"white\",\"linecolor\":\"white\",\"minorgridcolor\":\"white\",\"startlinecolor\":\"#2a3f5f\"},\"type\":\"carpet\"}],\"choropleth\":[{\"colorbar\":{\"outlinewidth\":0,\"ticks\":\"\"},\"type\":\"choropleth\"}],\"contour\":[{\"colorbar\":{\"outlinewidth\":0,\"ticks\":\"\"},\"colorscale\":[[0.0,\"#0d0887\"],[0.1111111111111111,\"#46039f\"],[0.2222222222222222,\"#7201a8\"],[0.3333333333333333,\"#9c179e\"],[0.4444444444444444,\"#bd3786\"],[0.5555555555555556,\"#d8576b\"],[0.6666666666666666,\"#ed7953\"],[0.7777777777777778,\"#fb9f3a\"],[0.8888888888888888,\"#fdca26\"],[1.0,\"#f0f921\"]],\"type\":\"contour\"}],\"contourcarpet\":[{\"colorbar\":{\"outlinewidth\":0,\"ticks\":\"\"},\"type\":\"contourcarpet\"}],\"heatmap\":[{\"colorbar\":{\"outlinewidth\":0,\"ticks\":\"\"},\"colorscale\":[[0.0,\"#0d0887\"],[0.1111111111111111,\"#46039f\"],[0.2222222222222222,\"#7201a8\"],[0.3333333333333333,\"#9c179e\"],[0.4444444444444444,\"#bd3786\"],[0.5555555555555556,\"#d8576b\"],[0.6666666666666666,\"#ed7953\"],[0.7777777777777778,\"#fb9f3a\"],[0.8888888888888888,\"#fdca26\"],[1.0,\"#f0f921\"]],\"type\":\"heatmap\"}],\"heatmapgl\":[{\"colorbar\":{\"outlinewidth\":0,\"ticks\":\"\"},\"colorscale\":[[0.0,\"#0d0887\"],[0.1111111111111111,\"#46039f\"],[0.2222222222222222,\"#7201a8\"],[0.3333333333333333,\"#9c179e\"],[0.4444444444444444,\"#bd3786\"],[0.5555555555555556,\"#d8576b\"],[0.6666666666666666,\"#ed7953\"],[0.7777777777777778,\"#fb9f3a\"],[0.8888888888888888,\"#fdca26\"],[1.0,\"#f0f921\"]],\"type\":\"heatmapgl\"}],\"histogram\":[{\"marker\":{\"pattern\":{\"fillmode\":\"overlay\",\"size\":10,\"solidity\":0.2}},\"type\":\"histogram\"}],\"histogram2d\":[{\"colorbar\":{\"outlinewidth\":0,\"ticks\":\"\"},\"colorscale\":[[0.0,\"#0d0887\"],[0.1111111111111111,\"#46039f\"],[0.2222222222222222,\"#7201a8\"],[0.3333333333333333,\"#9c179e\"],[0.4444444444444444,\"#bd3786\"],[0.5555555555555556,\"#d8576b\"],[0.6666666666666666,\"#ed7953\"],[0.7777777777777778,\"#fb9f3a\"],[0.8888888888888888,\"#fdca26\"],[1.0,\"#f0f921\"]],\"type\":\"histogram2d\"}],\"histogram2dcontour\":[{\"colorbar\":{\"outlinewidth\":0,\"ticks\":\"\"},\"colorscale\":[[0.0,\"#0d0887\"],[0.1111111111111111,\"#46039f\"],[0.2222222222222222,\"#7201a8\"],[0.3333333333333333,\"#9c179e\"],[0.4444444444444444,\"#bd3786\"],[0.5555555555555556,\"#d8576b\"],[0.6666666666666666,\"#ed7953\"],[0.7777777777777778,\"#fb9f3a\"],[0.8888888888888888,\"#fdca26\"],[1.0,\"#f0f921\"]],\"type\":\"histogram2dcontour\"}],\"mesh3d\":[{\"colorbar\":{\"outlinewidth\":0,\"ticks\":\"\"},\"type\":\"mesh3d\"}],\"parcoords\":[{\"line\":{\"colorbar\":{\"outlinewidth\":0,\"ticks\":\"\"}},\"type\":\"parcoords\"}],\"pie\":[{\"automargin\":true,\"type\":\"pie\"}],\"scatter\":[{\"marker\":{\"colorbar\":{\"outlinewidth\":0,\"ticks\":\"\"}},\"type\":\"scatter\"}],\"scatter3d\":[{\"line\":{\"colorbar\":{\"outlinewidth\":0,\"ticks\":\"\"}},\"marker\":{\"colorbar\":{\"outlinewidth\":0,\"ticks\":\"\"}},\"type\":\"scatter3d\"}],\"scattercarpet\":[{\"marker\":{\"colorbar\":{\"outlinewidth\":0,\"ticks\":\"\"}},\"type\":\"scattercarpet\"}],\"scattergeo\":[{\"marker\":{\"colorbar\":{\"outlinewidth\":0,\"ticks\":\"\"}},\"type\":\"scattergeo\"}],\"scattergl\":[{\"marker\":{\"colorbar\":{\"outlinewidth\":0,\"ticks\":\"\"}},\"type\":\"scattergl\"}],\"scattermapbox\":[{\"marker\":{\"colorbar\":{\"outlinewidth\":0,\"ticks\":\"\"}},\"type\":\"scattermapbox\"}],\"scatterpolar\":[{\"marker\":{\"colorbar\":{\"outlinewidth\":0,\"ticks\":\"\"}},\"type\":\"scatterpolar\"}],\"scatterpolargl\":[{\"marker\":{\"colorbar\":{\"outlinewidth\":0,\"ticks\":\"\"}},\"type\":\"scatterpolargl\"}],\"scatterternary\":[{\"marker\":{\"colorbar\":{\"outlinewidth\":0,\"ticks\":\"\"}},\"type\":\"scatterternary\"}],\"surface\":[{\"colorbar\":{\"outlinewidth\":0,\"ticks\":\"\"},\"colorscale\":[[0.0,\"#0d0887\"],[0.1111111111111111,\"#46039f\"],[0.2222222222222222,\"#7201a8\"],[0.3333333333333333,\"#9c179e\"],[0.4444444444444444,\"#bd3786\"],[0.5555555555555556,\"#d8576b\"],[0.6666666666666666,\"#ed7953\"],[0.7777777777777778,\"#fb9f3a\"],[0.8888888888888888,\"#fdca26\"],[1.0,\"#f0f921\"]],\"type\":\"surface\"}],\"table\":[{\"cells\":{\"fill\":{\"color\":\"#EBF0F8\"},\"line\":{\"color\":\"white\"}},\"header\":{\"fill\":{\"color\":\"#C8D4E3\"},\"line\":{\"color\":\"white\"}},\"type\":\"table\"}]},\"layout\":{\"annotationdefaults\":{\"arrowcolor\":\"#2a3f5f\",\"arrowhead\":0,\"arrowwidth\":1},\"autotypenumbers\":\"strict\",\"coloraxis\":{\"colorbar\":{\"outlinewidth\":0,\"ticks\":\"\"}},\"colorscale\":{\"diverging\":[[0,\"#8e0152\"],[0.1,\"#c51b7d\"],[0.2,\"#de77ae\"],[0.3,\"#f1b6da\"],[0.4,\"#fde0ef\"],[0.5,\"#f7f7f7\"],[0.6,\"#e6f5d0\"],[0.7,\"#b8e186\"],[0.8,\"#7fbc41\"],[0.9,\"#4d9221\"],[1,\"#276419\"]],\"sequential\":[[0.0,\"#0d0887\"],[0.1111111111111111,\"#46039f\"],[0.2222222222222222,\"#7201a8\"],[0.3333333333333333,\"#9c179e\"],[0.4444444444444444,\"#bd3786\"],[0.5555555555555556,\"#d8576b\"],[0.6666666666666666,\"#ed7953\"],[0.7777777777777778,\"#fb9f3a\"],[0.8888888888888888,\"#fdca26\"],[1.0,\"#f0f921\"]],\"sequentialminus\":[[0.0,\"#0d0887\"],[0.1111111111111111,\"#46039f\"],[0.2222222222222222,\"#7201a8\"],[0.3333333333333333,\"#9c179e\"],[0.4444444444444444,\"#bd3786\"],[0.5555555555555556,\"#d8576b\"],[0.6666666666666666,\"#ed7953\"],[0.7777777777777778,\"#fb9f3a\"],[0.8888888888888888,\"#fdca26\"],[1.0,\"#f0f921\"]]},\"colorway\":[\"#636efa\",\"#EF553B\",\"#00cc96\",\"#ab63fa\",\"#FFA15A\",\"#19d3f3\",\"#FF6692\",\"#B6E880\",\"#FF97FF\",\"#FECB52\"],\"font\":{\"color\":\"#2a3f5f\"},\"geo\":{\"bgcolor\":\"white\",\"lakecolor\":\"white\",\"landcolor\":\"#E5ECF6\",\"showlakes\":true,\"showland\":true,\"subunitcolor\":\"white\"},\"hoverlabel\":{\"align\":\"left\"},\"hovermode\":\"closest\",\"mapbox\":{\"style\":\"light\"},\"paper_bgcolor\":\"white\",\"plot_bgcolor\":\"#E5ECF6\",\"polar\":{\"angularaxis\":{\"gridcolor\":\"white\",\"linecolor\":\"white\",\"ticks\":\"\"},\"bgcolor\":\"#E5ECF6\",\"radialaxis\":{\"gridcolor\":\"white\",\"linecolor\":\"white\",\"ticks\":\"\"}},\"scene\":{\"xaxis\":{\"backgroundcolor\":\"#E5ECF6\",\"gridcolor\":\"white\",\"gridwidth\":2,\"linecolor\":\"white\",\"showbackground\":true,\"ticks\":\"\",\"zerolinecolor\":\"white\"},\"yaxis\":{\"backgroundcolor\":\"#E5ECF6\",\"gridcolor\":\"white\",\"gridwidth\":2,\"linecolor\":\"white\",\"showbackground\":true,\"ticks\":\"\",\"zerolinecolor\":\"white\"},\"zaxis\":{\"backgroundcolor\":\"#E5ECF6\",\"gridcolor\":\"white\",\"gridwidth\":2,\"linecolor\":\"white\",\"showbackground\":true,\"ticks\":\"\",\"zerolinecolor\":\"white\"}},\"shapedefaults\":{\"line\":{\"color\":\"#2a3f5f\"}},\"ternary\":{\"aaxis\":{\"gridcolor\":\"white\",\"linecolor\":\"white\",\"ticks\":\"\"},\"baxis\":{\"gridcolor\":\"white\",\"linecolor\":\"white\",\"ticks\":\"\"},\"bgcolor\":\"#E5ECF6\",\"caxis\":{\"gridcolor\":\"white\",\"linecolor\":\"white\",\"ticks\":\"\"}},\"title\":{\"x\":0.05},\"xaxis\":{\"automargin\":true,\"gridcolor\":\"white\",\"linecolor\":\"white\",\"ticks\":\"\",\"title\":{\"standoff\":15},\"zerolinecolor\":\"white\",\"zerolinewidth\":2},\"yaxis\":{\"automargin\":true,\"gridcolor\":\"white\",\"linecolor\":\"white\",\"ticks\":\"\",\"title\":{\"standoff\":15},\"zerolinecolor\":\"white\",\"zerolinewidth\":2}}}},                        {\"responsive\": true}                    ).then(function(){\n",
       "                            \n",
       "var gd = document.getElementById('bc96b48a-c34a-44e0-8c4d-be77d6ee3afe');\n",
       "var x = new MutationObserver(function (mutations, observer) {{\n",
       "        var display = window.getComputedStyle(gd).display;\n",
       "        if (!display || display === 'none') {{\n",
       "            console.log([gd, 'removed!']);\n",
       "            Plotly.purge(gd);\n",
       "            observer.disconnect();\n",
       "        }}\n",
       "}});\n",
       "\n",
       "// Listen for the removal of the full notebook cells\n",
       "var notebookContainer = gd.closest('#notebook-container');\n",
       "if (notebookContainer) {{\n",
       "    x.observe(notebookContainer, {childList: true});\n",
       "}}\n",
       "\n",
       "// Listen for the clearing of the current output cell\n",
       "var outputEl = gd.closest('.output');\n",
       "if (outputEl) {{\n",
       "    x.observe(outputEl, {childList: true});\n",
       "}}\n",
       "\n",
       "                        })                };                });            </script>        </div>"
      ]
     },
     "metadata": {},
     "output_type": "display_data"
    }
   ],
   "source": [
    "### import plotly.graph_objects as go\n",
    "import numpy as np\n",
    "\n",
    "#size = 1/((quality_mesh.flatten()/np.max(quality_mesh.flatten()))**1)\n",
    "size = 1/quality_mesh.flatten()**5*5\n",
    "\n",
    "fig = go.Figure(data=[go.Scatter3d(x=rho_c_mesh.flatten(), \n",
    "                                   y=nu_mesh.flatten(), \n",
    "                                   z=zeta_mesh.flatten(),\n",
    "                                   mode='markers',\n",
    "                                  marker=dict(\n",
    "                                            size=size,\n",
    "                                            color=size,          # set color to an array/list of desired values\n",
    "                                    colorscale='inferno',   # choose a colorscale\n",
    "                                    opacity=0.8,\n",
    "                                      \n",
    "                                ))])\n",
    "fig.show()"
   ]
  },
  {
   "cell_type": "code",
   "execution_count": null,
   "id": "e0458710",
   "metadata": {},
   "outputs": [],
   "source": []
  },
  {
   "cell_type": "markdown",
   "id": "390b2514",
   "metadata": {},
   "source": [
    "i had used the scaling func from Mendez-santos: where $x = np.power(l, -a) * y$ and $y = np.power(l, 1./nu) * (rho-rho_c)$. Now having changed to $x = np.power(l, -zeta/nu) * y$"
   ]
  },
  {
   "cell_type": "code",
   "execution_count": 405,
   "id": "0810fc44",
   "metadata": {},
   "outputs": [],
   "source": [
    "def goal_function_min(x):\n",
    "    rho_c = x[0] \n",
    "    nu = x[1]\n",
    "    zeta=x[2]\n",
    "\n",
    "    #XX = x_dat_2_new(rho=rho_mesh_local, rho_c=rho_c, l=l_mesh_local ,nu=nu) \n",
    "    XX = x_BKT(rho=rho_mesh_local, rho_c=rho_c, l=l_mesh_local ,nu=nu) \n",
    "    \n",
    "    \n",
    "    YY = y_dat_new(y=Y, l=l_mesh_local, zeta=zeta, nu=nu)\n",
    "    #print('y',YY)\n",
    "    dYY = y_dat_new(y=dY, l=l_mesh_local, zeta=zeta, nu=nu)\n",
    "    #print('dy',dYY)\n",
    "    \n",
    "    # sorting for BKT\n",
    "    sorting_index = np.argsort(XX)[0]\n",
    "    #print(sorting_index)\n",
    "    \n",
    "    XX = XX[:,sorting_index]\n",
    "    YY = YY[:,sorting_index]\n",
    "    dYY = dYY[:, sorting_index]\n",
    "    \n",
    "    \n",
    "    return quality(XX,YY,dYY)"
   ]
  },
  {
   "cell_type": "code",
   "execution_count": 469,
   "id": "d08837f3",
   "metadata": {},
   "outputs": [
    {
     "data": {
      "text/plain": [
       "      fun: 0.7689834212100658\n",
       " hess_inv: <3x3 LbfgsInvHessProduct with dtype=float64>\n",
       "      jac: array([ 0.00329848,  0.000101  , -0.00040911])\n",
       "  message: 'CONVERGENCE: REL_REDUCTION_OF_F_<=_FACTR*EPSMCH'\n",
       "     nfev: 200\n",
       "      nit: 12\n",
       "     njev: 50\n",
       "   status: 0\n",
       "  success: True\n",
       "        x: array([3.7895557 , 2.09261357, 1.38245338])"
      ]
     },
     "execution_count": 469,
     "metadata": {},
     "output_type": "execute_result"
    }
   ],
   "source": [
    "minimize(goal_function_min,x0=[3.,1.,2.], bounds=((2,4),(1.,2.5),(1,2.5)))"
   ]
  },
  {
   "cell_type": "code",
   "execution_count": 470,
   "id": "0457eac9",
   "metadata": {},
   "outputs": [],
   "source": [
    "import fssa"
   ]
  },
  {
   "cell_type": "code",
   "execution_count": 471,
   "id": "d9de9d71",
   "metadata": {},
   "outputs": [],
   "source": [
    "def scaledata(l, rho, a, da, rho_c, nu, zeta):\n",
    "    r'''\n",
    "    Scale experimental data according to critical exponents\n",
    "\n",
    "    Parameters\n",
    "    ----------\n",
    "    l, rho : 1-D array_like\n",
    "       finite system sizes `l` and parameter values `rho`\n",
    "\n",
    "    a, da : 2-D array_like of shape (`l`.size, `rho`.size)\n",
    "       experimental data `a` with standard errors `da` obtained at finite\n",
    "       system sizes `l` and parameter values `rho`, with\n",
    "       ``a.shape == da.shape == (l.size, rho.size)``\n",
    "\n",
    "    rho_c : float in range [rho.min(), rho.max()]\n",
    "       (assumed) critical parameter value with ``rho_c >= rho.min() and rho_c\n",
    "       <= rho.max()``\n",
    "\n",
    "    nu, zeta : float\n",
    "       (assumed) critical exponents\n",
    "\n",
    "    Returns\n",
    "    -------\n",
    "    :py:class:`ScaledData`\n",
    "       scaled data `x`, `y` with standard errors `dy`\n",
    "\n",
    "    x, y, dy : ndarray\n",
    "       two-dimensional arrays of shape ``(l.size, rho.size)``\n",
    "\n",
    "    Notes\n",
    "    -----\n",
    "    Scale data points :math:`(\\varrho_j, a_{ij}, da_{ij})` observed at finite\n",
    "    system sizes :math:`L_i` and parameter values :math:`\\varrho_i` according\n",
    "    to the finite-size scaling ansatz\n",
    "\n",
    "    .. math::\n",
    "\n",
    "       L^{-\\zeta/\\nu} a_{ij} = \\tilde{f}\\left( L^{1/\\nu} (\\varrho_j -\n",
    "       \\varrho_c) \\right).\n",
    "\n",
    "    The output is the scaled data points :math:`(x_{ij}, y_{ij}, dy_{ij})` with\n",
    "\n",
    "    .. math::\n",
    "\n",
    "       x_{ij} & = L_i^{1/\\nu} (\\varrho_j - \\varrho_c) \\\\\n",
    "       y_{ij} & = L_i^{-\\zeta/\\nu} a_{ij} \\\\\n",
    "       dy_{ij} & = L_i^{-\\zeta/\\nu} da_{ij}\n",
    "\n",
    "    such that all data points :ref:`collapse <data-collapse-method>` onto the\n",
    "    single curve :math:`\\tilde{f}(x)` with the right choice of\n",
    "    :math:`\\varrho_c, \\nu, \\zeta` [4]_ [5]_.\n",
    "\n",
    "    Raises\n",
    "    ------\n",
    "    ValueError\n",
    "       If `l` or `rho` is not 1-D array_like, if `a` or `da` is not 2-D\n",
    "       array_like, if the shape of `a` or `da` differs from ``(l.size,\n",
    "       rho.size)``\n",
    "\n",
    "    References\n",
    "    ----------\n",
    "\n",
    "    .. [4] M. E. J. Newman and G. T. Barkema, Monte Carlo Methods in\n",
    "       Statistical Physics (Oxford University Press, 1999)\n",
    "\n",
    "    .. [5] K. Binder and D. W. Heermann, `Monte Carlo Simulation in Statistical\n",
    "       Physics <http://dx.doi.org/10.1007/978-3-642-03163-2>`_ (Springer,\n",
    "       Berlin, Heidelberg, 2010)\n",
    "    '''\n",
    "\n",
    "    # l should be 1-D array_like\n",
    "    l = np.asanyarray(l)\n",
    "    if l.ndim != 1:\n",
    "        raise ValueError(\"l should be 1-D array_like\")\n",
    "\n",
    "    # rho should be 1-D array_like\n",
    "    rho = np.asanyarray(rho)\n",
    "    if rho.ndim != 1:\n",
    "        raise ValueError(\"rho should be 1-D array_like\")\n",
    "\n",
    "    # a should be 2-D array_like\n",
    "    a = np.asanyarray(a)\n",
    "    if a.ndim != 2:\n",
    "        raise ValueError(\"a should be 2-D array_like\")\n",
    "\n",
    "    # a should have shape (l.size, rho.size)\n",
    "    if a.shape != (l.size, rho.size):\n",
    "        raise ValueError(\"a should have shape (l.size, rho.size)\")\n",
    "\n",
    "    # da should be 2-D array_like\n",
    "    da = np.asanyarray(da)\n",
    "    if da.ndim != 2:\n",
    "        raise ValueError(\"da should be 2-D array_like\")\n",
    "\n",
    "    # da should have shape (l.size, rho.size)\n",
    "    if da.shape != (l.size, rho.size):\n",
    "        raise ValueError(\"da should have shape (l.size, rho.size)\")\n",
    "\n",
    "    # rho_c should be float\n",
    "    rho_c = float(rho_c)\n",
    "\n",
    "    # rho_c should be in range\n",
    "    if rho_c > rho.max() or rho_c < rho.min():\n",
    "        warnings.warn(\"rho_c is out of range\", RuntimeWarning)\n",
    "\n",
    "    # nu should be float\n",
    "    nu = float(nu)\n",
    "\n",
    "    # zeta should be float\n",
    "    zeta = float(zeta)\n",
    "\n",
    "    l_mesh, rho_mesh = np.meshgrid(l, rho, indexing='ij')\n",
    "\n",
    "    x = np.power(l_mesh, 1. / nu) * (rho_mesh - rho_c)\n",
    "    x = l_mesh*np.exp(-1.4/np.sqrt(abs(rho_mesh-rho_c)))\n",
    "    y = np.power(l_mesh, - zeta / nu) * a\n",
    "    dy = np.power(l_mesh, - zeta / nu) * da\n",
    "\n",
    "    sorting_index = np.argsort(x)[0]\n",
    "    \n",
    "    x = x[:,sorting_index]\n",
    "    y = y[:,sorting_index]\n",
    "    dy = dy[:, sorting_index]\n",
    "\n",
    "    return ScaledData(x, y, dy)"
   ]
  },
  {
   "cell_type": "code",
   "execution_count": 472,
   "id": "3ea575d8",
   "metadata": {},
   "outputs": [
    {
     "ename": "KeyboardInterrupt",
     "evalue": "",
     "output_type": "error",
     "traceback": [
      "\u001b[0;31m---------------------------------------------------------------------------\u001b[0m",
      "\u001b[0;31mKeyboardInterrupt\u001b[0m                         Traceback (most recent call last)",
      "\u001b[0;32m<ipython-input-472-051f4fb10445>\u001b[0m in \u001b[0;36m<module>\u001b[0;34m\u001b[0m\n\u001b[1;32m      3\u001b[0m \u001b[0;34m\u001b[0m\u001b[0m\n\u001b[1;32m      4\u001b[0m \u001b[0;32mfor\u001b[0m \u001b[0mrho0\u001b[0m \u001b[0;32min\u001b[0m \u001b[0mnp\u001b[0m\u001b[0;34m.\u001b[0m\u001b[0mlinspace\u001b[0m\u001b[0;34m(\u001b[0m\u001b[0;36m1\u001b[0m\u001b[0;34m,\u001b[0m\u001b[0;36m5\u001b[0m\u001b[0;34m,\u001b[0m\u001b[0;36m20\u001b[0m\u001b[0;34m)\u001b[0m\u001b[0;34m:\u001b[0m\u001b[0;34m\u001b[0m\u001b[0;34m\u001b[0m\u001b[0m\n\u001b[0;32m----> 5\u001b[0;31m     \u001b[0mres\u001b[0m \u001b[0;34m=\u001b[0m \u001b[0mfssa\u001b[0m\u001b[0;34m.\u001b[0m\u001b[0mautoscale\u001b[0m\u001b[0;34m(\u001b[0m\u001b[0mLs\u001b[0m\u001b[0;34m,\u001b[0m \u001b[0mrho\u001b[0m\u001b[0;34m,\u001b[0m \u001b[0mY\u001b[0m\u001b[0;34m,\u001b[0m \u001b[0mdY\u001b[0m\u001b[0;34m,\u001b[0m\u001b[0mrho0\u001b[0m\u001b[0;34m,\u001b[0m\u001b[0;36m2\u001b[0m\u001b[0;34m,\u001b[0m\u001b[0;36m2\u001b[0m\u001b[0;34m)\u001b[0m\u001b[0;34m\u001b[0m\u001b[0;34m\u001b[0m\u001b[0m\n\u001b[0m\u001b[1;32m      6\u001b[0m     \u001b[0max\u001b[0m\u001b[0;34m[\u001b[0m\u001b[0;36m0\u001b[0m\u001b[0;34m,\u001b[0m\u001b[0;36m0\u001b[0m\u001b[0;34m]\u001b[0m\u001b[0;34m.\u001b[0m\u001b[0mscatter\u001b[0m\u001b[0;34m(\u001b[0m\u001b[0mrho0\u001b[0m\u001b[0;34m,\u001b[0m \u001b[0mres\u001b[0m\u001b[0;34m[\u001b[0m\u001b[0;34m'rho'\u001b[0m\u001b[0;34m]\u001b[0m\u001b[0;34m,\u001b[0m \u001b[0mc\u001b[0m\u001b[0;34m=\u001b[0m\u001b[0;34m'b'\u001b[0m\u001b[0;34m,\u001b[0m\u001b[0;34m)\u001b[0m\u001b[0;34m\u001b[0m\u001b[0;34m\u001b[0m\u001b[0m\n\u001b[1;32m      7\u001b[0m     \u001b[0max\u001b[0m\u001b[0;34m[\u001b[0m\u001b[0;36m1\u001b[0m\u001b[0;34m,\u001b[0m\u001b[0;36m0\u001b[0m\u001b[0;34m]\u001b[0m\u001b[0;34m.\u001b[0m\u001b[0mscatter\u001b[0m\u001b[0;34m(\u001b[0m\u001b[0mrho0\u001b[0m\u001b[0;34m,\u001b[0m \u001b[0mres\u001b[0m\u001b[0;34m[\u001b[0m\u001b[0;34m'drho'\u001b[0m\u001b[0;34m]\u001b[0m\u001b[0;34m,\u001b[0m \u001b[0mc\u001b[0m\u001b[0;34m=\u001b[0m\u001b[0;34m'b'\u001b[0m\u001b[0;34m)\u001b[0m\u001b[0;34m\u001b[0m\u001b[0;34m\u001b[0m\u001b[0m\n",
      "\u001b[0;32m/opt/anaconda3/lib/python3.8/site-packages/fssa/fssa.py\u001b[0m in \u001b[0;36mautoscale\u001b[0;34m(l, rho, a, da, rho_c0, nu0, zeta0, x_bounds, **kwargs)\u001b[0m\n\u001b[1;32m    609\u001b[0m         )\n\u001b[1;32m    610\u001b[0m \u001b[0;34m\u001b[0m\u001b[0m\n\u001b[0;32m--> 611\u001b[0;31m     ret = scipy.optimize.minimize(\n\u001b[0m\u001b[1;32m    612\u001b[0m         \u001b[0mgoal_function\u001b[0m\u001b[0;34m,\u001b[0m\u001b[0;34m\u001b[0m\u001b[0;34m\u001b[0m\u001b[0m\n\u001b[1;32m    613\u001b[0m         \u001b[0;34m[\u001b[0m\u001b[0mrho_c0\u001b[0m\u001b[0;34m,\u001b[0m \u001b[0mnu0\u001b[0m\u001b[0;34m,\u001b[0m \u001b[0mzeta0\u001b[0m\u001b[0;34m]\u001b[0m\u001b[0;34m,\u001b[0m\u001b[0;34m\u001b[0m\u001b[0;34m\u001b[0m\u001b[0m\n",
      "\u001b[0;32m/opt/anaconda3/lib/python3.8/site-packages/scipy/optimize/_minimize.py\u001b[0m in \u001b[0;36mminimize\u001b[0;34m(fun, x0, args, method, jac, hess, hessp, bounds, constraints, tol, callback, options)\u001b[0m\n\u001b[1;32m    595\u001b[0m         \u001b[0;31m# custom method should be able to accept whatever bounds/constraints\u001b[0m\u001b[0;34m\u001b[0m\u001b[0;34m\u001b[0m\u001b[0;34m\u001b[0m\u001b[0m\n\u001b[1;32m    596\u001b[0m         \u001b[0;31m# are provided to it.\u001b[0m\u001b[0;34m\u001b[0m\u001b[0;34m\u001b[0m\u001b[0;34m\u001b[0m\u001b[0m\n\u001b[0;32m--> 597\u001b[0;31m         return method(fun, x0, args=args, jac=jac, hess=hess, hessp=hessp,\n\u001b[0m\u001b[1;32m    598\u001b[0m                       \u001b[0mbounds\u001b[0m\u001b[0;34m=\u001b[0m\u001b[0mbounds\u001b[0m\u001b[0;34m,\u001b[0m \u001b[0mconstraints\u001b[0m\u001b[0;34m=\u001b[0m\u001b[0mconstraints\u001b[0m\u001b[0;34m,\u001b[0m\u001b[0;34m\u001b[0m\u001b[0;34m\u001b[0m\u001b[0m\n\u001b[1;32m    599\u001b[0m                       callback=callback, **options)\n",
      "\u001b[0;32m/opt/anaconda3/lib/python3.8/site-packages/fssa/optimize.py\u001b[0m in \u001b[0;36m_minimize_neldermead\u001b[0;34m(func, x0, args, callback, xtol, ftol, maxiter, maxfev, disp, return_all, **unknown_options)\u001b[0m\n\u001b[1;32m     88\u001b[0m         \u001b[0mxbar\u001b[0m \u001b[0;34m=\u001b[0m \u001b[0mnumpy\u001b[0m\u001b[0;34m.\u001b[0m\u001b[0madd\u001b[0m\u001b[0;34m.\u001b[0m\u001b[0mreduce\u001b[0m\u001b[0;34m(\u001b[0m\u001b[0msim\u001b[0m\u001b[0;34m[\u001b[0m\u001b[0;34m:\u001b[0m\u001b[0;34m-\u001b[0m\u001b[0;36m1\u001b[0m\u001b[0;34m]\u001b[0m\u001b[0;34m,\u001b[0m \u001b[0;36m0\u001b[0m\u001b[0;34m)\u001b[0m \u001b[0;34m/\u001b[0m \u001b[0mN\u001b[0m\u001b[0;34m\u001b[0m\u001b[0;34m\u001b[0m\u001b[0m\n\u001b[1;32m     89\u001b[0m         \u001b[0mxr\u001b[0m \u001b[0;34m=\u001b[0m \u001b[0;34m(\u001b[0m\u001b[0;36m1\u001b[0m \u001b[0;34m+\u001b[0m \u001b[0mrho\u001b[0m\u001b[0;34m)\u001b[0m \u001b[0;34m*\u001b[0m \u001b[0mxbar\u001b[0m \u001b[0;34m-\u001b[0m \u001b[0mrho\u001b[0m \u001b[0;34m*\u001b[0m \u001b[0msim\u001b[0m\u001b[0;34m[\u001b[0m\u001b[0;34m-\u001b[0m\u001b[0;36m1\u001b[0m\u001b[0;34m]\u001b[0m\u001b[0;34m\u001b[0m\u001b[0;34m\u001b[0m\u001b[0m\n\u001b[0;32m---> 90\u001b[0;31m         \u001b[0mfxr\u001b[0m \u001b[0;34m=\u001b[0m \u001b[0mfunc\u001b[0m\u001b[0;34m(\u001b[0m\u001b[0mxr\u001b[0m\u001b[0;34m)\u001b[0m\u001b[0;34m\u001b[0m\u001b[0;34m\u001b[0m\u001b[0m\n\u001b[0m\u001b[1;32m     91\u001b[0m         \u001b[0mdoshrink\u001b[0m \u001b[0;34m=\u001b[0m \u001b[0;36m0\u001b[0m\u001b[0;34m\u001b[0m\u001b[0;34m\u001b[0m\u001b[0m\n\u001b[1;32m     92\u001b[0m \u001b[0;34m\u001b[0m\u001b[0m\n",
      "\u001b[0;32m/opt/anaconda3/lib/python3.8/site-packages/scipy/optimize/optimize.py\u001b[0m in \u001b[0;36mfunction_wrapper\u001b[0;34m(*wrapper_args)\u001b[0m\n\u001b[1;32m    459\u001b[0m     \u001b[0;32mdef\u001b[0m \u001b[0mfunction_wrapper\u001b[0m\u001b[0;34m(\u001b[0m\u001b[0;34m*\u001b[0m\u001b[0mwrapper_args\u001b[0m\u001b[0;34m)\u001b[0m\u001b[0;34m:\u001b[0m\u001b[0;34m\u001b[0m\u001b[0;34m\u001b[0m\u001b[0m\n\u001b[1;32m    460\u001b[0m         \u001b[0mncalls\u001b[0m\u001b[0;34m[\u001b[0m\u001b[0;36m0\u001b[0m\u001b[0;34m]\u001b[0m \u001b[0;34m+=\u001b[0m \u001b[0;36m1\u001b[0m\u001b[0;34m\u001b[0m\u001b[0;34m\u001b[0m\u001b[0m\n\u001b[0;32m--> 461\u001b[0;31m         \u001b[0;32mreturn\u001b[0m \u001b[0mfunction\u001b[0m\u001b[0;34m(\u001b[0m\u001b[0;34m*\u001b[0m\u001b[0;34m(\u001b[0m\u001b[0mwrapper_args\u001b[0m \u001b[0;34m+\u001b[0m \u001b[0margs\u001b[0m\u001b[0;34m)\u001b[0m\u001b[0;34m)\u001b[0m\u001b[0;34m\u001b[0m\u001b[0;34m\u001b[0m\u001b[0m\n\u001b[0m\u001b[1;32m    462\u001b[0m \u001b[0;34m\u001b[0m\u001b[0m\n\u001b[1;32m    463\u001b[0m     \u001b[0;32mreturn\u001b[0m \u001b[0mncalls\u001b[0m\u001b[0;34m,\u001b[0m \u001b[0mfunction_wrapper\u001b[0m\u001b[0;34m\u001b[0m\u001b[0;34m\u001b[0m\u001b[0m\n",
      "\u001b[0;32m/opt/anaconda3/lib/python3.8/site-packages/fssa/fssa.py\u001b[0m in \u001b[0;36mgoal_function\u001b[0;34m(x)\u001b[0m\n\u001b[1;32m    605\u001b[0m             \u001b[0mrho\u001b[0m\u001b[0;34m=\u001b[0m\u001b[0mrho\u001b[0m\u001b[0;34m,\u001b[0m \u001b[0ml\u001b[0m\u001b[0;34m=\u001b[0m\u001b[0ml\u001b[0m\u001b[0;34m,\u001b[0m \u001b[0ma\u001b[0m\u001b[0;34m=\u001b[0m\u001b[0ma\u001b[0m\u001b[0;34m,\u001b[0m \u001b[0mda\u001b[0m\u001b[0;34m=\u001b[0m\u001b[0mda\u001b[0m\u001b[0;34m,\u001b[0m \u001b[0mnu\u001b[0m\u001b[0;34m=\u001b[0m\u001b[0mx\u001b[0m\u001b[0;34m[\u001b[0m\u001b[0;36m1\u001b[0m\u001b[0;34m]\u001b[0m\u001b[0;34m,\u001b[0m \u001b[0mzeta\u001b[0m\u001b[0;34m=\u001b[0m\u001b[0mx\u001b[0m\u001b[0;34m[\u001b[0m\u001b[0;36m2\u001b[0m\u001b[0;34m]\u001b[0m\u001b[0;34m,\u001b[0m \u001b[0mrho_c\u001b[0m\u001b[0;34m=\u001b[0m\u001b[0mx\u001b[0m\u001b[0;34m[\u001b[0m\u001b[0;36m0\u001b[0m\u001b[0;34m]\u001b[0m\u001b[0;34m,\u001b[0m\u001b[0;34m\u001b[0m\u001b[0;34m\u001b[0m\u001b[0m\n\u001b[1;32m    606\u001b[0m         )\n\u001b[0;32m--> 607\u001b[0;31m         return quality(\n\u001b[0m\u001b[1;32m    608\u001b[0m             \u001b[0mmy_x\u001b[0m\u001b[0;34m,\u001b[0m \u001b[0mmy_y\u001b[0m\u001b[0;34m,\u001b[0m \u001b[0mmy_dy\u001b[0m\u001b[0;34m,\u001b[0m \u001b[0mx_bounds\u001b[0m\u001b[0;34m=\u001b[0m\u001b[0mx_bounds\u001b[0m\u001b[0;34m,\u001b[0m\u001b[0;34m\u001b[0m\u001b[0;34m\u001b[0m\u001b[0m\n\u001b[1;32m    609\u001b[0m         )\n",
      "\u001b[0;32m/opt/anaconda3/lib/python3.8/site-packages/fssa/fssa.py\u001b[0m in \u001b[0;36mquality\u001b[0;34m(x, y, dy, x_bounds)\u001b[0m\n\u001b[1;32m    433\u001b[0m \u001b[0;34m\u001b[0m\u001b[0m\n\u001b[1;32m    434\u001b[0m             \u001b[0;31m# master curve estimate\u001b[0m\u001b[0;34m\u001b[0m\u001b[0;34m\u001b[0m\u001b[0;34m\u001b[0m\u001b[0m\n\u001b[0;32m--> 435\u001b[0;31m             master_y[i, j], master_dy2[i, j] = _wls_linearfit_predict(\n\u001b[0m\u001b[1;32m    436\u001b[0m                 \u001b[0mx\u001b[0m\u001b[0;34m=\u001b[0m\u001b[0mx\u001b[0m\u001b[0;34m[\u001b[0m\u001b[0mi\u001b[0m\u001b[0;34m,\u001b[0m \u001b[0mj\u001b[0m\u001b[0;34m]\u001b[0m\u001b[0;34m,\u001b[0m \u001b[0mw\u001b[0m\u001b[0;34m=\u001b[0m\u001b[0mw\u001b[0m\u001b[0;34m,\u001b[0m \u001b[0mwx\u001b[0m\u001b[0;34m=\u001b[0m\u001b[0mwx\u001b[0m\u001b[0;34m,\u001b[0m \u001b[0mwy\u001b[0m\u001b[0;34m=\u001b[0m\u001b[0mwy\u001b[0m\u001b[0;34m,\u001b[0m \u001b[0mwxx\u001b[0m\u001b[0;34m=\u001b[0m\u001b[0mwxx\u001b[0m\u001b[0;34m,\u001b[0m \u001b[0mwxy\u001b[0m\u001b[0;34m=\u001b[0m\u001b[0mwxy\u001b[0m\u001b[0;34m,\u001b[0m \u001b[0mselect\u001b[0m\u001b[0;34m=\u001b[0m\u001b[0mselect\u001b[0m\u001b[0;34m\u001b[0m\u001b[0;34m\u001b[0m\u001b[0m\n\u001b[1;32m    437\u001b[0m             )\n",
      "\u001b[0;31mKeyboardInterrupt\u001b[0m: "
     ]
    },
    {
     "data": {
      "image/png": "[encoded data removed]",
      "text/plain": [
       "<Figure size 864x288 with 6 Axes>"
      ]
     },
     "metadata": {
      "needs_background": "light"
     },
     "output_type": "display_data"
    }
   ],
   "source": [
    "\n",
    "fig, ax = plt.subplots(2,3, figsize=(12,4))\n",
    "\n",
    "\n",
    "for rho0 in np.linspace(1,5,20):\n",
    "    res = fssa.autoscale(Ls, rho, Y, dY,rho0,2,2)\n",
    "    ax[0,0].scatter(rho0, res['rho'], c='b',)\n",
    "    ax[1,0].scatter(rho0, res['drho'], c='b')\n",
    "    \n",
    "print('rho done')\n",
    "for nu0 in np.linspace(1,5,20):\n",
    "    res = fssa.autoscale(Ls, rho, Y, dY,3.6,nu0,2)\n",
    "    ax[0,1].scatter(nu0, res['nu'],c='r')\n",
    "    ax[1,1].scatter(nu0, res['dnu'],c='r')\n",
    "\n",
    "print('nu done')\n",
    "for zeta0 in np.linspace(1,5,20):\n",
    "    res = fssa.autoscale(Ls, rho, Y, dY,3.6,2,zeta0)\n",
    "    ax[0,2].scatter(zeta0, res['zeta'],c='g')\n",
    "    ax[1,2].scatter(zeta0, res['dzeta'],c='g')\n",
    "\n",
    "plt.tight_layout()"
   ]
  },
  {
   "cell_type": "code",
   "execution_count": 478,
   "id": "4c304194",
   "metadata": {},
   "outputs": [
    {
     "data": {
      "text/plain": [
       "           dnu: 0.5538610487963777\n",
       "          drho: nan\n",
       "         dzeta: nan\n",
       "        errors: array([       nan, 0.55386105,        nan])\n",
       " final_simplex: (array([[3.83374774, 0.86503919, 0.76805308],\n",
       "       [3.8280435 , 0.86519184, 0.76486041],\n",
       "       [3.83151126, 0.86563381, 0.76354296],\n",
       "       [3.82552267, 0.87007601, 0.77411832]]), array([0.06367994, 0.06369196, 0.06373293, 0.06401667]))\n",
       "           fun: 0.06367993622763195\n",
       "       message: 'Optimization terminated successfully.'\n",
       "          nfev: 77\n",
       "           nit: 43\n",
       "            nu: 0.865039193930702\n",
       "           rho: 3.8337477396554354\n",
       "        status: 0\n",
       "       success: True\n",
       "         varco: array([[-2.22307289,  0.52536913,  1.2870811 ],\n",
       "       [ 0.52536913,  0.30676206,  0.20848331],\n",
       "       [ 1.2870811 ,  0.20848331, -0.06745604]])\n",
       "             x: array([3.83374774, 0.86503919, 0.76805308])\n",
       "          zeta: 0.7680530834830863"
      ]
     },
     "execution_count": 478,
     "metadata": {},
     "output_type": "execute_result"
    }
   ],
   "source": [
    "fssa.autoscale(Ls, rho, Y, dY,2,2,2)"
   ]
  },
  {
   "cell_type": "code",
   "execution_count": null,
   "id": "ae5e3930",
   "metadata": {},
   "outputs": [],
   "source": []
  },
  {
   "cell_type": "code",
   "execution_count": null,
   "id": "fd8237e9",
   "metadata": {},
   "outputs": [],
   "source": []
  }
 ],
 "metadata": {
  "kernelspec": {
   "display_name": "Python 3",
   "language": "python",
   "name": "python3"
  },
  "language_info": {
   "codemirror_mode": {
    "name": "ipython",
    "version": 3
   },
   "file_extension": ".py",
   "mimetype": "text/x-python",
   "name": "python",
   "nbconvert_exporter": "python",
   "pygments_lexer": "ipython3",
   "version": "3.8.8"
  }
 },
 "nbformat": 4,
 "nbformat_minor": 5
}
