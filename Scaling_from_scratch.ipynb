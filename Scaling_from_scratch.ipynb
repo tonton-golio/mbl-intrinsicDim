{
 "cells": [
  {
   "cell_type": "markdown",
   "id": "a5ae03a1",
   "metadata": {},
   "source": [
    "### Scaling from scratch\n",
    "\n",
    "So we have a couple curves, of similar shape. We want to apply some function whicyh collapses them to lay on top of one another.\n",
    "\n",
    "1. import our data\n",
    "1. def collapse func:\n",
    "    BKT scaling\n",
    "1. def Cost function\n",
    "1. mininze with respect to cost function\n",
    "\n"
   ]
  },
  {
   "cell_type": "code",
   "execution_count": 1,
   "id": "a78f5799",
   "metadata": {},
   "outputs": [],
   "source": [
    "import numpy as np\n",
    "import matplotlib.pyplot as plt\n",
    "from tqdm import tqdm\n",
    "import numpy.ma as ma\n",
    "from scipy.optimize import minimize, differential_evolution"
   ]
  },
  {
   "cell_type": "markdown",
   "id": "9fabcf2e",
   "metadata": {},
   "source": [
    "## 1. import data"
   ]
  },
  {
   "cell_type": "code",
   "execution_count": 2,
   "id": "a8476802",
   "metadata": {},
   "outputs": [],
   "source": [
    "def load_IDs(L, seeds):\n",
    "    Ws = np.concatenate([np.arange(1,2.6,0.2), np.arange(2.6,4.55,0.05), np.arange(4.7,6.2,0.2)])\n",
    "\n",
    "    ID = -1*np.ones((len(seeds),len(Ws)))\n",
    "    R2 = -1*np.ones((len(seeds),len(Ws)))\n",
    "    \n",
    "    count = 0\n",
    "    missing = []\n",
    "    for seed in seeds:\n",
    "        try:\n",
    "            data = np.atleast_2d(np.load(\"data/2nn_L_{0}/2nn_L_{0}_seed_{1}.npy\".format(L,seed), allow_pickle=True))[0]\n",
    "            ID[seed] = np.array([data[i]['ID'] for i in range(len(Ws))])\n",
    "            R2[seed] = np.array([data[i]['rsquared'] for i in range(len(Ws))])\n",
    "            \n",
    "        except:\n",
    "            missing.append(seed)\n",
    "            continue\n",
    "            \n",
    "    ID = ma.masked_equal(ID, -1)\n",
    "    print(\"Loaded {0} out of {1} seeds\".format(len(seeds)-len(missing), len(seeds)))\n",
    "    return ID, R2"
   ]
  },
  {
   "cell_type": "code",
   "execution_count": 27,
   "id": "399b93c0",
   "metadata": {},
   "outputs": [
    {
     "name": "stdout",
     "output_type": "stream",
     "text": [
      "Loaded 100000 out of 100000 seeds\n",
      "Loaded 10000 out of 10000 seeds\n",
      "Loaded 5000 out of 5000 seeds\n",
      "Loaded 1000 out of 1000 seeds\n"
     ]
    }
   ],
   "source": [
    "Ws = np.concatenate([np.arange(1,2.6,0.2), np.arange(2.6,4.55,0.05), np.arange(4.7,6.2,0.2)])\n",
    "\n",
    "ID8, R2_8 = load_IDs(8, range(0,100000))\n",
    "ID10, R2_10 = load_IDs(10, range(0,10000))\n",
    "ID12, R2_12 = load_IDs(12, range(0,5000))\n",
    "ID14, R2_14 = load_IDs(14, range(0,1000))"
   ]
  },
  {
   "cell_type": "code",
   "execution_count": 48,
   "id": "8589a091",
   "metadata": {},
   "outputs": [
    {
     "data": {
      "image/png": "[encoded data removed]",
      "text/plain": [
       "<Figure size 432x288 with 2 Axes>"
      ]
     },
     "metadata": {
      "needs_background": "light"
     },
     "output_type": "display_data"
    }
   ],
   "source": [
    "start, stop = 6, 43\n",
    "i8 = ma.mean(ID8, axis=0)[start:stop]\n",
    "i10 = ma.mean(ID10, axis=0)[start:stop]\n",
    "i12 = ma.mean(ID12, axis=0)[start:stop]\n",
    "i14 = ma.mean(ID14, axis=0)[start:stop]\n",
    "\n",
    "ws = Ws[start:stop]\n",
    "\n",
    "fig, ax = plt.subplots(1,2)\n",
    "[ax[0].plot(Ws, ma.mean(ID, axis=0)) for ID in [ID8, ID10, ID12, ID14]]\n",
    "[ax[1].plot(ws, i) for i in [i8, i10, i12, i14]]\n",
    "ax[0].set_title('all data')\n",
    "ax[1].set_title('cropped for scaling')\n",
    "\n",
    "plt.show()"
   ]
  },
  {
   "cell_type": "markdown",
   "id": "7ec06d6e",
   "metadata": {},
   "source": [
    "## define scaling functions + cost "
   ]
  },
  {
   "cell_type": "code",
   "execution_count": 49,
   "id": "6329909b",
   "metadata": {},
   "outputs": [],
   "source": [
    "def x_BKT(rho, rho_c, l, alpha):\n",
    "    '''This is L/epsilon'''\n",
    "    return l*np.exp(-alpha/np.sqrt(abs(rho-rho_c)))\n",
    "\n",
    "def y_func(y, l, zeta,\n",
    "          # nu\n",
    "          ):\n",
    "    #return np.power(l, -zeta/nu) * y\n",
    "    return np.power(l, -zeta) * y\n",
    "\n",
    "def cost_func(X):\n",
    "    numerator = sum([abs(X[i+1] - X[i]) for i in range(len(X)-1)]) \n",
    "    denominator = max(X)-min(X)\n",
    "    cost = numerator/denominator -1\n",
    "    \n",
    "    return cost"
   ]
  },
  {
   "cell_type": "markdown",
   "id": "6044aad7",
   "metadata": {},
   "source": [
    "## minimize"
   ]
  },
  {
   "cell_type": "code",
   "execution_count": 50,
   "id": "0230cacb",
   "metadata": {},
   "outputs": [],
   "source": [
    "def scaling(inputs):\n",
    "    #zeta, nu, alpha, rho_c = inputs[0], inputs[1], inputs[2], inputs[3]\n",
    "    zeta, alpha, rho_c = inputs[0], inputs[1], inputs[2]\n",
    "    x = np.array([np.sign(ws-rho_c)*x_BKT(ws, rho_c, L,alpha) for L in [8, 10,12,14]]).flatten()\n",
    "    #x = np.array([np.sign(ws-rho_c)*x_BKT(ws, rho_c, L,alpha) for L in [10,12,14]]).flatten()\n",
    "    sorting = np.argsort(x)\n",
    "    #y = (np.concatenate([y_func(i8, 8, zeta, nu),\n",
    "     #                    y_func(i10, 10, zeta, nu),\n",
    "      #                   y_func(i12, 12, zeta, nu),\n",
    "       #                  y_func(i14, 14, zeta, nu)])[sorting])\n",
    "    y = (np.concatenate([y_func(i8, 8, zeta,),\n",
    "                         y_func(i10, 10, zeta,),\n",
    "                         y_func(i12, 12, zeta, ),\n",
    "                         y_func(i14, 14, zeta, )])[sorting])\n",
    "    return x[sorting],y, sorting\n",
    "    \n",
    "    \n",
    "\n",
    "def scaling_cost(inputs):\n",
    "    x,y, _ = scaling(inputs)\n",
    "    return cost_func(y)\n",
    "    \n",
    "\n"
   ]
  },
  {
   "cell_type": "code",
   "execution_count": 51,
   "id": "f0761ce4",
   "metadata": {},
   "outputs": [
    {
     "name": "stdout",
     "output_type": "stream",
     "text": [
      "differential_evolution step 1: f(x)= 21.3628\n",
      "differential_evolution step 2: f(x)= 21.3628\n",
      "differential_evolution step 3: f(x)= 21.3628\n",
      "differential_evolution step 4: f(x)= 21.3628\n",
      "differential_evolution step 5: f(x)= 21.3628\n",
      "differential_evolution step 6: f(x)= 21.2248\n",
      "differential_evolution step 7: f(x)= 21.1154\n",
      "differential_evolution step 8: f(x)= 21.1154\n",
      "differential_evolution step 9: f(x)= 21.1154\n",
      "differential_evolution step 10: f(x)= 21.1154\n",
      "differential_evolution step 11: f(x)= 20.7885\n",
      "differential_evolution step 12: f(x)= 20.6615\n",
      "differential_evolution step 13: f(x)= 20.6263\n",
      "differential_evolution step 14: f(x)= 20.6263\n",
      "differential_evolution step 15: f(x)= 20.481\n",
      "differential_evolution step 16: f(x)= 20.481\n",
      "differential_evolution step 17: f(x)= 20.481\n",
      "differential_evolution step 18: f(x)= 20.481\n",
      "differential_evolution step 19: f(x)= 20.481\n",
      "differential_evolution step 20: f(x)= 20.2956\n",
      "differential_evolution step 21: f(x)= 20.2956\n",
      "differential_evolution step 22: f(x)= 20.2956\n",
      "differential_evolution step 23: f(x)= 20.2956\n",
      "differential_evolution step 24: f(x)= 20.2956\n",
      "differential_evolution step 25: f(x)= 20.2956\n",
      "differential_evolution step 26: f(x)= 20.2956\n",
      "differential_evolution step 27: f(x)= 20.2956\n",
      "differential_evolution step 28: f(x)= 20.2956\n",
      "differential_evolution step 29: f(x)= 20.2956\n",
      "differential_evolution step 30: f(x)= 20.2956\n",
      "differential_evolution step 31: f(x)= 20.2956\n",
      "differential_evolution step 32: f(x)= 19.875\n",
      "differential_evolution step 33: f(x)= 19.5117\n",
      "differential_evolution step 34: f(x)= 19.5117\n",
      "differential_evolution step 35: f(x)= 19.5117\n",
      "differential_evolution step 36: f(x)= 19.5117\n",
      "differential_evolution step 37: f(x)= 19.5117\n",
      "differential_evolution step 38: f(x)= 19.5117\n",
      "differential_evolution step 39: f(x)= 19.5117\n",
      "differential_evolution step 40: f(x)= 19.5117\n",
      "differential_evolution step 41: f(x)= 19.5117\n",
      "differential_evolution step 42: f(x)= 19.5117\n",
      "differential_evolution step 43: f(x)= 19.5117\n",
      "differential_evolution step 44: f(x)= 19.5117\n",
      "differential_evolution step 45: f(x)= 19.5117\n",
      "differential_evolution step 46: f(x)= 19.5117\n",
      "differential_evolution step 47: f(x)= 19.5117\n",
      "differential_evolution step 48: f(x)= 19.5117\n",
      "differential_evolution step 49: f(x)= 19.5117\n",
      "differential_evolution step 50: f(x)= 19.5117\n",
      "differential_evolution step 51: f(x)= 19.5117\n",
      "differential_evolution step 52: f(x)= 19.5117\n",
      "differential_evolution step 53: f(x)= 19.5117\n",
      "differential_evolution step 54: f(x)= 19.5117\n",
      "differential_evolution step 55: f(x)= 19.2863\n",
      "differential_evolution step 56: f(x)= 19.2863\n",
      "differential_evolution step 57: f(x)= 19.2863\n",
      "differential_evolution step 58: f(x)= 19.2863\n",
      "differential_evolution step 59: f(x)= 19.2863\n",
      "differential_evolution step 60: f(x)= 19.2863\n",
      "differential_evolution step 61: f(x)= 19.2863\n",
      "differential_evolution step 62: f(x)= 19.2863\n",
      "differential_evolution step 63: f(x)= 19.2863\n",
      "differential_evolution step 64: f(x)= 19.2863\n",
      "differential_evolution step 65: f(x)= 19.2863\n",
      "differential_evolution step 66: f(x)= 19.2863\n",
      "differential_evolution step 67: f(x)= 19.2863\n",
      "differential_evolution step 68: f(x)= 19.2863\n",
      "differential_evolution step 69: f(x)= 19.2863\n",
      "differential_evolution step 70: f(x)= 19.2863\n",
      "differential_evolution step 71: f(x)= 19.2863\n",
      "differential_evolution step 72: f(x)= 19.2863\n",
      "differential_evolution step 73: f(x)= 19.2863\n",
      "differential_evolution step 74: f(x)= 19.2863\n",
      "differential_evolution step 75: f(x)= 19.2863\n",
      "differential_evolution step 76: f(x)= 19.2863\n",
      "differential_evolution step 77: f(x)= 19.2863\n",
      "differential_evolution step 78: f(x)= 19.2863\n",
      "differential_evolution step 79: f(x)= 19.2863\n",
      "differential_evolution step 80: f(x)= 19.2863\n",
      "differential_evolution step 81: f(x)= 19.2863\n",
      "differential_evolution step 82: f(x)= 19.2863\n",
      "differential_evolution step 83: f(x)= 19.2863\n",
      "differential_evolution step 84: f(x)= 19.2863\n",
      "differential_evolution step 85: f(x)= 19.2863\n",
      "differential_evolution step 86: f(x)= 19.2863\n",
      "differential_evolution step 87: f(x)= 19.2863\n",
      "differential_evolution step 88: f(x)= 19.1924\n",
      "differential_evolution step 89: f(x)= 19.1924\n",
      "differential_evolution step 90: f(x)= 19.091\n",
      "differential_evolution step 91: f(x)= 19.091\n",
      "differential_evolution step 92: f(x)= 19.091\n",
      "differential_evolution step 93: f(x)= 19.091\n",
      "differential_evolution step 94: f(x)= 19.091\n",
      "differential_evolution step 95: f(x)= 19.091\n",
      "differential_evolution step 96: f(x)= 19.091\n",
      "differential_evolution step 97: f(x)= 19.091\n",
      "differential_evolution step 98: f(x)= 19.091\n",
      "differential_evolution step 99: f(x)= 19.091\n",
      "differential_evolution step 100: f(x)= 19.091\n",
      "differential_evolution step 101: f(x)= 19.091\n",
      "differential_evolution step 102: f(x)= 19.091\n",
      "differential_evolution step 103: f(x)= 19.091\n",
      "differential_evolution step 104: f(x)= 19.091\n",
      "differential_evolution step 105: f(x)= 19.091\n",
      "differential_evolution step 106: f(x)= 19.091\n",
      "differential_evolution step 107: f(x)= 19.091\n",
      "differential_evolution step 108: f(x)= 19.091\n",
      "differential_evolution step 109: f(x)= 19.0887\n",
      "differential_evolution step 110: f(x)= 19.0887\n",
      "differential_evolution step 111: f(x)= 19.0887\n",
      "differential_evolution step 112: f(x)= 19.0887\n",
      "differential_evolution step 113: f(x)= 19.0887\n",
      "differential_evolution step 114: f(x)= 19.0887\n",
      "differential_evolution step 115: f(x)= 19.0887\n",
      "differential_evolution step 116: f(x)= 19.0418\n",
      "differential_evolution step 117: f(x)= 19.0418\n",
      "differential_evolution step 118: f(x)= 19.0418\n",
      "differential_evolution step 119: f(x)= 19.0418\n",
      "differential_evolution step 120: f(x)= 19.0418\n",
      "differential_evolution step 121: f(x)= 19.0418\n",
      "differential_evolution step 122: f(x)= 19.0418\n",
      "differential_evolution step 123: f(x)= 19.0418\n",
      "differential_evolution step 124: f(x)= 19.0418\n",
      "differential_evolution step 125: f(x)= 19.0418\n",
      "differential_evolution step 126: f(x)= 19.0418\n",
      "differential_evolution step 127: f(x)= 19.0418\n",
      "differential_evolution step 128: f(x)= 19.0418\n",
      "differential_evolution step 129: f(x)= 19.0418\n",
      "differential_evolution step 130: f(x)= 19.0418\n",
      "differential_evolution step 131: f(x)= 19.0418\n",
      "differential_evolution step 132: f(x)= 19.0418\n",
      "differential_evolution step 133: f(x)= 19.0418\n",
      "differential_evolution step 134: f(x)= 19.0418\n",
      "differential_evolution step 135: f(x)= 19.0418\n"
     ]
    },
    {
     "data": {
      "text/plain": [
       "     fun: 19.0375777574849\n",
       "     jac: array([28.19678481,  0.        ,  0.        ])\n",
       " message: 'Optimization terminated successfully.'\n",
       "    nfev: 6128\n",
       "     nit: 135\n",
       " success: True\n",
       "       x: array([1.2       , 1.59173358, 3.51414757])"
      ]
     },
     "execution_count": 51,
     "metadata": {},
     "output_type": "execute_result"
    }
   ],
   "source": [
    "ret = differential_evolution(scaling_cost,\n",
    "                             #bounds=[(1.2,2.2),(1.2,2.2),(1.3,2.2),(3.5,3.8)], \n",
    "                             bounds=[(1.2,2.2),(1.3,2.2),(3.5,3.8)], \n",
    "                            polish=True,\n",
    "                             strategy='best2exp', disp=True,\n",
    "                             x0=[1.4,1.6,3.65]\n",
    "                            )\n",
    "ret"
   ]
  },
  {
   "cell_type": "code",
   "execution_count": 53,
   "id": "0083bebd",
   "metadata": {},
   "outputs": [
    {
     "data": {
      "text/plain": [
       "<matplotlib.legend.Legend at 0x7f9c5794af90>"
      ]
     },
     "execution_count": 53,
     "metadata": {},
     "output_type": "execute_result"
    },
    {
     "data": {
      "image/png": "[encoded data removed]",
      "text/plain": [
       "<Figure size 432x288 with 1 Axes>"
      ]
     },
     "metadata": {
      "needs_background": "light"
     },
     "output_type": "display_data"
    }
   ],
   "source": [
    "### View results\n",
    "x,y, sorting = scaling(ret['x'])\n",
    "\n",
    "color = np.array([[i]*(stop-start) for i in [8,10,12,14]]).flatten()[sorting]\n",
    "#color = np.array([[i]*(stop-start) for i in [10,12,14]]).flatten()[sorting]\n",
    "\n",
    "for i in [8,10,12,14]:\n",
    "#for i in [10,12,14]:\n",
    "    plt.scatter(x[color==i],y[color==i], label=i)\n",
    "    \n",
    "plt.legend()\n"
   ]
  },
  {
   "cell_type": "code",
   "execution_count": 33,
   "id": "5cc7449d",
   "metadata": {},
   "outputs": [
    {
     "name": "stderr",
     "output_type": "stream",
     "text": [
      "0it [00:00, ?it/s]\n"
     ]
    },
    {
     "ename": "RuntimeError",
     "evalue": "The map-like callable must be of the form f(func, iterable), returning a sequence of numbers the same length as 'iterable'",
     "output_type": "error",
     "traceback": [
      "\u001b[0;31m---------------------------------------------------------------------------\u001b[0m",
      "\u001b[0;31mTypeError\u001b[0m                                 Traceback (most recent call last)",
      "\u001b[0;32m/opt/anaconda3/lib/python3.7/site-packages/scipy/optimize/_differentialevolution.py\u001b[0m in \u001b[0;36m_calculate_population_energies\u001b[0;34m(self, population)\u001b[0m\n\u001b[1;32m    966\u001b[0m             calc_energies = list(self._mapwrapper(self.func,\n\u001b[0;32m--> 967\u001b[0;31m                                                   parameters_pop[0:nfevs]))\n\u001b[0m\u001b[1;32m    968\u001b[0m             \u001b[0menergies\u001b[0m\u001b[0;34m[\u001b[0m\u001b[0;36m0\u001b[0m\u001b[0;34m:\u001b[0m\u001b[0mnfevs\u001b[0m\u001b[0;34m]\u001b[0m \u001b[0;34m=\u001b[0m \u001b[0mnp\u001b[0m\u001b[0;34m.\u001b[0m\u001b[0msqueeze\u001b[0m\u001b[0;34m(\u001b[0m\u001b[0mcalc_energies\u001b[0m\u001b[0;34m)\u001b[0m\u001b[0;34m\u001b[0m\u001b[0;34m\u001b[0m\u001b[0m\n",
      "\u001b[0;32m/opt/anaconda3/lib/python3.7/site-packages/scipy/optimize/_differentialevolution.py\u001b[0m in \u001b[0;36m__call__\u001b[0;34m(self, x)\u001b[0m\n\u001b[1;32m   1345\u001b[0m     \u001b[0;32mdef\u001b[0m \u001b[0m__call__\u001b[0m\u001b[0;34m(\u001b[0m\u001b[0mself\u001b[0m\u001b[0;34m,\u001b[0m \u001b[0mx\u001b[0m\u001b[0;34m)\u001b[0m\u001b[0;34m:\u001b[0m\u001b[0;34m\u001b[0m\u001b[0;34m\u001b[0m\u001b[0m\n\u001b[0;32m-> 1346\u001b[0;31m         \u001b[0;32mreturn\u001b[0m \u001b[0mself\u001b[0m\u001b[0;34m.\u001b[0m\u001b[0mf\u001b[0m\u001b[0;34m(\u001b[0m\u001b[0mx\u001b[0m\u001b[0;34m,\u001b[0m \u001b[0;34m*\u001b[0m\u001b[0mself\u001b[0m\u001b[0;34m.\u001b[0m\u001b[0margs\u001b[0m\u001b[0;34m)\u001b[0m\u001b[0;34m\u001b[0m\u001b[0;34m\u001b[0m\u001b[0m\n\u001b[0m\u001b[1;32m   1347\u001b[0m \u001b[0;34m\u001b[0m\u001b[0m\n",
      "\u001b[0;31mTypeError\u001b[0m: scaling_cost() takes 1 positional argument but 5 were given",
      "\nThe above exception was the direct cause of the following exception:\n",
      "\u001b[0;31mRuntimeError\u001b[0m                              Traceback (most recent call last)",
      "\u001b[0;32m/var/folders/mz/gfjk9jc50c7598gd12qlyv240000gn/T/ipykernel_10892/1535749959.py\u001b[0m in \u001b[0;36m<module>\u001b[0;34m\u001b[0m\n\u001b[1;32m      9\u001b[0m                                  \u001b[0mbounds\u001b[0m\u001b[0;34m=\u001b[0m\u001b[0;34m[\u001b[0m\u001b[0;34m(\u001b[0m\u001b[0;36m0\u001b[0m\u001b[0;34m,\u001b[0m\u001b[0;36m3\u001b[0m\u001b[0;34m)\u001b[0m\u001b[0;34m,\u001b[0m\u001b[0;34m(\u001b[0m\u001b[0;36m0\u001b[0m\u001b[0;34m,\u001b[0m\u001b[0;36m3\u001b[0m\u001b[0;34m)\u001b[0m\u001b[0;34m,\u001b[0m\u001b[0;34m(\u001b[0m\u001b[0;36m0\u001b[0m\u001b[0;34m,\u001b[0m\u001b[0;36m3\u001b[0m\u001b[0;34m)\u001b[0m\u001b[0;34m,\u001b[0m\u001b[0;34m(\u001b[0m\u001b[0;36m2\u001b[0m\u001b[0;34m,\u001b[0m\u001b[0;36m5\u001b[0m\u001b[0;34m)\u001b[0m\u001b[0;34m]\u001b[0m\u001b[0;34m,\u001b[0m\u001b[0;34m\u001b[0m\u001b[0;34m\u001b[0m\u001b[0m\n\u001b[1;32m     10\u001b[0m                                  \u001b[0margs\u001b[0m\u001b[0;34m=\u001b[0m\u001b[0;34m(\u001b[0m\u001b[0;36m1.4\u001b[0m\u001b[0;34m,\u001b[0m\u001b[0;36m1.2\u001b[0m\u001b[0;34m,\u001b[0m\u001b[0;36m2\u001b[0m\u001b[0;34m,\u001b[0m\u001b[0;36m3.8\u001b[0m\u001b[0;34m)\u001b[0m\u001b[0;34m,\u001b[0m\u001b[0;34m\u001b[0m\u001b[0;34m\u001b[0m\u001b[0m\n\u001b[0;32m---> 11\u001b[0;31m                                 \u001b[0mpolish\u001b[0m\u001b[0;34m=\u001b[0m\u001b[0;32mTrue\u001b[0m\u001b[0;34m,\u001b[0m\u001b[0;34m\u001b[0m\u001b[0;34m\u001b[0m\u001b[0m\n\u001b[0m\u001b[1;32m     12\u001b[0m                                 )\n\u001b[1;32m     13\u001b[0m         \u001b[0mresults\u001b[0m\u001b[0;34m[\u001b[0m\u001b[0mstrat\u001b[0m\u001b[0;34m]\u001b[0m\u001b[0;34m.\u001b[0m\u001b[0mappend\u001b[0m\u001b[0;34m(\u001b[0m\u001b[0mret\u001b[0m\u001b[0;34m[\u001b[0m\u001b[0;34m'x'\u001b[0m\u001b[0;34m]\u001b[0m\u001b[0;34m)\u001b[0m\u001b[0;34m\u001b[0m\u001b[0;34m\u001b[0m\u001b[0m\n",
      "\u001b[0;32m/opt/anaconda3/lib/python3.7/site-packages/scipy/optimize/_differentialevolution.py\u001b[0m in \u001b[0;36mdifferential_evolution\u001b[0;34m(func, bounds, args, strategy, maxiter, popsize, tol, mutation, recombination, seed, callback, disp, polish, init, atol, updating, workers, constraints, x0)\u001b[0m\n\u001b[1;32m    327\u001b[0m                                      \u001b[0mconstraints\u001b[0m\u001b[0;34m=\u001b[0m\u001b[0mconstraints\u001b[0m\u001b[0;34m,\u001b[0m\u001b[0;34m\u001b[0m\u001b[0;34m\u001b[0m\u001b[0m\n\u001b[1;32m    328\u001b[0m                                      x0=x0) as solver:\n\u001b[0;32m--> 329\u001b[0;31m         \u001b[0mret\u001b[0m \u001b[0;34m=\u001b[0m \u001b[0msolver\u001b[0m\u001b[0;34m.\u001b[0m\u001b[0msolve\u001b[0m\u001b[0;34m(\u001b[0m\u001b[0;34m)\u001b[0m\u001b[0;34m\u001b[0m\u001b[0;34m\u001b[0m\u001b[0m\n\u001b[0m\u001b[1;32m    330\u001b[0m \u001b[0;34m\u001b[0m\u001b[0m\n\u001b[1;32m    331\u001b[0m     \u001b[0;32mreturn\u001b[0m \u001b[0mret\u001b[0m\u001b[0;34m\u001b[0m\u001b[0;34m\u001b[0m\u001b[0m\n",
      "\u001b[0;32m/opt/anaconda3/lib/python3.7/site-packages/scipy/optimize/_differentialevolution.py\u001b[0m in \u001b[0;36msolve\u001b[0;34m(self)\u001b[0m\n\u001b[1;32m    842\u001b[0m             self.population_energies[self.feasible] = (\n\u001b[1;32m    843\u001b[0m                 self._calculate_population_energies(\n\u001b[0;32m--> 844\u001b[0;31m                     self.population[self.feasible]))\n\u001b[0m\u001b[1;32m    845\u001b[0m \u001b[0;34m\u001b[0m\u001b[0m\n\u001b[1;32m    846\u001b[0m             \u001b[0mself\u001b[0m\u001b[0;34m.\u001b[0m\u001b[0m_promote_lowest_energy\u001b[0m\u001b[0;34m(\u001b[0m\u001b[0;34m)\u001b[0m\u001b[0;34m\u001b[0m\u001b[0;34m\u001b[0m\u001b[0m\n",
      "\u001b[0;32m/opt/anaconda3/lib/python3.7/site-packages/scipy/optimize/_differentialevolution.py\u001b[0m in \u001b[0;36m_calculate_population_energies\u001b[0;34m(self, population)\u001b[0m\n\u001b[1;32m    973\u001b[0m                 \u001b[0;34m\"The map-like callable must be of the form f(func, iterable), \"\u001b[0m\u001b[0;34m\u001b[0m\u001b[0;34m\u001b[0m\u001b[0m\n\u001b[1;32m    974\u001b[0m                 \u001b[0;34m\"returning a sequence of numbers the same length as 'iterable'\"\u001b[0m\u001b[0;34m\u001b[0m\u001b[0;34m\u001b[0m\u001b[0m\n\u001b[0;32m--> 975\u001b[0;31m             ) from e\n\u001b[0m\u001b[1;32m    976\u001b[0m \u001b[0;34m\u001b[0m\u001b[0m\n\u001b[1;32m    977\u001b[0m         \u001b[0mself\u001b[0m\u001b[0;34m.\u001b[0m\u001b[0m_nfev\u001b[0m \u001b[0;34m+=\u001b[0m \u001b[0mnfevs\u001b[0m\u001b[0;34m\u001b[0m\u001b[0;34m\u001b[0m\u001b[0m\n",
      "\u001b[0;31mRuntimeError\u001b[0m: The map-like callable must be of the form f(func, iterable), returning a sequence of numbers the same length as 'iterable'"
     ]
    }
   ],
   "source": [
    "strats = ['best1bin','best1exp','rand1exp','randtobest1exp','currenttobest1exp',\n",
    " 'best2exp', 'rand2exp', 'randtobest1bin', 'currenttobest1bin', 'best2bin', 'rand2bin', 'rand1bin']\n",
    "\n",
    "results = {}\n",
    "for index, strat in tqdm(enumerate(strats)):\n",
    "    results[strat] = []\n",
    "    for i in range(3):\n",
    "        ret = differential_evolution(scaling_cost,\n",
    "                                 bounds=[(0,3),(0,3),(0,3),(2,5)], \n",
    "                                 args=(1.4,1.2,2,3.8),\n",
    "                                polish=True,\n",
    "                                )\n",
    "        results[strat].append(ret['x'])\n",
    "    \n",
    "    "
   ]
  },
  {
   "cell_type": "code",
   "execution_count": null,
   "id": "cd77d373",
   "metadata": {},
   "outputs": [],
   "source": [
    "zeta = [np.array(results[strat])[:,0] for strat in strats]\n",
    "nu = [np.array(results[strat])[:,1] for strat in strats]\n",
    "alpha= [np.array(results[strat])[:,2] for strat in strats]\n",
    "rho_c = [np.array(results[strat])[:,3] for strat in strats]"
   ]
  },
  {
   "cell_type": "code",
   "execution_count": null,
   "id": "c0c402fe",
   "metadata": {},
   "outputs": [],
   "source": [
    "fig, ax = plt.subplots(2,2, figsize=(15,5), sharex=True)\n",
    "ax[0,0].boxplot(zeta)\n",
    "ax[0,1].boxplot(nu)\n",
    "ax[1,0].boxplot(alpha)\n",
    "ax[1,1].boxplot(rho_c)\n",
    "ax[1,1].set_xticks(range(1,1+len(strats)),strats,rotation= 90)\n",
    "ax[1,0].set_xticks(range(1,1+len(strats)),strats,rotation= 90)\n",
    "plt.show()"
   ]
  },
  {
   "cell_type": "code",
   "execution_count": 13,
   "id": "a51a781e",
   "metadata": {},
   "outputs": [
    {
     "ename": "NameError",
     "evalue": "name 'zeta' is not defined",
     "output_type": "error",
     "traceback": [
      "\u001b[0;31m---------------------------------------------------------------------------\u001b[0m",
      "\u001b[0;31mNameError\u001b[0m                                 Traceback (most recent call last)",
      "\u001b[0;32m/var/folders/mz/gfjk9jc50c7598gd12qlyv240000gn/T/ipykernel_10892/1391271362.py\u001b[0m in \u001b[0;36m<module>\u001b[0;34m\u001b[0m\n\u001b[1;32m      1\u001b[0m \u001b[0;31m#View results\u001b[0m\u001b[0;34m\u001b[0m\u001b[0;34m\u001b[0m\u001b[0;34m\u001b[0m\u001b[0m\n\u001b[1;32m      2\u001b[0m x,y = scaling(ws, \n\u001b[0;32m----> 3\u001b[0;31m               \u001b[0mnp\u001b[0m\u001b[0;34m.\u001b[0m\u001b[0mmean\u001b[0m\u001b[0;34m(\u001b[0m\u001b[0mnp\u001b[0m\u001b[0;34m.\u001b[0m\u001b[0marray\u001b[0m\u001b[0;34m(\u001b[0m\u001b[0mzeta\u001b[0m\u001b[0;34m)\u001b[0m\u001b[0;34m)\u001b[0m\u001b[0;34m,\u001b[0m\u001b[0;34m\u001b[0m\u001b[0;34m\u001b[0m\u001b[0m\n\u001b[0m\u001b[1;32m      4\u001b[0m               \u001b[0mnp\u001b[0m\u001b[0;34m.\u001b[0m\u001b[0mmean\u001b[0m\u001b[0;34m(\u001b[0m\u001b[0mnp\u001b[0m\u001b[0;34m.\u001b[0m\u001b[0marray\u001b[0m\u001b[0;34m(\u001b[0m\u001b[0mnu\u001b[0m\u001b[0;34m)\u001b[0m\u001b[0;34m)\u001b[0m\u001b[0;34m,\u001b[0m\u001b[0;34m\u001b[0m\u001b[0;34m\u001b[0m\u001b[0m\n\u001b[1;32m      5\u001b[0m               \u001b[0mnp\u001b[0m\u001b[0;34m.\u001b[0m\u001b[0mmean\u001b[0m\u001b[0;34m(\u001b[0m\u001b[0mnp\u001b[0m\u001b[0;34m.\u001b[0m\u001b[0marray\u001b[0m\u001b[0;34m(\u001b[0m\u001b[0malpha\u001b[0m\u001b[0;34m)\u001b[0m\u001b[0;34m)\u001b[0m\u001b[0;34m,\u001b[0m\u001b[0;34m\u001b[0m\u001b[0;34m\u001b[0m\u001b[0m\n",
      "\u001b[0;31mNameError\u001b[0m: name 'zeta' is not defined"
     ]
    }
   ],
   "source": [
    "#View results\n",
    "x,y = scaling(ws, \n",
    "              np.mean(np.array(zeta)), \n",
    "              np.mean(np.array(nu)), \n",
    "              np.mean(np.array(alpha)), \n",
    "              np.mean(np.array(rho_c)))\n",
    "plt.scatter(x,y)\n"
   ]
  },
  {
   "cell_type": "markdown",
   "id": "a514f434",
   "metadata": {},
   "source": [
    "## can we think of another way to minimize?\n",
    "\n",
    "1. x0\n",
    "1. cost\n",
    "1. vary one param up and down by one step\n",
    "    1. cost\n",
    "    1. choose best\n",
    "1. repeat 3"
   ]
  },
  {
   "cell_type": "code",
   "execution_count": null,
   "id": "b31fee7f",
   "metadata": {},
   "outputs": [],
   "source": [
    "zeta0, nu0, alpha0, rho_c0 = np.mean(np.array(zeta)), np.mean(np.array(nu)), np.mean(np.array(alpha)), np.mean(np.array(rho_c))\n",
    "x = [zeta0, nu0, alpha0, rho_c0]\n",
    "step = 0.001\n",
    "\n",
    "C_lst = []\n",
    "\n",
    "for param in tqdm(range(2000)):\n",
    "    param = param%4\n",
    "    zeta, nu, alpha, rho_c = x[0], x[1],x[2],x[3]\n",
    "    C = scaling_cost(ws, zeta, nu, alpha, rho_c)\n",
    "    x[param] += step\n",
    "    zeta, nu, alpha, rho_c = x[0], x[1],x[2],x[3]\n",
    "    C_up = scaling_cost(ws, zeta, nu, alpha, rho_c)\n",
    "    x[param] -= 2*step\n",
    "    zeta, nu, alpha, rho_c = x[0], x[1],x[2],x[3]\n",
    "    C_down = scaling_cost(ws, zeta, nu, alpha, rho_c)\n",
    "    \n",
    "    which = np.argmin([C_down, C, C_up])\n",
    "    if which == 0:\n",
    "        pass\n",
    "    elif which ==1:\n",
    "        x[param] += step\n",
    "    elif which ==2:\n",
    "        x[param] += 2*step\n",
    "    \n",
    "    #print([C_down, C, C_up], which)\n",
    "    C_lst.append([C_down, C, C_up][which]) \n",
    "x"
   ]
  },
  {
   "cell_type": "code",
   "execution_count": null,
   "id": "d33874dd",
   "metadata": {},
   "outputs": [],
   "source": [
    "plt.plot(range(len(C_lst)),C_lst)"
   ]
  },
  {
   "cell_type": "markdown",
   "id": "3b6ec5c3",
   "metadata": {},
   "source": [
    "## How about with an interact function"
   ]
  },
  {
   "cell_type": "code",
   "execution_count": 14,
   "id": "bf4bd8bd",
   "metadata": {},
   "outputs": [],
   "source": [
    "from __future__ import print_function\n",
    "from ipywidgets import interact, interactive, fixed, interact_manual\n",
    "import ipywidgets as widgets"
   ]
  },
  {
   "cell_type": "code",
   "execution_count": 20,
   "id": "8c9104c0",
   "metadata": {},
   "outputs": [],
   "source": [
    "def scaling_plot(zeta, nu, alpha, rho_c):\n",
    "    x,y, sorting = scaling([zeta, nu, alpha, rho_c])\n",
    "    #color = np.array([[i]*(stop-start) for i in [8,10,12,14]]).flatten()[sorting]\n",
    "    color = np.array([[i]*(stop-start) for i in [10,12,14]]).flatten()[sorting]\n",
    "\n",
    "    #for i in [8,10,12,14]:\n",
    "    for i in [10,12,14]:\n",
    "        plt.scatter(x[color==i],y[color==i], label=i)\n",
    "    plt.title(scaling_cost([zeta, nu, alpha, rho_c]))\n",
    "    plt.legend()\n",
    "    "
   ]
  },
  {
   "cell_type": "code",
   "execution_count": 21,
   "id": "138dfc83",
   "metadata": {},
   "outputs": [
    {
     "data": {
      "application/vnd.jupyter.widget-view+json": {
       "model_id": "ca4b922e28474888b4f049a35f7e1a1b",
       "version_major": 2,
       "version_minor": 0
      },
      "text/plain": [
       "interactive(children=(FloatSlider(value=1.41, description='zeta', max=4.2299999999999995, min=-1.41), FloatSli…"
      ]
     },
     "metadata": {},
     "output_type": "display_data"
    }
   ],
   "source": [
    "interact(scaling_plot, zeta=1.41, nu=1.51, alpha=1.51, rho_c=3.61);"
   ]
  },
  {
   "cell_type": "code",
   "execution_count": null,
   "id": "b7950a30",
   "metadata": {},
   "outputs": [],
   "source": []
  }
 ],
 "metadata": {
  "kernelspec": {
   "display_name": "Python 3 (ipykernel)",
   "language": "python",
   "name": "python3"
  },
  "language_info": {
   "codemirror_mode": {
    "name": "ipython",
    "version": 3
   },
   "file_extension": ".py",
   "mimetype": "text/x-python",
   "name": "python",
   "nbconvert_exporter": "python",
   "pygments_lexer": "ipython3",
   "version": "3.7.11"
  }
 },
 "nbformat": 4,
 "nbformat_minor": 5
}
