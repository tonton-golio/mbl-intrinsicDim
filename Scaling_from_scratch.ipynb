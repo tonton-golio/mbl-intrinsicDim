{
 "cells": [
  {
   "cell_type": "markdown",
   "id": "a5ae03a1",
   "metadata": {},
   "source": [
    "# Scaling from scratch\n",
    "\n",
    "So we have a couple curves, of similar shape. We want to apply some function whicyh collapses them to lay on top of one another.\n",
    "\n",
    "1. import our data\n",
    "1. def collapse func:\n",
    "    BKT scaling\n",
    "1. def Cost function\n",
    "1. mininze with respect to cost function\n",
    "\n"
   ]
  },
  {
   "cell_type": "code",
   "execution_count": 1,
   "id": "a78f5799",
   "metadata": {},
   "outputs": [],
   "source": [
    "import numpy as np\n",
    "import matplotlib.pyplot as plt\n",
    "from tqdm import tqdm\n",
    "import numpy.ma as ma\n",
    "from scipy.optimize import minimize, differential_evolution"
   ]
  },
  {
   "cell_type": "markdown",
   "id": "9fabcf2e",
   "metadata": {},
   "source": [
    "## 1. import data"
   ]
  },
  {
   "cell_type": "code",
   "execution_count": 2,
   "id": "a8476802",
   "metadata": {},
   "outputs": [],
   "source": [
    "def load_IDs(L, seeds):\n",
    "    Ws = np.concatenate([np.arange(1,2.6,0.2), np.arange(2.6,4.55,0.05), np.arange(4.7,6.2,0.2)])\n",
    "\n",
    "    ID = -1*np.ones((len(seeds),len(Ws)))\n",
    "    R2 = -1*np.ones((len(seeds),len(Ws)))\n",
    "    \n",
    "    count = 0\n",
    "    missing = []\n",
    "    for seed in seeds:\n",
    "        try:\n",
    "            data = np.atleast_2d(np.load(\"data/2nn_L_{0}/2nn_L_{0}_seed_{1}.npy\".format(L,seed), allow_pickle=True))[0]\n",
    "            ID[seed] = np.array([data[i]['ID'] for i in range(len(Ws))])\n",
    "            R2[seed] = np.array([data[i]['rsquared'] for i in range(len(Ws))])\n",
    "            \n",
    "        except:\n",
    "            missing.append(seed)\n",
    "            continue\n",
    "            \n",
    "    ID = ma.masked_equal(ID, -1)\n",
    "    print(\"Loaded {0} out of {1} seeds\".format(len(seeds)-len(missing), len(seeds)))\n",
    "    return ID, R2"
   ]
  },
  {
   "cell_type": "code",
   "execution_count": 3,
   "id": "399b93c0",
   "metadata": {},
   "outputs": [
    {
     "name": "stdout",
     "output_type": "stream",
     "text": [
      "Loaded 100000 out of 100000 seeds\n",
      "Loaded 10000 out of 10000 seeds\n",
      "Loaded 5000 out of 5000 seeds\n",
      "Loaded 1000 out of 1000 seeds\n"
     ]
    }
   ],
   "source": [
    "Ws = np.concatenate([np.arange(1,2.6,0.2), np.arange(2.6,4.55,0.05), np.arange(4.7,6.2,0.2)])\n",
    "\n",
    "ID8, R2_8 = load_IDs(8, range(0,100000))\n",
    "ID10, R2_10 = load_IDs(10, range(0,10000))\n",
    "ID12, R2_12 = load_IDs(12, range(0,5000))\n",
    "ID14, R2_14 = load_IDs(14, range(0,1000))"
   ]
  },
  {
   "cell_type": "code",
   "execution_count": 4,
   "id": "8589a091",
   "metadata": {},
   "outputs": [
    {
     "data": {
      "image/png": "[encoded data removed]",
      "text/plain": [
       "<Figure size 432x288 with 2 Axes>"
      ]
     },
     "metadata": {
      "needs_background": "light"
     },
     "output_type": "display_data"
    }
   ],
   "source": [
    "start, stop = 8, 47\n",
    "i8 = ma.mean(ID8, axis=0)[start:stop]\n",
    "i10 = ma.mean(ID10, axis=0)[start:stop]\n",
    "i12 = ma.mean(ID12, axis=0)[start:stop]\n",
    "i14 = ma.mean(ID14, axis=0)[start:stop]\n",
    "\n",
    "ws = Ws[start:stop]\n",
    "\n",
    "fig, ax = plt.subplots(1,2)\n",
    "[ax[0].plot(Ws, ma.mean(ID, axis=0)) for ID in [ID8, ID10, ID12, ID14]]\n",
    "[ax[1].plot(ws, i) for i in [i8, i10, i12, i14]]\n",
    "ax[0].set_title('all data')\n",
    "ax[1].set_title('cropped for scaling')\n",
    "\n",
    "plt.show()"
   ]
  },
  {
   "cell_type": "markdown",
   "id": "7ec06d6e",
   "metadata": {},
   "source": [
    "## define scaling functions + cost "
   ]
  },
  {
   "cell_type": "code",
   "execution_count": 5,
   "id": "6329909b",
   "metadata": {},
   "outputs": [],
   "source": [
    "def x_BKT(rho, rho_c, l, alpha):\n",
    "    '''This is L/epsilon'''\n",
    "    return l*np.exp(-alpha/np.sqrt(abs(rho-rho_c)))\n",
    "\n",
    "def y_func(y, l, zeta,nu):\n",
    "    return np.power(l, -zeta/nu) * y\n",
    "\n",
    "def cost_func(X):\n",
    "    numerator = sum([abs(X[i+1] - X[i]) for i in range(len(X)-1)]) \n",
    "    denominator = max(X)-min(X)\n",
    "    cost = numerator/denominator -1\n",
    "    \n",
    "    return cost"
   ]
  },
  {
   "cell_type": "markdown",
   "id": "6044aad7",
   "metadata": {},
   "source": [
    "## minimize"
   ]
  },
  {
   "cell_type": "code",
   "execution_count": 128,
   "id": "0230cacb",
   "metadata": {},
   "outputs": [],
   "source": [
    "def scaling(Ws, zeta, nu, alpha, rho_c):\n",
    "    x = np.array([np.sign(ws-rho_c)*x_BKT(ws, rho_c, L,alpha) for L in [8,10,12,14]]).flatten()\n",
    "    sorting = np.argsort(x)\n",
    "    y = (np.concatenate([y_func(i8, 8, zeta, nu),\n",
    "                         y_func(i10, 10, zeta, nu),\n",
    "                         y_func(i12, 12, zeta, nu),\n",
    "                         y_func(i14, 14, zeta, nu)])[sorting])\n",
    "    return x[sorting],y, sorting\n",
    "    \n",
    "    \n",
    "\n",
    "def scaling_cost(Ws, zeta, nu, alpha, rho_c):\n",
    "    x,y, _ = scaling(Ws, zeta, nu, alpha, rho_c)\n",
    "    return cost_func(y)\n",
    "    \n",
    "\n"
   ]
  },
  {
   "cell_type": "code",
   "execution_count": 120,
   "id": "f0761ce4",
   "metadata": {},
   "outputs": [
    {
     "data": {
      "text/plain": [
       "     fun: 23.827827007134125\n",
       " message: 'Optimization terminated successfully.'\n",
       "    nfev: 125\n",
       "     nit: 1\n",
       " success: True\n",
       "       x: array([1.54015729, 1.22376454, 1.81964644, 3.46485458])"
      ]
     },
     "execution_count": 120,
     "metadata": {},
     "output_type": "execute_result"
    }
   ],
   "source": [
    "ret = differential_evolution(scaling_cost,\n",
    "                             bounds=[(1,2.2),(1,2.2),(1,2.2),(3.4,3.8)], \n",
    "                             args=(1.4,1.2,2,3.8),\n",
    "                            polish=True,\n",
    "                             strategy='best2exp'\n",
    "                            )\n",
    "ret"
   ]
  },
  {
   "cell_type": "code",
   "execution_count": 147,
   "id": "725124e7",
   "metadata": {},
   "outputs": [
    {
     "data": {
      "text/plain": [
       "<matplotlib.legend.Legend at 0x7f9a72501610>"
      ]
     },
     "execution_count": 147,
     "metadata": {},
     "output_type": "execute_result"
    },
    {
     "data": {
      "image/png": "[encoded data removed]",
      "text/plain": [
       "<Figure size 432x288 with 1 Axes>"
      ]
     },
     "metadata": {
      "needs_background": "light"
     },
     "output_type": "display_data"
    }
   ],
   "source": [
    "#View results\n",
    "x,y, sorting = scaling(ws, *ret['x'])\n",
    "\n",
    "color = np.array([[i]*(stop-start) for i in [8,10,12,14]]).flatten()[sorting]\n",
    "\n",
    "for i in [8,10,12,14]:\n",
    "    plt.scatter(x[color==i],y[color==i], label=i)\n",
    "    \n",
    "plt.legend()\n"
   ]
  },
  {
   "cell_type": "code",
   "execution_count": 75,
   "id": "5cc7449d",
   "metadata": {},
   "outputs": [
    {
     "name": "stderr",
     "output_type": "stream",
     "text": [
      "12it [05:57, 29.77s/it]\n"
     ]
    }
   ],
   "source": [
    "strats = ['best1bin','best1exp','rand1exp','randtobest1exp','currenttobest1exp',\n",
    " 'best2exp', 'rand2exp', 'randtobest1bin', 'currenttobest1bin', 'best2bin', 'rand2bin', 'rand1bin']\n",
    "\n",
    "results = {}\n",
    "for index, strat in tqdm(enumerate(strats)):\n",
    "    results[strat] = []\n",
    "    for i in range(100):\n",
    "        ret = differential_evolution(scaling_cost,\n",
    "                                 bounds=[(0,3),(0,3),(0,3),(2,5)], \n",
    "                                 args=(1.4,1.2,2,3.8),\n",
    "                                polish=True,\n",
    "                                )\n",
    "        results[strat].append(ret['x'])\n",
    "    \n",
    "    "
   ]
  },
  {
   "cell_type": "code",
   "execution_count": 72,
   "id": "cd77d373",
   "metadata": {},
   "outputs": [],
   "source": [
    "zeta = [np.array(results[strat])[:,0] for strat in strats]\n",
    "nu = [np.array(results[strat])[:,1] for strat in strats]\n",
    "alpha= [np.array(results[strat])[:,2] for strat in strats]\n",
    "rho_c = [np.array(results[strat])[:,3] for strat in strats]"
   ]
  },
  {
   "cell_type": "code",
   "execution_count": 73,
   "id": "c0c402fe",
   "metadata": {},
   "outputs": [
    {
     "data": {
      "image/png": "[encoded data removed]",
      "text/plain": [
       "<Figure size 1080x360 with 4 Axes>"
      ]
     },
     "metadata": {
      "needs_background": "light"
     },
     "output_type": "display_data"
    }
   ],
   "source": [
    "fig, ax = plt.subplots(2,2, figsize=(15,5), sharex=True)\n",
    "ax[0,0].boxplot(zeta)\n",
    "ax[0,1].boxplot(nu)\n",
    "ax[1,0].boxplot(alpha)\n",
    "ax[1,1].boxplot(rho_c)\n",
    "ax[1,1].set_xticks(range(1,1+len(strats)),strats,rotation= 90)\n",
    "ax[1,0].set_xticks(range(1,1+len(strats)),strats,rotation= 90)\n",
    "plt.show()"
   ]
  },
  {
   "cell_type": "code",
   "execution_count": 117,
   "id": "a51a781e",
   "metadata": {},
   "outputs": [
    {
     "data": {
      "text/plain": [
       "<matplotlib.collections.PathCollection at 0x7f9a631692d0>"
      ]
     },
     "execution_count": 117,
     "metadata": {},
     "output_type": "execute_result"
    },
    {
     "data": {
      "image/png": "[encoded data removed]",
      "text/plain": [
       "<Figure size 432x288 with 1 Axes>"
      ]
     },
     "metadata": {
      "needs_background": "light"
     },
     "output_type": "display_data"
    }
   ],
   "source": [
    "#View results\n",
    "x,y = scaling(ws, \n",
    "              np.mean(np.array(zeta)), \n",
    "              np.mean(np.array(nu)), \n",
    "              np.mean(np.array(alpha)), \n",
    "              np.mean(np.array(rho_c)))\n",
    "plt.scatter(x,y)\n"
   ]
  },
  {
   "cell_type": "markdown",
   "id": "a514f434",
   "metadata": {},
   "source": [
    "## can we think of another way to minimize?\n",
    "\n",
    "1. x0\n",
    "1. cost\n",
    "1. vary one param up and down by one step\n",
    "    1. cost\n",
    "    1. choose best\n",
    "1. repeat 3"
   ]
  },
  {
   "cell_type": "code",
   "execution_count": 118,
   "id": "b31fee7f",
   "metadata": {},
   "outputs": [
    {
     "data": {
      "text/plain": [
       "[0.9199999999999998, 1.0809999999997884, 0.9919999999999999, 4.005000000000884]"
      ]
     },
     "execution_count": 118,
     "metadata": {},
     "output_type": "execute_result"
    }
   ],
   "source": [
    "zeta0, nu0, alpha0, rho_c0 = np.mean(np.array(zeta)), np.mean(np.array(nu)), np.mean(np.array(alpha)), np.mean(np.array(rho_c))\n",
    "x = [zeta0, nu0, alpha0, rho_c0]\n",
    "step = 0.001\n",
    "\n",
    "C_lst = []\n",
    "\n",
    "for param in tqdm(range(2000)):\n",
    "    param = param%4\n",
    "    zeta, nu, alpha, rho_c = x[0], x[1],x[2],x[3]\n",
    "    C = scaling_cost(ws, zeta, nu, alpha, rho_c)\n",
    "    x[param] += step\n",
    "    zeta, nu, alpha, rho_c = x[0], x[1],x[2],x[3]\n",
    "    C_up = scaling_cost(ws, zeta, nu, alpha, rho_c)\n",
    "    x[param] -= 2*step\n",
    "    zeta, nu, alpha, rho_c = x[0], x[1],x[2],x[3]\n",
    "    C_down = scaling_cost(ws, zeta, nu, alpha, rho_c)\n",
    "    \n",
    "    which = np.argmin([C_down, C, C_up])\n",
    "    if which == 0:\n",
    "        pass\n",
    "    elif which ==1:\n",
    "        x[param] += step\n",
    "    elif which ==2:\n",
    "        x[param] += 2*step\n",
    "    \n",
    "    #print([C_down, C, C_up], which)\n",
    "    C_lst.append([C_down, C, C_up][which]) \n",
    "x"
   ]
  },
  {
   "cell_type": "code",
   "execution_count": 119,
   "id": "d33874dd",
   "metadata": {},
   "outputs": [
    {
     "data": {
      "text/plain": [
       "[<matplotlib.lines.Line2D at 0x7f9a6329b850>]"
      ]
     },
     "execution_count": 119,
     "metadata": {},
     "output_type": "execute_result"
    },
    {
     "data": {
      "image/png": "[encoded data removed]",
      "text/plain": [
       "<Figure size 432x288 with 1 Axes>"
      ]
     },
     "metadata": {
      "needs_background": "light"
     },
     "output_type": "display_data"
    }
   ],
   "source": [
    "plt.plot(range(len(C_lst)),C_lst)"
   ]
  },
  {
   "cell_type": "markdown",
   "id": "3b6ec5c3",
   "metadata": {},
   "source": [
    "## How about with an interact function"
   ]
  },
  {
   "cell_type": "code",
   "execution_count": 123,
   "id": "bf4bd8bd",
   "metadata": {},
   "outputs": [],
   "source": [
    "from __future__ import print_function\n",
    "from ipywidgets import interact, interactive, fixed, interact_manual\n",
    "import ipywidgets as widgets"
   ]
  },
  {
   "cell_type": "code",
   "execution_count": 148,
   "id": "8c9104c0",
   "metadata": {},
   "outputs": [],
   "source": [
    "def scaling_plot(zeta, nu, alpha, rho_c):\n",
    "    x,y, sorting = scaling(ws, zeta, nu, alpha, rho_c)\n",
    "    color = np.array([[i]*(stop-start) for i in [8,10,12,14]]).flatten()[sorting]\n",
    "\n",
    "    for i in [8,10,12,14]:\n",
    "        plt.scatter(x[color==i],y[color==i], label=i)\n",
    "\n",
    "    plt.legend()\n",
    "    "
   ]
  },
  {
   "cell_type": "code",
   "execution_count": 149,
   "id": "138dfc83",
   "metadata": {},
   "outputs": [
    {
     "data": {
      "application/vnd.jupyter.widget-view+json": {
       "model_id": "59809dc126b848959e4fa82de35a23b7",
       "version_major": 2,
       "version_minor": 0
      },
      "text/plain": [
       "interactive(children=(FloatSlider(value=1.4, description='zeta', max=4.199999999999999, min=-1.4), FloatSlider…"
      ]
     },
     "metadata": {},
     "output_type": "display_data"
    }
   ],
   "source": [
    "interact(scaling_plot, zeta=1.4, nu=1.5, alpha=1.5, rho_c=3.6);"
   ]
  },
  {
   "cell_type": "code",
   "execution_count": null,
   "id": "b7950a30",
   "metadata": {},
   "outputs": [],
   "source": []
  }
 ],
 "metadata": {
  "kernelspec": {
   "display_name": "Python 3 (ipykernel)",
   "language": "python",
   "name": "python3"
  },
  "language_info": {
   "codemirror_mode": {
    "name": "ipython",
    "version": 3
   },
   "file_extension": ".py",
   "mimetype": "text/x-python",
   "name": "python",
   "nbconvert_exporter": "python",
   "pygments_lexer": "ipython3",
   "version": "3.7.11"
  }
 },
 "nbformat": 4,
 "nbformat_minor": 5
}
