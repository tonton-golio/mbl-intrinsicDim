{
 "cells": [
  {
   "cell_type": "code",
   "execution_count": 53,
   "id": "873b7fa4",
   "metadata": {},
   "outputs": [],
   "source": [
    "# packages\n",
    "import numpy as np  # matrix and vector operations\n",
    "import matplotlib.pyplot as plt  # visualization\n",
    "#import fssa as fssa  # scaling collapse \n",
    "from utils import *  # all things ID of MBL\n",
    "from time import time\n",
    "import glob\n",
    "import numpy.ma as ma\n",
    "from plotting import *\n",
    "import scipy as sp\n",
    "import seaborn as sns\n",
    "from tqdm import tqdm\n",
    "\n",
    "import matplotlib as mpl\n",
    "fig_size_dim    = 4\n",
    "golden_ratio    = (1+np.sqrt(5))/2\n",
    "fig_size        = (fig_size_dim, fig_size_dim/golden_ratio)\n",
    "\n",
    "def plot_style():\n",
    "    font_size       = 12\n",
    "    dpi             = 200\n",
    "\n",
    "    params = {'figure.figsize': fig_size,\n",
    "              'figure.dpi': dpi,\n",
    "              'savefig.dpi': dpi,\n",
    "              'font.size': font_size,\n",
    "              'font.family': \"sans-serif\",\n",
    "              'font.sans-serif': [\"Helvetica\"],\n",
    "              'figure.titlesize': font_size,\n",
    "              'legend.fontsize': font_size,\n",
    "              'axes.labelsize': font_size,\n",
    "              'axes.titlesize': font_size,\n",
    "              'xtick.labelsize': font_size,\n",
    "              'ytick.labelsize': font_size,\n",
    "              'text.usetex': True,\n",
    "             }\n",
    "\n",
    "    plt.rcParams.update(params)\n",
    "plot_style()"
   ]
  },
  {
   "cell_type": "code",
   "execution_count": 2,
   "id": "4d4355e3-cf06-4d41-ab4b-f35d13108a1b",
   "metadata": {},
   "outputs": [],
   "source": [
    "## Global variables\n",
    "# List of available system sizes\n",
    "Ls = [8, 10, 12, 14]\n",
    "# List of available disorder strengths\n",
    "Ws = np.concatenate([np.arange(1,2.6,0.2), np.arange(2.6,4.55,0.05), np.arange(4.7,6.2,0.2)])\n",
    "\n",
    "# Download data\n",
    "# TODO (curl from ERDA)"
   ]
  },
  {
   "cell_type": "code",
   "execution_count": 164,
   "id": "7b5187b0",
   "metadata": {},
   "outputs": [
    {
     "name": "stdout",
     "output_type": "stream",
     "text": [
      "{'0011': 0, '0101': 1, '0110': 2, '1001': 3, '1010': 4, '1100': 5}\n"
     ]
    },
    {
     "data": {
      "text/plain": [
       "array([[0., 0., 0., 0., 0., 0.],\n",
       "       [0., 1., 0., 0., 0., 0.],\n",
       "       [0., 0., 1., 0., 0., 0.],\n",
       "       [0., 0., 0., 0., 0., 0.],\n",
       "       [0., 0., 0., 0., 0., 0.],\n",
       "       [0., 0., 0., 0., 0., 1.]])"
      ]
     },
     "execution_count": 164,
     "metadata": {},
     "output_type": "execute_result"
    }
   ],
   "source": [
    "def ODPM(i, j, L):\n",
    "    num_states = binomial(L)\n",
    "    C = np.zeros((num_states,num_states))\n",
    "    (s2i, i2s) = basisStates(L)\n",
    "    \n",
    "   # print(s2i)\n",
    "    \n",
    "    for key in s2i.keys():\n",
    "#         if (key[i] == '1') and (key[j] == '0'):\n",
    "#             new_state = [x for x in key]\n",
    "#             new_state[i] = '0'\n",
    "#             new_state[j] = '1'\n",
    "#             new_state = ''.join(new_state)\n",
    "#             C[s2i[new_state], s2i[key]], C[s2i[key], s2i[new_state]] = 1, 1\n",
    "            \n",
    "        if( i == j ):\n",
    "            if (key[i] == '1'):\n",
    "                C[ s2i[key], s2i[key]] = 1\n",
    "            if (key[i] == '0'):\n",
    "                C[ s2i[key], s2i[key]] = 0\n",
    "            \n",
    "    return C\n",
    "\n",
    "def n(i, L):\n",
    "    num_states = binomial(L)\n",
    "    C = np.zeros((num_states,num_states))\n",
    "    (s2i, i2s) = basisStates(L)\n",
    "    print(s2i)\n",
    "    for key in s2i.keys():\n",
    "        if (key[i] == '1'):\n",
    "            C[ s2i[key], s2i[key]] = 1\n",
    "            \n",
    "    return C\n",
    "\n",
    "n(1,4)"
   ]
  },
  {
   "cell_type": "code",
   "execution_count": 171,
   "id": "5b86291b-172a-4f6a-98e5-6d838ce42721",
   "metadata": {
    "scrolled": true
   },
   "outputs": [],
   "source": [
    "from utils import *\n",
    "\n",
    "result = {}\n",
    "num_seeds = 100\n",
    "tmp_ws = [1, 12]\n",
    "\n",
    "for L in [10]:\n",
    "    \n",
    "    ODPMs = {}\n",
    "    for i in range(L):\n",
    "        ODPMs[i] = {}\n",
    "        for j in range(L):\n",
    "            ODPMs[i][j] = ODPM(i,j,L)\n",
    "    \n",
    "    result[L] = {}\n",
    "    for W in tmp_ws:\n",
    "        result[L][W] = []\n",
    "        for seed in range(num_seeds):    \n",
    "            H = constructHamiltonian(L = L, W = W, U = 1.0, t = 1.0, seed=seed)\n",
    "            eigvals, eigvecs = np.linalg.eigh(H)\n",
    "            \n",
    "            #print(eigvals)\n",
    "            epsilon = 2*(eigvals - np.min(eigvals))/(np.max(eigvals) - np.min(eigvals))\n",
    "            #print(epsilon)\n",
    "            \n",
    "            idx = np.argmin( np.abs(epsilon - 1) )\n",
    "            ev = eigvecs[:,idx]\n",
    "            \n",
    "            rho = np.zeros( (L, L) )\n",
    "            for i in range(L):\n",
    "                for j in range(L):\n",
    "                    rho[i,j] = np.dot(ev.conj().T, np.dot(ODPMs[i][j], ev))\n",
    "                    \n",
    "            # Diagonalie ODPM\n",
    "            occupations, _ = np.linalg.eigh(rho)\n",
    "        \n",
    "            result[L][W].append( occupations )"
   ]
  },
  {
   "cell_type": "code",
   "execution_count": 172,
   "id": "490ab992-16fc-4e33-b2f0-ce91f85a9b95",
   "metadata": {},
   "outputs": [
    {
     "data": {
      "text/plain": [
       "(array([347.,  60.,  38.,  33.,  23.,  24.,  29.,  41.,  65., 340.]),\n",
       " array([6.28127323e-05, 1.00054299e-01, 2.00045785e-01, 3.00037271e-01,\n",
       "        4.00028756e-01, 5.00020242e-01, 6.00011728e-01, 7.00003214e-01,\n",
       "        7.99994700e-01, 8.99986186e-01, 9.99977672e-01]),\n",
       " <BarContainer object of 10 artists>)"
      ]
     },
     "execution_count": 172,
     "metadata": {},
     "output_type": "execute_result"
    },
    {
     "data": {
      "image/png": "[encoded data removed]",
      "text/plain": [
       "<Figure size 800x494.427 with 1 Axes>"
      ]
     },
     "metadata": {
      "needs_background": "light"
     },
     "output_type": "display_data"
    }
   ],
   "source": [
    "#plt.hist( np.array([result[10][1][a] for a in range(1,num_seeds)]).flatten() )\n",
    "plt.hist( np.array(result[10][12]).flatten() )"
   ]
  },
  {
   "cell_type": "code",
   "execution_count": 173,
   "id": "bf1ac358",
   "metadata": {},
   "outputs": [
    {
     "data": {
      "text/plain": [
       "[<matplotlib.lines.Line2D at 0x7fe10809f050>]"
      ]
     },
     "execution_count": 173,
     "metadata": {},
     "output_type": "execute_result"
    },
    {
     "data": {
      "image/png": "[encoded data removed]",
      "text/plain": [
       "<Figure size 800x494.427 with 1 Axes>"
      ]
     },
     "metadata": {
      "needs_background": "light"
     },
     "output_type": "display_data"
    }
   ],
   "source": [
    "plt.plot( np.sort(np.mean(result[10][1], axis=0))[::-1] )\n",
    "plt.plot( np.sort(np.mean(result[10][12], axis=0))[::-1] )"
   ]
  },
  {
   "cell_type": "code",
   "execution_count": null,
   "id": "02c4f6ce",
   "metadata": {},
   "outputs": [],
   "source": []
  }
 ],
 "metadata": {
  "interpreter": {
   "hash": "40d3a090f54c6569ab1632332b64b2c03c39dcf918b08424e98f38b5ae0af88f"
  },
  "kernelspec": {
   "display_name": "Python 3",
   "language": "python",
   "name": "python3"
  },
  "language_info": {
   "codemirror_mode": {
    "name": "ipython",
    "version": 3
   },
   "file_extension": ".py",
   "mimetype": "text/x-python",
   "name": "python",
   "nbconvert_exporter": "python",
   "pygments_lexer": "ipython3",
   "version": "3.7.6"
  }
 },
 "nbformat": 4,
 "nbformat_minor": 5
}
