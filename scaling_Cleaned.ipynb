{
 "cells": [
  {
   "cell_type": "markdown",
   "id": "fbc4c805",
   "metadata": {},
   "source": [
    "# Scaling collpase cleaned"
   ]
  },
  {
   "cell_type": "code",
   "execution_count": 23,
   "id": "3d4fe083",
   "metadata": {},
   "outputs": [],
   "source": [
    "import numpy as np\n",
    "import matplotlib.pyplot as plt\n",
    "from fssa import quality\n",
    "from tqdm import tqdm\n",
    "import numpy as np\n",
    "import seaborn as sns\n",
    "from scipy.optimize import minimize\n",
    "import fssa"
   ]
  },
  {
   "cell_type": "code",
   "execution_count": 27,
   "id": "9e39efdc",
   "metadata": {},
   "outputs": [],
   "source": [
    "def load_data(rho, Ls= np.arange(8,16,2).astype(float), skip_initial=5):\n",
    "    \n",
    "    Y = np.zeros((len(Ls),len(rho)))\n",
    "    dY = np.zeros((len(Ls),len(rho)))\n",
    "    for index, L in enumerate(Ls):\n",
    "        data = np.load('data/cluster/'+'2nn-{}-combined.npy'.format(int(L)))\n",
    "        Y[index] = np.mean(data,axis=0)\n",
    "        dY[index] = np.std(data,axis=0)\n",
    "\n",
    "    rho = rho[skip_initial:]\n",
    "    Y = Y[:,skip_initial:]\n",
    "    dY = dY[:,skip_initial:]\n",
    "    return rho, Y, dY\n",
    "\n",
    "\n",
    "def x_func(rho, rho_c, l, nu):\n",
    "    return np.power(l, 1./nu) * (rho-rho_c)\n",
    "\n",
    "def x_BKT(rho, rho_c, l, nu):\n",
    "    a = nu\n",
    "    return l*np.exp(-a/np.sqrt(abs(rho-rho_c)))\n",
    "\n",
    "def y_func(y, l, zeta,nu):\n",
    "    return np.power(l, -zeta/nu) * y\n",
    "\n",
    "def goal_function(args = [3.,2.2,1.2]):\n",
    "    rho_c, nu, zeta = args[0],  args[1],  args[2] \n",
    "    #XX = x_func(rho=rho_mesh_local, rho_c=rho_c, l=l_mesh_local ,nu=nu) \n",
    "    x = x_BKT(rho=rho_mesh_local, rho_c=rho_c, l=l_mesh_local ,nu=nu) \n",
    "    y = y_func(y=Y, l=l_mesh_local, zeta=zeta, nu=nu)\n",
    "    dy = y_func(y=dY, l=l_mesh_local, zeta=zeta, nu=nu)\n",
    "    \n",
    "    # sorting for BKT\n",
    "    sorting_index = np.argsort(x)[0]\n",
    "    x = x[:,sorting_index]\n",
    "    y = y[:,sorting_index]\n",
    "    dy = dy[:, sorting_index]    \n",
    "    return quality(x,y,dy)\n",
    "    \n",
    "def scaledata(l, rho, a, da, rho_c, nu, zeta):\n",
    "    r'''\n",
    "    for DOCS see fssa\n",
    "    '''\n",
    "    # l should be 1-D array_like\n",
    "    l = np.asanyarray(l)\n",
    "    if l.ndim != 1:\n",
    "        raise ValueError(\"l should be 1-D array_like\")\n",
    "    # rho should be 1-D array_like\n",
    "    rho = np.asanyarray(rho)\n",
    "    if rho.ndim != 1:\n",
    "        raise ValueError(\"rho should be 1-D array_like\")\n",
    "    # a should be 2-D array_like\n",
    "    a = np.asanyarray(a)\n",
    "    if a.ndim != 2:\n",
    "        raise ValueError(\"a should be 2-D array_like\")\n",
    "    # a should have shape (l.size, rho.size)\n",
    "    if a.shape != (l.size, rho.size):\n",
    "        raise ValueError(\"a should have shape (l.size, rho.size)\")\n",
    "    # da should be 2-D array_like\n",
    "    da = np.asanyarray(da)\n",
    "    if da.ndim != 2:\n",
    "        raise ValueError(\"da should be 2-D array_like\")\n",
    "    # da should have shape (l.size, rho.size)\n",
    "    if da.shape != (l.size, rho.size):\n",
    "        raise ValueError(\"da should have shape (l.size, rho.size)\")\n",
    "    # rho_c should be in range\n",
    "    if rho_c > rho.max() or rho_c < rho.min():\n",
    "        warnings.warn(\"rho_c is out of range\", RuntimeWarning)\n",
    "\n",
    "    # rho_c, nu, and zeta should be float\n",
    "    rho_c = float(rho_c)\n",
    "    nu = float(nu)\n",
    "    zeta = float(zeta)   \n",
    "\n",
    "    l_mesh, rho_mesh = np.meshgrid(l, rho, indexing='ij')\n",
    "    \n",
    "    #x = np.power(l_mesh, 1. / nu) * (rho_mesh - rho_c) ## old\n",
    "    x = l_mesh*np.exp(-1.4/np.sqrt(abs(rho_mesh-rho_c)))  ### This 1.4 is taking from mendes santos :/\n",
    "    y = np.power(l_mesh, - zeta / nu) * a\n",
    "    dy = np.power(l_mesh, - zeta / nu) * da\n",
    "\n",
    "    sorting_index = np.argsort(x)[0]\n",
    "    \n",
    "    x = x[:,sorting_index]\n",
    "    y = y[:,sorting_index]\n",
    "    dy = dy[:, sorting_index]\n",
    "\n",
    "    return ScaledData(x, y, dy)"
   ]
  },
  {
   "cell_type": "code",
   "execution_count": 29,
   "id": "35dfc356",
   "metadata": {},
   "outputs": [],
   "source": [
    "rho = np.linspace(0.1,6.1,31)\n",
    "rho, y, dy = load_data(rho)"
   ]
  },
  {
   "cell_type": "code",
   "execution_count": 12,
   "id": "836d0759",
   "metadata": {},
   "outputs": [
    {
     "name": "stderr",
     "output_type": "stream",
     "text": [
      "100%|██████████| 10000/10000 [02:37<00:00, 63.68it/s]\n"
     ]
    },
    {
     "data": {
      "text/plain": [
       "Text(0, 0.5, 'quality')"
      ]
     },
     "execution_count": 12,
     "metadata": {},
     "output_type": "execute_result"
    },
    {
     "data": {
      "image/png": "[encoded data removed]",
      "text/plain": [
       "<Figure size 432x288 with 1 Axes>"
      ]
     },
     "metadata": {
      "needs_background": "light"
     },
     "output_type": "display_data"
    }
   ],
   "source": [
    "out = []\n",
    "rs = np.linspace(1,7,10000)\n",
    "for r in tqdm(rs):\n",
    "    out.append(goal_function(r,2,2))\n",
    "plt.plot(rs,out, c='r', alpha=.5)\n",
    "plt.xlabel('$W_c$', fontsize=13)\n",
    "plt.ylabel('Quality', fontsize=13)\n",
    "plt.show()"
   ]
  },
  {
   "cell_type": "code",
   "execution_count": 31,
   "id": "dd6afeeb",
   "metadata": {},
   "outputs": [
    {
     "data": {
      "text/plain": [
       "           dnu: 1.2761443204687717\n",
       "          drho: nan\n",
       "         dzeta: 2.3209718565489075\n",
       "        errors: array([       nan, 1.27614432, 2.32097186])\n",
       " final_simplex: (array([[3.91993678, 1.7985039 , 1.7442203 ],\n",
       "       [3.9151196 , 1.80343237, 1.75199902],\n",
       "       [3.92285265, 1.80215994, 1.74215271],\n",
       "       [3.91943889, 1.80470511, 1.75072343]]), array([0.06940015, 0.06940788, 0.06941019, 0.06941343]))\n",
       "           fun: 0.06940015457037921\n",
       "       message: 'Optimization terminated successfully.'\n",
       "          nfev: 80\n",
       "           nit: 43\n",
       "            nu: 1.7985038970242853\n",
       "           rho: 3.9199367832344016\n",
       "        status: 0\n",
       "       success: True\n",
       "         varco: array([[-9.96435222, -4.76961027, -2.81822282],\n",
       "       [-4.76961027,  1.62854433,  3.47746285],\n",
       "       [-2.81822282,  3.47746285,  5.38691036]])\n",
       "             x: array([3.91993678, 1.7985039 , 1.7442203 ])\n",
       "          zeta: 1.74422030018006"
      ]
     },
     "execution_count": 31,
     "metadata": {},
     "output_type": "execute_result"
    }
   ],
   "source": [
    "fssa.autoscale(Ls, rho, y, dy, 3.6,2.,2., 1)"
   ]
  },
  {
   "cell_type": "code",
   "execution_count": null,
   "id": "b5df9e48",
   "metadata": {},
   "outputs": [],
   "source": []
  }
 ],
 "metadata": {
  "kernelspec": {
   "display_name": "Python 3",
   "language": "python",
   "name": "python3"
  },
  "language_info": {
   "codemirror_mode": {
    "name": "ipython",
    "version": 3
   },
   "file_extension": ".py",
   "mimetype": "text/x-python",
   "name": "python",
   "nbconvert_exporter": "python",
   "pygments_lexer": "ipython3",
   "version": "3.8.8"
  }
 },
 "nbformat": 4,
 "nbformat_minor": 5
}
