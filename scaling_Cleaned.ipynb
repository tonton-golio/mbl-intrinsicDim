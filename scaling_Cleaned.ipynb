{
 "cells": [
  {
   "cell_type": "markdown",
   "id": "0853c370",
   "metadata": {},
   "source": [
    "# Scaling collpase cleaned"
   ]
  },
  {
   "cell_type": "code",
   "execution_count": 212,
   "id": "4174f318",
   "metadata": {},
   "outputs": [],
   "source": [
    "import numpy as np\n",
    "import matplotlib.pyplot as plt\n",
    "from fssa import quality\n",
    "from tqdm import tqdm\n",
    "import numpy.ma as ma\n",
    "import numpy as np\n",
    "import seaborn as sns\n",
    "from scipy.optimize import minimize"
   ]
  },
  {
   "cell_type": "code",
   "execution_count": 227,
   "id": "7f3a709e",
   "metadata": {},
   "outputs": [
    {
     "name": "stdout",
     "output_type": "stream",
     "text": [
      "Loaded 10000 out of 10000 seeds\n",
      "Loaded 1000 out of 1000 seeds\n",
      "Loaded 1000 out of 1000 seeds\n",
      "Loaded 1000 out of 1000 seeds\n"
     ]
    }
   ],
   "source": [
    "Ws = np.concatenate([np.arange(1,2.6,0.2), np.arange(2.6,4.55,0.05), np.arange(4.7,6.2,0.2)])\n",
    "def load_IDs(L, seeds):\n",
    "    Ws = np.concatenate([np.arange(1,2.6,0.2), np.arange(2.6,4.55,0.05), np.arange(4.7,6.2,0.2)])\n",
    "\n",
    "    ID = -1*np.ones((len(seeds),len(Ws)))\n",
    "    \n",
    "    count = 0\n",
    "    missing = []\n",
    "    for seed in seeds:\n",
    "        try:\n",
    "            data = np.atleast_2d(np.load(\"data/2nn_L_{0}/2nn_L_{0}_seed_{1}.npy\".format(L,seed), allow_pickle=True))[0]\n",
    "            ID[seed] = np.array([data[i]['ID']*data[i]['rsquared'] for i in range(len(Ws))])\n",
    "        except:\n",
    "            missing.append(seed)\n",
    "            continue\n",
    "            \n",
    "    ID = ma.masked_equal(ID, -1)\n",
    "    print(\"Loaded {0} out of {1} seeds\".format(len(seeds)-len(missing), len(seeds)))\n",
    "    return ID\n",
    "\n",
    "ID8 = load_IDs(8, range(0,10000))\n",
    "ID10 = load_IDs(10, range(0,1000))\n",
    "ID12 = load_IDs(12, range(0,1000))\n",
    "ID14 = load_IDs(14, range(0,1000))"
   ]
  },
  {
   "cell_type": "code",
   "execution_count": 228,
   "id": "7c45a014",
   "metadata": {},
   "outputs": [],
   "source": [
    "def load_data(rho, Ls= np.arange(8,16,2).astype(float), skip_initial=5):\n",
    "    \n",
    "    Y = np.zeros((len(Ls),len(rho)))\n",
    "    dY = np.zeros((len(Ls),len(rho)))\n",
    "    for index, L in enumerate(Ls):\n",
    "        data = np.load('data/cluster/'+'2nn-{}-combined.npy'.format(int(L)))\n",
    "        Y[index] = np.mean(data,axis=0)\n",
    "        dY[index] = np.std(data,axis=0)\n",
    "\n",
    "    rho = rho[skip_initial:]\n",
    "    Y = Y[:,skip_initial:]\n",
    "    dY = dY[:,skip_initial:]\n",
    "    return rho, Y, dY\n",
    "\n",
    "def x_func(rho, rho_c, l, nu):\n",
    "    return np.power(l, 1./nu) * (rho-rho_c)\n",
    "\n",
    "\n",
    "\n",
    "def ff(a,b):\n",
    "    d = {True:1, False:-1}\n",
    "    return d[a<b]\n",
    "\n",
    "ff = np.vectorize(ff)\n",
    "\n",
    "def x_BKT(rho, rho_c, l, nu):\n",
    "    a = nu\n",
    "    sign=ff(rho[0], rho_c)\n",
    "    sign=1\n",
    "    return l*np.exp(sign*a/np.sqrt(abs(rho-rho_c)))\n",
    "\n",
    "def y_func(y, l, zeta,nu):\n",
    "    return np.power(l, -zeta/nu) * y\n",
    "\n",
    "def goal_function(args = [3.,2.2,1.2]):\n",
    "    rho_c, nu, zeta = args[0],  args[1],  args[2] \n",
    "    \n",
    "    x,y,dy = scaledata(l,rho,a,da,rho_c,nu,zeta)\n",
    "    return quality(x,y,dy)\n",
    "    \n",
    "def scaledata(l, rho, a, da, rho_c, nu, zeta):\n",
    "    # rho_c, nu, and zeta should be float\n",
    "    rho_c = float(rho_c)\n",
    "    nu = float(nu)\n",
    "    zeta = float(zeta)   \n",
    "\n",
    "    l_mesh, rho_mesh = np.meshgrid(l, rho, indexing='ij')\n",
    "    \n",
    "    '''x = np.power(l_mesh, 1. / nu) * (rho_mesh - rho_c) ## old'''\n",
    "    #x = l_mesh*np.exp(-1.4/np.sqrt(abs(rho_mesh-rho_c)))  ### This 1.4 is taking from mendes santos :/\n",
    "    x = x_BKT(rho_mesh, rho_c,l_mesh,nu=-1.4)\n",
    "    y = np.power(l_mesh, - zeta / nu) * a\n",
    "    dy = np.power(l_mesh, - zeta / nu) * da\n",
    "\n",
    "    sorting_index = np.argsort(x)[0]\n",
    "    \n",
    "    x = x[:,sorting_index]\n",
    "    y = y[:,sorting_index]\n",
    "    dy = dy[:, sorting_index]\n",
    "\n",
    "    return x, y, dy\n",
    "\n",
    "def autoscale(l, rho, a, da, rho_c0, nu0, zeta0, x_bounds=None, **kwargs):\n",
    "    \n",
    "\n",
    "    ret = minimize(\n",
    "        goal_function,\n",
    "        [rho_c0, nu0, zeta0],\n",
    "        method='Nelder-Mead',\n",
    "        options={\n",
    "            'xtol': 1e-2,\n",
    "            'ftol': 1e-2,\n",
    "        }\n",
    "    )\n",
    "\n",
    "    errors, varco = _neldermead_errors(\n",
    "        sim=ret['final_simplex'][0],\n",
    "        fsim=ret['final_simplex'][1],\n",
    "        fun=goal_function,\n",
    "    )\n",
    "\n",
    "    ret['varco'] = varco\n",
    "    ret['errors'] = errors\n",
    "    ret['rho'], ret['nu'], ret['zeta'] = ret['x']\n",
    "    ret['drho'], ret['dnu'], ret['dzeta'] = ret['errors']\n",
    "\n",
    "    return ret\n",
    "def _neldermead_errors(sim, fsim, fun):\n",
    "    \"\"\"\n",
    "    Estimate the errors from the final simplex of the Nelder--Mead algorithm\n",
    "    This is a helper function and not supposed to be called directly.\n",
    "    Parameters\n",
    "    ----------\n",
    "    sim : ndarray\n",
    "        the final simplex\n",
    "    fsim : ndarray\n",
    "        the function values at the vertices of the final simplex\n",
    "    fun : callable\n",
    "        the goal function to minimize\n",
    "    \"\"\"\n",
    "\n",
    "    # fit quadratic coefficients\n",
    "    n = len(sim) - 1\n",
    "\n",
    "    ymin = fsim[0]\n",
    "\n",
    "    sim = np.copy(sim)\n",
    "    fsim = np.copy(fsim)\n",
    "\n",
    "    centroid = np.mean(sim, axis=0)\n",
    "    fcentroid = fun(centroid)\n",
    "\n",
    "    # enlarge distance of simplex vertices from centroid until all have at\n",
    "    # least an absolute function value distance of 0.1\n",
    "    for i in range(n + 1):\n",
    "        while np.abs(fsim[i] - fcentroid) < 0.01:\n",
    "            sim[i] += sim[i] - centroid\n",
    "            fsim[i] = fun(sim[i])\n",
    "\n",
    "    # the vertices and the midpoints x_ij\n",
    "    x = 0.5 * (\n",
    "        sim[np.mgrid[0:n + 1, 0:n + 1]][1] +\n",
    "        sim[np.mgrid[0:n + 1, 0:n + 1]][0]\n",
    "    )\n",
    "\n",
    "    y = np.nan * np.ones(shape=(n + 1, n + 1))\n",
    "    for i in range(n + 1):\n",
    "        y[i, i] = fsim[i]\n",
    "        for j in range(i + 1, n + 1):\n",
    "            y[i, j] = y[j, i] = fun(x[i, j])\n",
    "\n",
    "    y0i = y[np.mgrid[0:n + 1, 0:n + 1]][0][1:, 1:, 0]\n",
    "\n",
    "    y0j = y[np.mgrid[0:n + 1, 0:n + 1]][0][0, 1:, 1:]\n",
    "\n",
    "    b = 2 * (y[1:, 1:] + y[0, 0] - y0i - y0j)\n",
    "\n",
    "    q = (sim - sim[0])[1:].T\n",
    "\n",
    "    varco = ymin * np.dot(q, np.dot(np.linalg.inv(b), q.T))\n",
    "    return np.sqrt(np.diag(varco)), varco"
   ]
  },
  {
   "cell_type": "code",
   "execution_count": 229,
   "id": "5a1b92a6",
   "metadata": {},
   "outputs": [],
   "source": [
    "rho = np.linspace(0.1,6.1,31)\n",
    "rho, a, da = load_data(rho)\n",
    "l = [8,10,12,14]"
   ]
  },
  {
   "cell_type": "code",
   "execution_count": 230,
   "id": "0f9a0098",
   "metadata": {},
   "outputs": [],
   "source": [
    "rho = np.concatenate([np.arange(1,2.6,0.2), np.arange(2.6,4.55,0.05), np.arange(4.7,6.2,0.2)])\n",
    "a = np.vstack([ma.mean(ID, axis=0) for ID in [ID8,ID10,ID12,ID14]])\n",
    "da = np.vstack([ma.std(ID, axis=0) for ID in [ID8,ID10,ID12,ID14]])"
   ]
  },
  {
   "cell_type": "code",
   "execution_count": 231,
   "id": "b7389845",
   "metadata": {},
   "outputs": [
    {
     "name": "stderr",
     "output_type": "stream",
     "text": [
      "  0%|          | 0/100 [00:00<?, ?it/s]<ipython-input-228-11098974124f>:30: RuntimeWarning: divide by zero encountered in true_divide\n",
      "  return l*np.exp(sign*a/np.sqrt(abs(rho-rho_c)))\n",
      "100%|██████████| 100/100 [00:03<00:00, 29.56it/s]\n"
     ]
    },
    {
     "data": {
      "image/png": "[encoded data removed]",
      "text/plain": [
       "<Figure size 432x288 with 1 Axes>"
      ]
     },
     "metadata": {
      "needs_background": "light"
     },
     "output_type": "display_data"
    }
   ],
   "source": [
    "out = []\n",
    "rs = np.linspace(1,7,100)\n",
    "for r in tqdm(rs):\n",
    "    out.append(goal_function([r,1.5,1.5]))\n",
    "plt.plot(rs,out, c='r', alpha=.5)\n",
    "plt.xlabel('$W_c$', fontsize=13)\n",
    "plt.ylabel('Quality', fontsize=13)\n",
    "plt.show()"
   ]
  },
  {
   "cell_type": "code",
   "execution_count": 232,
   "id": "4d3689f0",
   "metadata": {},
   "outputs": [
    {
     "name": "stderr",
     "output_type": "stream",
     "text": [
      "<ipython-input-228-11098974124f>:141: RuntimeWarning: invalid value encountered in sqrt\n",
      "  return np.sqrt(np.diag(varco)), varco\n"
     ]
    }
   ],
   "source": [
    "ret = autoscale(l, rho, a, da, 3.6,2.,2.)"
   ]
  },
  {
   "cell_type": "code",
   "execution_count": 233,
   "id": "b1baaa6f",
   "metadata": {},
   "outputs": [],
   "source": [
    "x, y, dy = scaledata(l, rho, a, da, ret['rho'], ret['nu'], ret['zeta'])"
   ]
  },
  {
   "cell_type": "code",
   "execution_count": 234,
   "id": "3bf2ffed",
   "metadata": {},
   "outputs": [
    {
     "data": {
      "image/png": "[encoded data removed]",
      "text/plain": [
       "<Figure size 1008x360 with 2 Axes>"
      ]
     },
     "metadata": {
      "needs_background": "light"
     },
     "output_type": "display_data"
    }
   ],
   "source": [
    "fig, ax = plt.subplots(1,2, figsize=(14,5))\n",
    "\n",
    "for i,j,k in zip(np.vstack([rho,rho,rho,rho]),a,da):\n",
    "    ax[0].errorbar(i,j, yerr=k)    \n",
    "\n",
    "for i,j,k in zip(x,y,dy):\n",
    "    ax[1].scatter(i,j)\n",
    "#ax[1].set_xlim(0,100)"
   ]
  },
  {
   "cell_type": "code",
   "execution_count": null,
   "id": "cdf52c40",
   "metadata": {},
   "outputs": [],
   "source": []
  }
 ],
 "metadata": {
  "kernelspec": {
   "display_name": "Python 3",
   "language": "python",
   "name": "python3"
  },
  "language_info": {
   "codemirror_mode": {
    "name": "ipython",
    "version": 3
   },
   "file_extension": ".py",
   "mimetype": "text/x-python",
   "name": "python",
   "nbconvert_exporter": "python",
   "pygments_lexer": "ipython3",
   "version": "3.8.8"
  }
 },
 "nbformat": 4,
 "nbformat_minor": 5
}
